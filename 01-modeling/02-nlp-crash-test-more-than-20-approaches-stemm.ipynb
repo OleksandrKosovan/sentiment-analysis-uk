{
 "cells": [
  {
   "cell_type": "markdown",
   "metadata": {},
   "source": [
    "# Content\n",
    "\n",
    "1. [Import](#1.-Import)\n",
    "2. [Read data](#2.-Read-data)\n",
    "3. [Data research](#3.-Data-research)\n",
    "4. [Data preparation](#4.-Data-preparation)\n",
    "    * [4.1. Text preparation functions](#4.1.-Text-preparation-functions)\n",
    "    * [4.2. Text preparation](#4.2.-Text-preparation)\n",
    "    * [4.3. Split test and train data](#4.3.-Split-test-and-train-data)\n",
    "5. [Modeling](#5.-Modeling)\n",
    "    * [5.1. Modeling import](#5.1.-Modeling-import)\n",
    "    * [5.2. BernoulliNB](#5.2.-BernoulliNB)\n",
    "    * [5.3. Decision Tree Classifier](#5.3.-Decision-Tree-Classifier)\n",
    "    * [5.4. Extra Trees Classifier](#5.4.-ExtraTreesClassifier)\n",
    "    * [5.5. KNeighbors Classifier](#5.5.-KNeighbors-Classifier)\n",
    "    * [5.6. LinearSVC](#5.6.-LinearSVC)\n",
    "    * [5.7. Logistic RegressionCV](#5.7.-LogisticRegressionCV)\n",
    "    * [5.8. MLPClassifier](#5.8.-MLPClassifier)\n",
    "    * [5.9. Random Forest Classifier](#5.9.-Random-Forest-Classifier)\n",
    "    * [5.10. Ridge Classifier](#5.10.-Ridge-Classifier)\n",
    "    * [5.11. RidgeClassifierCV](#5.11.-RidgeClassifierCV)\n",
    "    * [5.12. SVC](#5.12.-SVC)\n",
    "    * [5.13. Gradient Boosting Classifier](#5.13.-Gradient-Boosting-Classifier)\n",
    "    * [5.14. LinearSVC](#5.14.-LinearSVC)\n",
    "    * [5.15. LogisticRegression](#5.15.-LogisticRegression)\n",
    "    * [5.16. SGDClassifier](#5.16.-SGDClassifier)\n",
    "    * [5.17. Perceptron](#5.17.-Perceptron)\n",
    "    * [5.18. Passive Aggressive Classifier](#5.18.-Passive-Aggressive-Classifier)\n",
    "    * [5.19. Model evaluation](#5.19.-Model-evaluation)\n"
   ]
  },
  {
   "cell_type": "markdown",
   "metadata": {},
   "source": [
    "### Work in progress..."
   ]
  },
  {
   "cell_type": "markdown",
   "metadata": {},
   "source": [
    "# 1. Import"
   ]
  },
  {
   "cell_type": "code",
   "execution_count": 59,
   "metadata": {},
   "outputs": [],
   "source": [
    "import os\n",
    "import re\n",
    "import string"
   ]
  },
  {
   "cell_type": "code",
   "execution_count": 60,
   "metadata": {
    "_cell_guid": "b1076dfc-b9ad-4769-8c92-a6c4dae69d19",
    "_uuid": "8f2839f25d086af736a60e9eeb907d3b93b6e0e5"
   },
   "outputs": [],
   "source": [
    "import numpy as np # linear algebra\n",
    "import pandas as pd # data processing, CSV file I/O (e.g. pd.read_csv)"
   ]
  },
  {
   "cell_type": "code",
   "execution_count": 61,
   "metadata": {},
   "outputs": [],
   "source": [
    "# Vectorizers\n",
    "from sklearn.feature_extraction.text import CountVectorizer\n",
    "from sklearn.feature_extraction.text import HashingVectorizer\n",
    "from sklearn.feature_extraction.text import TfidfVectorizer"
   ]
  },
  {
   "cell_type": "code",
   "execution_count": 62,
   "metadata": {},
   "outputs": [],
   "source": [
    "from sklearn.model_selection import train_test_split\n",
    "from sklearn.metrics import f1_score\n",
    "from sklearn.metrics import classification_report"
   ]
  },
  {
   "cell_type": "code",
   "execution_count": 63,
   "metadata": {},
   "outputs": [],
   "source": [
    "from uk_stemmer import UkStemmer"
   ]
  },
  {
   "cell_type": "code",
   "execution_count": 64,
   "metadata": {},
   "outputs": [],
   "source": [
    "stemmer = UkStemmer()\n",
    "\n",
    "def stemming(text):    \n",
    "    prepared_text = text.lower()\n",
    "    words = re.split(r'(\\W)', prepared_text)\n",
    "    words = [word for word in words if word != '']\n",
    "    for i in range(len(words)):\n",
    "        words[i] = stemmer.stem_word(words[i])\n",
    "    stemmed_text = ''.join(words)\n",
    "    return stemmed_text"
   ]
  },
  {
   "cell_type": "markdown",
   "metadata": {},
   "source": [
    "# 2. Read data"
   ]
  },
  {
   "cell_type": "code",
   "execution_count": 65,
   "metadata": {},
   "outputs": [],
   "source": [
    "train = pd.read_csv('data/data-simply-cleaned.csv')"
   ]
  },
  {
   "cell_type": "code",
   "execution_count": 66,
   "metadata": {},
   "outputs": [],
   "source": [
    "train.text = train.text.apply(stemming)"
   ]
  },
  {
   "cell_type": "markdown",
   "metadata": {},
   "source": [
    "# 3. Data research"
   ]
  },
  {
   "cell_type": "code",
   "execution_count": 67,
   "metadata": {},
   "outputs": [
    {
     "data": {
      "text/html": [
       "<div>\n",
       "<style scoped>\n",
       "    .dataframe tbody tr th:only-of-type {\n",
       "        vertical-align: middle;\n",
       "    }\n",
       "\n",
       "    .dataframe tbody tr th {\n",
       "        vertical-align: top;\n",
       "    }\n",
       "\n",
       "    .dataframe thead th {\n",
       "        text-align: right;\n",
       "    }\n",
       "</style>\n",
       "<table border=\"1\" class=\"dataframe\">\n",
       "  <thead>\n",
       "    <tr style=\"text-align: right;\">\n",
       "      <th></th>\n",
       "      <th>text</th>\n",
       "      <th>target</th>\n",
       "    </tr>\n",
       "  </thead>\n",
       "  <tbody>\n",
       "    <tr>\n",
       "      <th>0</th>\n",
       "      <td>forty-one thousand, one hundred and fifteen за...</td>\n",
       "      <td>positive</td>\n",
       "    </tr>\n",
       "    <tr>\n",
       "      <th>1</th>\n",
       "      <td>замовил globex gu803 чохол globex eight thirty...</td>\n",
       "      <td>negative</td>\n",
       "    </tr>\n",
       "    <tr>\n",
       "      <th>2</th>\n",
       "      <td>замовил нов посудомийн машин 1102доставил one ...</td>\n",
       "      <td>negative</td>\n",
       "    </tr>\n",
       "    <tr>\n",
       "      <th>3</th>\n",
       "      <td>замов намет в неділ ввечер мен вон потрібн вже...</td>\n",
       "      <td>negative</td>\n",
       "    </tr>\n",
       "    <tr>\n",
       "      <th>4</th>\n",
       "      <td>замов навушник на розетц через оплат частин пе...</td>\n",
       "      <td>negative</td>\n",
       "    </tr>\n",
       "  </tbody>\n",
       "</table>\n",
       "</div>"
      ],
      "text/plain": [
       "                                                text    target\n",
       "0  forty-one thousand, one hundred and fifteen за...  positive\n",
       "1  замовил globex gu803 чохол globex eight thirty...  negative\n",
       "2  замовил нов посудомийн машин 1102доставил one ...  negative\n",
       "3  замов намет в неділ ввечер мен вон потрібн вже...  negative\n",
       "4  замов навушник на розетц через оплат частин пе...  negative"
      ]
     },
     "execution_count": 67,
     "metadata": {},
     "output_type": "execute_result"
    }
   ],
   "source": [
    "train.head()"
   ]
  },
  {
   "cell_type": "code",
   "execution_count": 68,
   "metadata": {},
   "outputs": [
    {
     "data": {
      "text/plain": [
       "(3034, 2)"
      ]
     },
     "execution_count": 68,
     "metadata": {},
     "output_type": "execute_result"
    }
   ],
   "source": [
    "train.shape"
   ]
  },
  {
   "cell_type": "code",
   "execution_count": 69,
   "metadata": {},
   "outputs": [
    {
     "data": {
      "text/plain": [
       "text      0\n",
       "target    0\n",
       "dtype: int64"
      ]
     },
     "execution_count": 69,
     "metadata": {},
     "output_type": "execute_result"
    }
   ],
   "source": [
    "train.isna().sum()"
   ]
  },
  {
   "cell_type": "code",
   "execution_count": 70,
   "metadata": {},
   "outputs": [
    {
     "data": {
      "text/plain": [
       "array(['positive', 'negative'], dtype=object)"
      ]
     },
     "execution_count": 70,
     "metadata": {},
     "output_type": "execute_result"
    }
   ],
   "source": [
    "train.target.unique()"
   ]
  },
  {
   "cell_type": "code",
   "execution_count": 71,
   "metadata": {},
   "outputs": [],
   "source": [
    "text = train.text\n",
    "target = train.target"
   ]
  },
  {
   "cell_type": "markdown",
   "metadata": {},
   "source": [
    "# 4. Data preparation"
   ]
  },
  {
   "cell_type": "code",
   "execution_count": 72,
   "metadata": {},
   "outputs": [],
   "source": [
    "def do_nothing(tokens):\n",
    "    return tokens\n",
    "\n",
    "# TfidfVectorizer\n",
    "tfidf_vectorizer = TfidfVectorizer(\n",
    "    tokenizer=do_nothing, \n",
    "    preprocessor=None,\n",
    "    lowercase=False,\n",
    "    # ngram_range=(1, 2)\n",
    ")"
   ]
  },
  {
   "cell_type": "code",
   "execution_count": 73,
   "metadata": {},
   "outputs": [],
   "source": [
    "text_counts = tfidf_vectorizer.fit_transform(text)"
   ]
  },
  {
   "cell_type": "markdown",
   "metadata": {},
   "source": [
    "### 4.3. Split test and train data"
   ]
  },
  {
   "cell_type": "code",
   "execution_count": 74,
   "metadata": {},
   "outputs": [],
   "source": [
    "X_train, X_test, y_train, y_test = train_test_split(\n",
    "    text_counts, \n",
    "    target, \n",
    "    test_size=0.3, \n",
    "    random_state=1\n",
    ")"
   ]
  },
  {
   "cell_type": "code",
   "execution_count": 75,
   "metadata": {
    "_cell_guid": "79c7e3d0-c299-4dcb-8224-4455121ee9b0",
    "_uuid": "d629ff2d2480ee46fbb7e2d37f6b5fab8052498a"
   },
   "outputs": [
    {
     "name": "stdout",
     "output_type": "stream",
     "text": [
      "X train shape: (2123, 78)\n",
      "Y train shape: (2123,)\n",
      "X test shape: (911, 78)\n",
      "Y test shape: (911,)\n"
     ]
    }
   ],
   "source": [
    "print(\"X train shape: {0}\".format(X_train.shape))\n",
    "print(\"Y train shape: {0}\".format(y_train.shape))\n",
    "print(\"X test shape: {0}\".format(X_test.shape))\n",
    "print(\"Y test shape: {0}\".format(y_test.shape))"
   ]
  },
  {
   "cell_type": "markdown",
   "metadata": {},
   "source": [
    "# 5. Modeling"
   ]
  },
  {
   "cell_type": "markdown",
   "metadata": {},
   "source": [
    "### 5.1. Modeling import"
   ]
  },
  {
   "cell_type": "code",
   "execution_count": 76,
   "metadata": {},
   "outputs": [],
   "source": [
    "from sklearn.naive_bayes import BernoulliNB\n",
    "from sklearn.tree import DecisionTreeClassifier\n",
    "from sklearn.ensemble import ExtraTreesClassifier\n",
    "from sklearn.naive_bayes import GaussianNB\n",
    "from sklearn.neighbors import KNeighborsClassifier\n",
    "from sklearn.svm import LinearSVC\n",
    "from sklearn.linear_model import LogisticRegression\n",
    "from sklearn.linear_model import LogisticRegressionCV \n",
    "from sklearn.neural_network import MLPClassifier\n",
    "from sklearn.neighbors import NearestCentroid\n",
    "from sklearn.neighbors import RadiusNeighborsClassifier\n",
    "from sklearn.ensemble import RandomForestClassifier\n",
    "from sklearn.linear_model import RidgeClassifier\n",
    "from sklearn.linear_model import RidgeClassifierCV"
   ]
  },
  {
   "cell_type": "code",
   "execution_count": 77,
   "metadata": {},
   "outputs": [],
   "source": [
    "from sklearn.svm import SVC\n",
    "from sklearn.ensemble import GradientBoostingClassifier\n",
    "from sklearn.gaussian_process import GaussianProcessClassifier\n",
    "from sklearn.linear_model import SGDClassifier\n",
    "from sklearn.linear_model import Perceptron\n",
    "from sklearn.linear_model import PassiveAggressiveClassifier"
   ]
  },
  {
   "cell_type": "code",
   "execution_count": 78,
   "metadata": {},
   "outputs": [],
   "source": [
    "def model_scoring(clf, X_test, y_test):\n",
    "    predicted= clf.predict(X_test)\n",
    "    print(classification_report(y_test, predicted))"
   ]
  },
  {
   "cell_type": "markdown",
   "metadata": {},
   "source": [
    "### 5.2. BernoulliNB"
   ]
  },
  {
   "cell_type": "code",
   "execution_count": 79,
   "metadata": {},
   "outputs": [
    {
     "name": "stdout",
     "output_type": "stream",
     "text": [
      "              precision    recall  f1-score   support\n",
      "\n",
      "    negative       0.75      0.69      0.72       590\n",
      "    positive       0.50      0.56      0.53       321\n",
      "\n",
      "    accuracy                           0.65       911\n",
      "   macro avg       0.62      0.63      0.63       911\n",
      "weighted avg       0.66      0.65      0.65       911\n",
      "\n",
      "CPU times: user 42.4 ms, sys: 3.14 ms, total: 45.5 ms\n",
      "Wall time: 46.4 ms\n"
     ]
    }
   ],
   "source": [
    "%%time\n",
    "# BernoulliNB\n",
    "\n",
    "clf = BernoulliNB().fit(X_train, y_train)\n",
    "model_scoring(clf, X_test, y_test)\n",
    "\n",
    "acc_bernouli_nb = round(clf.score(X_test, y_test), 2)"
   ]
  },
  {
   "cell_type": "markdown",
   "metadata": {},
   "source": [
    "### 5.3. Decision Tree Classifier"
   ]
  },
  {
   "cell_type": "code",
   "execution_count": 80,
   "metadata": {},
   "outputs": [
    {
     "name": "stdout",
     "output_type": "stream",
     "text": [
      "              precision    recall  f1-score   support\n",
      "\n",
      "    negative       0.73      0.71      0.72       590\n",
      "    positive       0.49      0.52      0.50       321\n",
      "\n",
      "    accuracy                           0.64       911\n",
      "   macro avg       0.61      0.61      0.61       911\n",
      "weighted avg       0.64      0.64      0.64       911\n",
      "\n",
      "CPU times: user 217 ms, sys: 2.46 ms, total: 219 ms\n",
      "Wall time: 231 ms\n"
     ]
    }
   ],
   "source": [
    "%%time\n",
    "# DecisionTreeClassifier\n",
    "\n",
    "clf = DecisionTreeClassifier().fit(X_train, y_train)\n",
    "model_scoring(clf, X_test, y_test)\n",
    "\n",
    "acc_decision_tree = round(clf.score(X_test, y_test), 2)"
   ]
  },
  {
   "cell_type": "markdown",
   "metadata": {},
   "source": [
    "### 5.4. ExtraTreesClassifier"
   ]
  },
  {
   "cell_type": "code",
   "execution_count": 81,
   "metadata": {},
   "outputs": [
    {
     "name": "stdout",
     "output_type": "stream",
     "text": [
      "              precision    recall  f1-score   support\n",
      "\n",
      "    negative       0.74      0.88      0.81       590\n",
      "    positive       0.67      0.43      0.53       321\n",
      "\n",
      "    accuracy                           0.73       911\n",
      "   macro avg       0.71      0.66      0.67       911\n",
      "weighted avg       0.72      0.73      0.71       911\n",
      "\n",
      "CPU times: user 2.44 s, sys: 17.8 ms, total: 2.46 s\n",
      "Wall time: 2.52 s\n"
     ]
    }
   ],
   "source": [
    "%%time\n",
    "# ExtraTreesClassifier\n",
    "\n",
    "clf = ExtraTreesClassifier().fit(X_train, y_train)\n",
    "model_scoring(clf, X_test, y_test)\n",
    "\n",
    "acc_extra_tree = round(clf.score(X_test, y_test), 2)"
   ]
  },
  {
   "cell_type": "markdown",
   "metadata": {},
   "source": [
    "### 5.5. KNeighbors Classifier"
   ]
  },
  {
   "cell_type": "code",
   "execution_count": 82,
   "metadata": {},
   "outputs": [
    {
     "name": "stdout",
     "output_type": "stream",
     "text": [
      "              precision    recall  f1-score   support\n",
      "\n",
      "    negative       0.73      0.81      0.77       590\n",
      "    positive       0.56      0.45      0.49       321\n",
      "\n",
      "    accuracy                           0.68       911\n",
      "   macro avg       0.64      0.63      0.63       911\n",
      "weighted avg       0.67      0.68      0.67       911\n",
      "\n",
      "CPU times: user 465 ms, sys: 35.3 ms, total: 501 ms\n",
      "Wall time: 517 ms\n"
     ]
    }
   ],
   "source": [
    "%%time\n",
    "# KNeighborsClassifier\n",
    "\n",
    "clf = KNeighborsClassifier().fit(X_train, y_train)\n",
    "model_scoring(clf, X_test, y_test)\n",
    "\n",
    "acc_knn = round(clf.score(X_test, y_test), 2)"
   ]
  },
  {
   "cell_type": "markdown",
   "metadata": {},
   "source": [
    "### 5.6. LinearSVC"
   ]
  },
  {
   "cell_type": "code",
   "execution_count": 83,
   "metadata": {},
   "outputs": [
    {
     "name": "stdout",
     "output_type": "stream",
     "text": [
      "              precision    recall  f1-score   support\n",
      "\n",
      "    negative       0.73      0.84      0.78       590\n",
      "    positive       0.59      0.42      0.49       321\n",
      "\n",
      "    accuracy                           0.69       911\n",
      "   macro avg       0.66      0.63      0.63       911\n",
      "weighted avg       0.68      0.69      0.68       911\n",
      "\n",
      "CPU times: user 97.7 ms, sys: 3.1 ms, total: 101 ms\n",
      "Wall time: 118 ms\n"
     ]
    },
    {
     "name": "stderr",
     "output_type": "stream",
     "text": [
      "/Users/oleksandrkosovan/opt/anaconda3/envs/myenv/lib/python3.7/site-packages/sklearn/svm/_base.py:947: ConvergenceWarning: Liblinear failed to converge, increase the number of iterations.\n",
      "  \"the number of iterations.\", ConvergenceWarning)\n"
     ]
    }
   ],
   "source": [
    "%%time\n",
    "# LinearSVC  (setting multi_class=”crammer_singer”)\n",
    "\n",
    "clf = LinearSVC(multi_class=\"crammer_singer\").fit(X_train, y_train)\n",
    "model_scoring(clf, X_test, y_test)\n",
    "\n",
    "acc_linear_svc = round(clf.score(X_test, y_test), 2)"
   ]
  },
  {
   "cell_type": "markdown",
   "metadata": {},
   "source": [
    "### 5.7. LogisticRegressionCV"
   ]
  },
  {
   "cell_type": "code",
   "execution_count": 84,
   "metadata": {},
   "outputs": [
    {
     "name": "stderr",
     "output_type": "stream",
     "text": [
      "/Users/oleksandrkosovan/opt/anaconda3/envs/myenv/lib/python3.7/site-packages/sklearn/linear_model/_logistic.py:940: ConvergenceWarning: lbfgs failed to converge (status=1):\n",
      "STOP: TOTAL NO. of ITERATIONS REACHED LIMIT.\n",
      "\n",
      "Increase the number of iterations (max_iter) or scale the data as shown in:\n",
      "    https://scikit-learn.org/stable/modules/preprocessing.html\n",
      "Please also refer to the documentation for alternative solver options:\n",
      "    https://scikit-learn.org/stable/modules/linear_model.html#logistic-regression\n",
      "  extra_warning_msg=_LOGISTIC_SOLVER_CONVERGENCE_MSG)\n",
      "/Users/oleksandrkosovan/opt/anaconda3/envs/myenv/lib/python3.7/site-packages/sklearn/linear_model/_logistic.py:940: ConvergenceWarning: lbfgs failed to converge (status=1):\n",
      "STOP: TOTAL NO. of ITERATIONS REACHED LIMIT.\n",
      "\n",
      "Increase the number of iterations (max_iter) or scale the data as shown in:\n",
      "    https://scikit-learn.org/stable/modules/preprocessing.html\n",
      "Please also refer to the documentation for alternative solver options:\n",
      "    https://scikit-learn.org/stable/modules/linear_model.html#logistic-regression\n",
      "  extra_warning_msg=_LOGISTIC_SOLVER_CONVERGENCE_MSG)\n",
      "/Users/oleksandrkosovan/opt/anaconda3/envs/myenv/lib/python3.7/site-packages/sklearn/linear_model/_logistic.py:940: ConvergenceWarning: lbfgs failed to converge (status=1):\n",
      "STOP: TOTAL NO. of ITERATIONS REACHED LIMIT.\n",
      "\n",
      "Increase the number of iterations (max_iter) or scale the data as shown in:\n",
      "    https://scikit-learn.org/stable/modules/preprocessing.html\n",
      "Please also refer to the documentation for alternative solver options:\n",
      "    https://scikit-learn.org/stable/modules/linear_model.html#logistic-regression\n",
      "  extra_warning_msg=_LOGISTIC_SOLVER_CONVERGENCE_MSG)\n",
      "/Users/oleksandrkosovan/opt/anaconda3/envs/myenv/lib/python3.7/site-packages/sklearn/linear_model/_logistic.py:940: ConvergenceWarning: lbfgs failed to converge (status=1):\n",
      "STOP: TOTAL NO. of ITERATIONS REACHED LIMIT.\n",
      "\n",
      "Increase the number of iterations (max_iter) or scale the data as shown in:\n",
      "    https://scikit-learn.org/stable/modules/preprocessing.html\n",
      "Please also refer to the documentation for alternative solver options:\n",
      "    https://scikit-learn.org/stable/modules/linear_model.html#logistic-regression\n",
      "  extra_warning_msg=_LOGISTIC_SOLVER_CONVERGENCE_MSG)\n",
      "/Users/oleksandrkosovan/opt/anaconda3/envs/myenv/lib/python3.7/site-packages/sklearn/linear_model/_logistic.py:940: ConvergenceWarning: lbfgs failed to converge (status=1):\n",
      "STOP: TOTAL NO. of ITERATIONS REACHED LIMIT.\n",
      "\n",
      "Increase the number of iterations (max_iter) or scale the data as shown in:\n",
      "    https://scikit-learn.org/stable/modules/preprocessing.html\n",
      "Please also refer to the documentation for alternative solver options:\n",
      "    https://scikit-learn.org/stable/modules/linear_model.html#logistic-regression\n",
      "  extra_warning_msg=_LOGISTIC_SOLVER_CONVERGENCE_MSG)\n"
     ]
    },
    {
     "name": "stdout",
     "output_type": "stream",
     "text": [
      "              precision    recall  f1-score   support\n",
      "\n",
      "    negative       0.78      0.83      0.80       590\n",
      "    positive       0.64      0.56      0.60       321\n",
      "\n",
      "    accuracy                           0.74       911\n",
      "   macro avg       0.71      0.70      0.70       911\n",
      "weighted avg       0.73      0.74      0.73       911\n",
      "\n",
      "CPU times: user 3.65 s, sys: 18.3 ms, total: 3.67 s\n",
      "Wall time: 3.7 s\n"
     ]
    },
    {
     "name": "stderr",
     "output_type": "stream",
     "text": [
      "/Users/oleksandrkosovan/opt/anaconda3/envs/myenv/lib/python3.7/site-packages/sklearn/linear_model/_logistic.py:940: ConvergenceWarning: lbfgs failed to converge (status=1):\n",
      "STOP: TOTAL NO. of ITERATIONS REACHED LIMIT.\n",
      "\n",
      "Increase the number of iterations (max_iter) or scale the data as shown in:\n",
      "    https://scikit-learn.org/stable/modules/preprocessing.html\n",
      "Please also refer to the documentation for alternative solver options:\n",
      "    https://scikit-learn.org/stable/modules/linear_model.html#logistic-regression\n",
      "  extra_warning_msg=_LOGISTIC_SOLVER_CONVERGENCE_MSG)\n"
     ]
    }
   ],
   "source": [
    "%%time\n",
    "# LogisticRegressionCV(setting multi_class=”multinomial”)\n",
    "\n",
    "clf = LogisticRegressionCV(multi_class=\"multinomial\").fit(X_train, y_train)\n",
    "model_scoring(clf, X_test, y_test)\n",
    "\n",
    "acc_logistic_cv = round(clf.score(X_test, y_test), 2)"
   ]
  },
  {
   "cell_type": "markdown",
   "metadata": {},
   "source": [
    "### 5.8. MLPClassifier"
   ]
  },
  {
   "cell_type": "code",
   "execution_count": 85,
   "metadata": {},
   "outputs": [
    {
     "name": "stdout",
     "output_type": "stream",
     "text": [
      "              precision    recall  f1-score   support\n",
      "\n",
      "    negative       0.79      0.77      0.78       590\n",
      "    positive       0.60      0.63      0.61       321\n",
      "\n",
      "    accuracy                           0.72       911\n",
      "   macro avg       0.69      0.70      0.70       911\n",
      "weighted avg       0.72      0.72      0.72       911\n",
      "\n",
      "CPU times: user 8.73 s, sys: 671 ms, total: 9.4 s\n",
      "Wall time: 4.88 s\n"
     ]
    },
    {
     "name": "stderr",
     "output_type": "stream",
     "text": [
      "/Users/oleksandrkosovan/opt/anaconda3/envs/myenv/lib/python3.7/site-packages/sklearn/neural_network/_multilayer_perceptron.py:571: ConvergenceWarning: Stochastic Optimizer: Maximum iterations (200) reached and the optimization hasn't converged yet.\n",
      "  % self.max_iter, ConvergenceWarning)\n"
     ]
    }
   ],
   "source": [
    "%%time\n",
    "# MLPClassifier\n",
    "\n",
    "clf = MLPClassifier().fit(X_train, y_train)\n",
    "model_scoring(clf, X_test, y_test)\n",
    "\n",
    "acc_mlp = round(clf.score(X_test, y_test), 2)"
   ]
  },
  {
   "cell_type": "markdown",
   "metadata": {},
   "source": [
    "### 5.9. Random Forest Classifier"
   ]
  },
  {
   "cell_type": "code",
   "execution_count": 86,
   "metadata": {},
   "outputs": [
    {
     "name": "stdout",
     "output_type": "stream",
     "text": [
      "              precision    recall  f1-score   support\n",
      "\n",
      "    negative       0.74      0.86      0.80       590\n",
      "    positive       0.64      0.45      0.52       321\n",
      "\n",
      "    accuracy                           0.72       911\n",
      "   macro avg       0.69      0.65      0.66       911\n",
      "weighted avg       0.70      0.72      0.70       911\n",
      "\n",
      "CPU times: user 2.01 s, sys: 26.1 ms, total: 2.03 s\n",
      "Wall time: 1.95 s\n"
     ]
    }
   ],
   "source": [
    "%%time\n",
    "# RandomForestClassifier()\n",
    "\n",
    "clf = RandomForestClassifier().fit(X_train, y_train)\n",
    "model_scoring(clf, X_test, y_test)\n",
    "\n",
    "acc_random_forest = round(clf.score(X_test, y_test), 2)"
   ]
  },
  {
   "cell_type": "markdown",
   "metadata": {},
   "source": [
    "### 5.10. Ridge Classifier"
   ]
  },
  {
   "cell_type": "code",
   "execution_count": 87,
   "metadata": {},
   "outputs": [
    {
     "name": "stdout",
     "output_type": "stream",
     "text": [
      "              precision    recall  f1-score   support\n",
      "\n",
      "    negative       0.75      0.86      0.80       590\n",
      "    positive       0.64      0.47      0.55       321\n",
      "\n",
      "    accuracy                           0.72       911\n",
      "   macro avg       0.70      0.67      0.67       911\n",
      "weighted avg       0.71      0.72      0.71       911\n",
      "\n",
      "CPU times: user 59.6 ms, sys: 6.54 ms, total: 66.1 ms\n",
      "Wall time: 69 ms\n"
     ]
    }
   ],
   "source": [
    "%%time\n",
    "# RidgeClassifier\n",
    "\n",
    "clf = RidgeClassifier().fit(X_train, y_train)\n",
    "model_scoring(clf, X_test, y_test)\n",
    "\n",
    "acc_ridge = round(clf.score(X_test, y_test), 2)"
   ]
  },
  {
   "cell_type": "markdown",
   "metadata": {},
   "source": [
    "### 5.11. RidgeClassifierCV"
   ]
  },
  {
   "cell_type": "code",
   "execution_count": 88,
   "metadata": {},
   "outputs": [
    {
     "name": "stdout",
     "output_type": "stream",
     "text": [
      "              precision    recall  f1-score   support\n",
      "\n",
      "    negative       0.75      0.86      0.80       590\n",
      "    positive       0.64      0.47      0.55       321\n",
      "\n",
      "    accuracy                           0.72       911\n",
      "   macro avg       0.70      0.67      0.67       911\n",
      "weighted avg       0.71      0.72      0.71       911\n",
      "\n",
      "CPU times: user 52 ms, sys: 4.73 ms, total: 56.8 ms\n",
      "Wall time: 60.8 ms\n"
     ]
    }
   ],
   "source": [
    "%%time\n",
    "# RidgeClassifierCV\n",
    "\n",
    "clf = RidgeClassifier().fit(X_train, y_train)\n",
    "model_scoring(clf, X_test, y_test)\n",
    "\n",
    "acc_ridge_cv = round(clf.score(X_test, y_test), 2)"
   ]
  },
  {
   "cell_type": "markdown",
   "metadata": {},
   "source": [
    "### 5.12. SVC"
   ]
  },
  {
   "cell_type": "code",
   "execution_count": 89,
   "metadata": {},
   "outputs": [
    {
     "name": "stdout",
     "output_type": "stream",
     "text": [
      "              precision    recall  f1-score   support\n",
      "\n",
      "    negative       0.73      0.82      0.77       590\n",
      "    positive       0.57      0.44      0.49       321\n",
      "\n",
      "    accuracy                           0.68       911\n",
      "   macro avg       0.65      0.63      0.63       911\n",
      "weighted avg       0.67      0.68      0.67       911\n",
      "\n",
      "CPU times: user 1.09 s, sys: 9.71 ms, total: 1.1 s\n",
      "Wall time: 1.13 s\n"
     ]
    }
   ],
   "source": [
    "%%time\n",
    "# SVC\n",
    "\n",
    "clf = SVC().fit(X_train, y_train)\n",
    "model_scoring(clf, X_test, y_test)\n",
    "\n",
    "acc_svc = round(clf.score(X_test, y_test), 2)"
   ]
  },
  {
   "cell_type": "markdown",
   "metadata": {},
   "source": [
    "### 5.13. Gradient Boosting Classifier"
   ]
  },
  {
   "cell_type": "code",
   "execution_count": 90,
   "metadata": {},
   "outputs": [
    {
     "name": "stdout",
     "output_type": "stream",
     "text": [
      "              precision    recall  f1-score   support\n",
      "\n",
      "    negative       0.76      0.82      0.79       590\n",
      "    positive       0.62      0.53      0.57       321\n",
      "\n",
      "    accuracy                           0.72       911\n",
      "   macro avg       0.69      0.67      0.68       911\n",
      "weighted avg       0.71      0.72      0.71       911\n",
      "\n",
      "CPU times: user 3.07 s, sys: 11.1 ms, total: 3.08 s\n",
      "Wall time: 3.1 s\n"
     ]
    }
   ],
   "source": [
    "%%time\n",
    "# GradientBoostingClassifier\n",
    "\n",
    "clf = GradientBoostingClassifier().fit(X_train, y_train)\n",
    "model_scoring(clf, X_test, y_test)\n",
    "\n",
    "acc_gbc = round(clf.score(X_test, y_test), 2)"
   ]
  },
  {
   "cell_type": "markdown",
   "metadata": {},
   "source": [
    "### 5.14. LinearSVC"
   ]
  },
  {
   "cell_type": "code",
   "execution_count": 91,
   "metadata": {},
   "outputs": [
    {
     "name": "stdout",
     "output_type": "stream",
     "text": [
      "              precision    recall  f1-score   support\n",
      "\n",
      "    negative       0.76      0.85      0.80       590\n",
      "    positive       0.65      0.50      0.56       321\n",
      "\n",
      "    accuracy                           0.73       911\n",
      "   macro avg       0.70      0.67      0.68       911\n",
      "weighted avg       0.72      0.73      0.72       911\n",
      "\n",
      "CPU times: user 71.1 ms, sys: 3.82 ms, total: 74.9 ms\n",
      "Wall time: 76 ms\n"
     ]
    }
   ],
   "source": [
    "%%time\n",
    "# LinearSVC\n",
    "\n",
    "clf = LinearSVC(multi_class = \"ovr\").fit(X_train, y_train)\n",
    "model_scoring(clf, X_test, y_test)\n",
    "\n",
    "acc_linear_svc2 = round(clf.score(X_test, y_test), 2)"
   ]
  },
  {
   "cell_type": "markdown",
   "metadata": {},
   "source": [
    "### 5.15. LogisticRegression"
   ]
  },
  {
   "cell_type": "code",
   "execution_count": 92,
   "metadata": {},
   "outputs": [
    {
     "name": "stdout",
     "output_type": "stream",
     "text": [
      "              precision    recall  f1-score   support\n",
      "\n",
      "    negative       0.73      0.86      0.79       590\n",
      "    positive       0.61      0.40      0.49       321\n",
      "\n",
      "    accuracy                           0.70       911\n",
      "   macro avg       0.67      0.63      0.64       911\n",
      "weighted avg       0.69      0.70      0.68       911\n",
      "\n",
      "CPU times: user 71.8 ms, sys: 2.97 ms, total: 74.8 ms\n",
      "Wall time: 77.9 ms\n"
     ]
    }
   ],
   "source": [
    "%%time\n",
    "# LogisticRegression multi_class=”ovr”\n",
    "\n",
    "clf = LogisticRegression(multi_class=\"ovr\").fit(X_train, y_train)\n",
    "model_scoring(clf, X_test, y_test)\n",
    "\n",
    "acc_logistic_reg = round(clf.score(X_test, y_test), 2)"
   ]
  },
  {
   "cell_type": "markdown",
   "metadata": {},
   "source": [
    "### 5.16. SGDClassifier"
   ]
  },
  {
   "cell_type": "code",
   "execution_count": 93,
   "metadata": {},
   "outputs": [
    {
     "name": "stdout",
     "output_type": "stream",
     "text": [
      "              precision    recall  f1-score   support\n",
      "\n",
      "    negative       0.78      0.77      0.78       590\n",
      "    positive       0.59      0.60      0.59       321\n",
      "\n",
      "    accuracy                           0.71       911\n",
      "   macro avg       0.68      0.68      0.68       911\n",
      "weighted avg       0.71      0.71      0.71       911\n",
      "\n",
      "CPU times: user 59.6 ms, sys: 2.97 ms, total: 62.6 ms\n",
      "Wall time: 63.3 ms\n"
     ]
    }
   ],
   "source": [
    "%%time\n",
    "# SGDClassifier\n",
    "\n",
    "clf = SGDClassifier().fit(X_train, y_train)\n",
    "model_scoring(clf, X_test, y_test)\n",
    "\n",
    "acc_sgd = round(clf.score(X_test, y_test), 2)"
   ]
  },
  {
   "cell_type": "markdown",
   "metadata": {},
   "source": [
    "### 5.17. Perceptron"
   ]
  },
  {
   "cell_type": "code",
   "execution_count": 94,
   "metadata": {},
   "outputs": [
    {
     "name": "stdout",
     "output_type": "stream",
     "text": [
      "              precision    recall  f1-score   support\n",
      "\n",
      "    negative       0.87      0.53      0.66       590\n",
      "    positive       0.50      0.85      0.63       321\n",
      "\n",
      "    accuracy                           0.64       911\n",
      "   macro avg       0.68      0.69      0.64       911\n",
      "weighted avg       0.74      0.64      0.65       911\n",
      "\n",
      "CPU times: user 45.5 ms, sys: 2.74 ms, total: 48.2 ms\n",
      "Wall time: 48.7 ms\n"
     ]
    }
   ],
   "source": [
    "%%time\n",
    "# Perceptron\n",
    "\n",
    "clf = Perceptron().fit(X_train, y_train)\n",
    "model_scoring(clf, X_test, y_test)\n",
    "\n",
    "acc_perceptron = round(clf.score(X_test, y_test), 2)"
   ]
  },
  {
   "cell_type": "markdown",
   "metadata": {},
   "source": [
    "### 5.18. Passive Aggressive Classifier"
   ]
  },
  {
   "cell_type": "code",
   "execution_count": 95,
   "metadata": {},
   "outputs": [
    {
     "name": "stdout",
     "output_type": "stream",
     "text": [
      "              precision    recall  f1-score   support\n",
      "\n",
      "    negative       0.77      0.83      0.80       590\n",
      "    positive       0.64      0.55      0.59       321\n",
      "\n",
      "    accuracy                           0.73       911\n",
      "   macro avg       0.71      0.69      0.70       911\n",
      "weighted avg       0.73      0.73      0.73       911\n",
      "\n",
      "CPU times: user 48.4 ms, sys: 2.41 ms, total: 50.8 ms\n",
      "Wall time: 50.8 ms\n"
     ]
    }
   ],
   "source": [
    "%%time\n",
    "# PassiveAggressiveClassifier\n",
    "\n",
    "clf = PassiveAggressiveClassifier().fit(X_train, y_train)\n",
    "model_scoring(clf, X_test, y_test)\n",
    "\n",
    "acc_pac = round(clf.score(X_test, y_test), 2)"
   ]
  },
  {
   "cell_type": "markdown",
   "metadata": {},
   "source": [
    "### 5.19. Model evaluation"
   ]
  },
  {
   "cell_type": "code",
   "execution_count": 96,
   "metadata": {},
   "outputs": [
    {
     "data": {
      "text/html": [
       "<div>\n",
       "<style scoped>\n",
       "    .dataframe tbody tr th:only-of-type {\n",
       "        vertical-align: middle;\n",
       "    }\n",
       "\n",
       "    .dataframe tbody tr th {\n",
       "        vertical-align: top;\n",
       "    }\n",
       "\n",
       "    .dataframe thead th {\n",
       "        text-align: right;\n",
       "    }\n",
       "</style>\n",
       "<table border=\"1\" class=\"dataframe\">\n",
       "  <thead>\n",
       "    <tr style=\"text-align: right;\">\n",
       "      <th></th>\n",
       "      <th>Models</th>\n",
       "      <th>Scores</th>\n",
       "    </tr>\n",
       "  </thead>\n",
       "  <tbody>\n",
       "    <tr>\n",
       "      <th>5</th>\n",
       "      <td>Logistic Regression CV</td>\n",
       "      <td>0.74</td>\n",
       "    </tr>\n",
       "    <tr>\n",
       "      <th>16</th>\n",
       "      <td>PAC</td>\n",
       "      <td>0.73</td>\n",
       "    </tr>\n",
       "    <tr>\n",
       "      <th>2</th>\n",
       "      <td>Extra Tree</td>\n",
       "      <td>0.73</td>\n",
       "    </tr>\n",
       "    <tr>\n",
       "      <th>12</th>\n",
       "      <td>Linear SVC 2</td>\n",
       "      <td>0.73</td>\n",
       "    </tr>\n",
       "    <tr>\n",
       "      <th>7</th>\n",
       "      <td>Random Forest</td>\n",
       "      <td>0.72</td>\n",
       "    </tr>\n",
       "    <tr>\n",
       "      <th>11</th>\n",
       "      <td>GBC</td>\n",
       "      <td>0.72</td>\n",
       "    </tr>\n",
       "    <tr>\n",
       "      <th>9</th>\n",
       "      <td>Ridge CV</td>\n",
       "      <td>0.72</td>\n",
       "    </tr>\n",
       "    <tr>\n",
       "      <th>8</th>\n",
       "      <td>Ridge</td>\n",
       "      <td>0.72</td>\n",
       "    </tr>\n",
       "    <tr>\n",
       "      <th>6</th>\n",
       "      <td>MLP</td>\n",
       "      <td>0.72</td>\n",
       "    </tr>\n",
       "    <tr>\n",
       "      <th>14</th>\n",
       "      <td>SGDC</td>\n",
       "      <td>0.71</td>\n",
       "    </tr>\n",
       "    <tr>\n",
       "      <th>13</th>\n",
       "      <td>Logistic Regression</td>\n",
       "      <td>0.70</td>\n",
       "    </tr>\n",
       "    <tr>\n",
       "      <th>4</th>\n",
       "      <td>Linear SVC</td>\n",
       "      <td>0.69</td>\n",
       "    </tr>\n",
       "    <tr>\n",
       "      <th>10</th>\n",
       "      <td>SVC</td>\n",
       "      <td>0.68</td>\n",
       "    </tr>\n",
       "    <tr>\n",
       "      <th>3</th>\n",
       "      <td>KNN</td>\n",
       "      <td>0.68</td>\n",
       "    </tr>\n",
       "    <tr>\n",
       "      <th>0</th>\n",
       "      <td>BernoulliNB</td>\n",
       "      <td>0.65</td>\n",
       "    </tr>\n",
       "    <tr>\n",
       "      <th>1</th>\n",
       "      <td>Decision Tree</td>\n",
       "      <td>0.64</td>\n",
       "    </tr>\n",
       "    <tr>\n",
       "      <th>15</th>\n",
       "      <td>Perceptron</td>\n",
       "      <td>0.64</td>\n",
       "    </tr>\n",
       "  </tbody>\n",
       "</table>\n",
       "</div>"
      ],
      "text/plain": [
       "                    Models  Scores\n",
       "5   Logistic Regression CV    0.74\n",
       "16                     PAC    0.73\n",
       "2               Extra Tree    0.73\n",
       "12            Linear SVC 2    0.73\n",
       "7            Random Forest    0.72\n",
       "11                     GBC    0.72\n",
       "9                 Ridge CV    0.72\n",
       "8                    Ridge    0.72\n",
       "6                      MLP    0.72\n",
       "14                    SGDC    0.71\n",
       "13     Logistic Regression    0.70\n",
       "4               Linear SVC    0.69\n",
       "10                     SVC    0.68\n",
       "3                      KNN    0.68\n",
       "0              BernoulliNB    0.65\n",
       "1            Decision Tree    0.64\n",
       "15              Perceptron    0.64"
      ]
     },
     "execution_count": 96,
     "metadata": {},
     "output_type": "execute_result"
    }
   ],
   "source": [
    "# evaluation\n",
    "\n",
    "model_results = pd.DataFrame({\n",
    "    'Models': [\n",
    "        'BernoulliNB',\n",
    "        'Decision Tree',\n",
    "        'Extra Tree',\n",
    "        'KNN',\n",
    "        'Linear SVC',\n",
    "        'Logistic Regression CV',\n",
    "        'MLP',\n",
    "        'Random Forest',\n",
    "        'Ridge',\n",
    "        'Ridge CV',\n",
    "        'SVC',\n",
    "        'GBC',\n",
    "        'Linear SVC 2',\n",
    "        'Logistic Regression',\n",
    "        'SGDC',\n",
    "        'Perceptron',\n",
    "        'PAC'\n",
    "    ],\n",
    "    'Scores': [\n",
    "        acc_bernouli_nb,\n",
    "        acc_decision_tree,\n",
    "        acc_extra_tree,\n",
    "        acc_knn,\n",
    "        acc_linear_svc,\n",
    "        acc_logistic_cv,\n",
    "        acc_mlp,\n",
    "        acc_random_forest,\n",
    "        acc_ridge,\n",
    "        acc_ridge_cv,\n",
    "        acc_svc,\n",
    "        acc_gbc,\n",
    "        acc_linear_svc2,\n",
    "        acc_logistic_reg,\n",
    "        acc_sgd,\n",
    "        acc_perceptron,\n",
    "        acc_pac\n",
    "    ]\n",
    "})\n",
    "model_results.sort_values(by='Scores', ascending=False)"
   ]
  },
  {
   "cell_type": "code",
   "execution_count": null,
   "metadata": {},
   "outputs": [],
   "source": []
  },
  {
   "cell_type": "code",
   "execution_count": null,
   "metadata": {},
   "outputs": [],
   "source": []
  }
 ],
 "metadata": {
  "kernelspec": {
   "display_name": "Python (myenv)",
   "language": "python",
   "name": "myenv"
  },
  "language_info": {
   "codemirror_mode": {
    "name": "ipython",
    "version": 3
   },
   "file_extension": ".py",
   "mimetype": "text/x-python",
   "name": "python",
   "nbconvert_exporter": "python",
   "pygments_lexer": "ipython3",
   "version": "3.7.5"
  }
 },
 "nbformat": 4,
 "nbformat_minor": 1
}
