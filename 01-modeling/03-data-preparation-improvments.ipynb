{
 "cells": [
  {
   "cell_type": "markdown",
   "metadata": {},
   "source": [
    "### Import"
   ]
  },
  {
   "cell_type": "code",
   "execution_count": 201,
   "metadata": {},
   "outputs": [],
   "source": [
    "import pandas as pd"
   ]
  },
  {
   "cell_type": "code",
   "execution_count": 202,
   "metadata": {},
   "outputs": [],
   "source": [
    "import re\n",
    "import unicodedata"
   ]
  },
  {
   "cell_type": "markdown",
   "metadata": {},
   "source": [
    "### Read data"
   ]
  },
  {
   "cell_type": "code",
   "execution_count": 203,
   "metadata": {},
   "outputs": [],
   "source": [
    "df = pd.read_csv('data/not-clean-data.csv')"
   ]
  },
  {
   "cell_type": "code",
   "execution_count": 204,
   "metadata": {},
   "outputs": [
    {
     "data": {
      "text/html": [
       "<div>\n",
       "<style scoped>\n",
       "    .dataframe tbody tr th:only-of-type {\n",
       "        vertical-align: middle;\n",
       "    }\n",
       "\n",
       "    .dataframe tbody tr th {\n",
       "        vertical-align: top;\n",
       "    }\n",
       "\n",
       "    .dataframe thead th {\n",
       "        text-align: right;\n",
       "    }\n",
       "</style>\n",
       "<table border=\"1\" class=\"dataframe\">\n",
       "  <thead>\n",
       "    <tr style=\"text-align: right;\">\n",
       "      <th></th>\n",
       "      <th>text</th>\n",
       "      <th>target</th>\n",
       "    </tr>\n",
       "  </thead>\n",
       "  <tbody>\n",
       "    <tr>\n",
       "      <th>0</th>\n",
       "      <td>4.11.15 замовив ноутбук Lenovo B590 + мишка в ...</td>\n",
       "      <td>positive</td>\n",
       "    </tr>\n",
       "    <tr>\n",
       "      <th>1</th>\n",
       "      <td>замовила Globex GU803, Чохол Globex 8 &amp;#39;+ к...</td>\n",
       "      <td>negative</td>\n",
       "    </tr>\n",
       "    <tr>\n",
       "      <th>2</th>\n",
       "      <td>Замовили нову посудомийну машину 11.02\\nДостав...</td>\n",
       "      <td>negative</td>\n",
       "    </tr>\n",
       "    <tr>\n",
       "      <th>3</th>\n",
       "      <td>Замовив намет в неділю ввечері, мені вона потр...</td>\n",
       "      <td>negative</td>\n",
       "    </tr>\n",
       "    <tr>\n",
       "      <th>4</th>\n",
       "      <td>Замовив навушники на \"Розетці\" через оплату ча...</td>\n",
       "      <td>negative</td>\n",
       "    </tr>\n",
       "  </tbody>\n",
       "</table>\n",
       "</div>"
      ],
      "text/plain": [
       "                                                text    target\n",
       "0  4.11.15 замовив ноутбук Lenovo B590 + мишка в ...  positive\n",
       "1  замовила Globex GU803, Чохол Globex 8 &#39;+ к...  negative\n",
       "2  Замовили нову посудомийну машину 11.02\\nДостав...  negative\n",
       "3  Замовив намет в неділю ввечері, мені вона потр...  negative\n",
       "4  Замовив навушники на \"Розетці\" через оплату ча...  negative"
      ]
     },
     "execution_count": 204,
     "metadata": {},
     "output_type": "execute_result"
    }
   ],
   "source": [
    "df = df.drop('Unnamed: 0', 1)\n",
    "df.head()"
   ]
  },
  {
   "cell_type": "markdown",
   "metadata": {},
   "source": [
    "### Functions"
   ]
  },
  {
   "cell_type": "code",
   "execution_count": 205,
   "metadata": {},
   "outputs": [],
   "source": [
    "def unicode_normalization(text):\n",
    "    \"\"\"\"\n",
    "    Remove string like \"\\xa0\\\"\n",
    "    \"\"\"\n",
    "    normalized_text = unicodedata.normalize(\"NFKD\", text)\n",
    "    return normalized_text"
   ]
  },
  {
   "cell_type": "code",
   "execution_count": 206,
   "metadata": {},
   "outputs": [],
   "source": [
    "def remove_paragraph(text_corpus):\n",
    "    \"\"\"\"\n",
    "    Remove \"\\n\"\n",
    "    \"\"\"\n",
    "    new_text_corpus = text_corpus.replace('\\n','')\n",
    "    return new_text_corpus"
   ]
  },
  {
   "cell_type": "code",
   "execution_count": 207,
   "metadata": {},
   "outputs": [],
   "source": [
    "def remove_button_words(text):\n",
    "    \"\"\"\"\n",
    "    Remove button words like розгорнути / згорнути\n",
    "    \"\"\"\n",
    "    new_text = text.replace('розгорнути','')\n",
    "    new_text = new_text.replace('згорнути','')\n",
    "    return new_text"
   ]
  },
  {
   "cell_type": "code",
   "execution_count": 208,
   "metadata": {},
   "outputs": [],
   "source": [
    "def to_lowercase(text_corpus):\n",
    "    \"\"\"Convert all characters to lowercase from list of tokenized words\"\"\"\n",
    "    words = text_corpus.split(' ')\n",
    "    new_words = []\n",
    "    for word in words:\n",
    "        new_word = word.lower()\n",
    "        new_words.append(new_word)\n",
    "    return ' '.join(new_words)"
   ]
  },
  {
   "cell_type": "code",
   "execution_count": 209,
   "metadata": {},
   "outputs": [],
   "source": [
    "def remove_punctuation(text_corpus):\n",
    "    \"\"\"Remove punctuation from list of tokenized words\"\"\"\n",
    "    words = text_corpus.split(' ')\n",
    "    new_words = []\n",
    "    for word in words:\n",
    "        new_word = re.sub(r'[^\\w\\s]', '', word)\n",
    "        if new_word != '':\n",
    "            new_words.append(new_word)\n",
    "    return ' '.join(new_words)"
   ]
  },
  {
   "cell_type": "code",
   "execution_count": 210,
   "metadata": {},
   "outputs": [],
   "source": [
    "def remove_numbers(text):\n",
    "    return ''.join([i for i in text if not i.isdigit()])"
   ]
  },
  {
   "cell_type": "code",
   "execution_count": 211,
   "metadata": {},
   "outputs": [],
   "source": [
    "def text_normalization(text):\n",
    "    new_text = unicode_normalization(text)\n",
    "    new_text = remove_paragraph(new_text)\n",
    "    new_text = remove_button_words(new_text)\n",
    "    new_text = to_lowercase(new_text)\n",
    "    new_text = remove_punctuation(new_text)\n",
    "    new_text = remove_numbers(new_text)\n",
    "    return new_text "
   ]
  },
  {
   "cell_type": "markdown",
   "metadata": {},
   "source": [
    "### Stop words"
   ]
  },
  {
   "cell_type": "code",
   "execution_count": 212,
   "metadata": {},
   "outputs": [],
   "source": [
    "# https://www.marazm.org.ua/windows/50_141.html\n",
    "\n",
    "stop_words = \"\"\"\n",
    "а, б, в, г, ґ, д, е, є, ж, з, и, і, ї, й, к, л, м, н, о, п, р, с, т, у, ф, х, ц, ч, ш, щ, ь, ю, я,\n",
    "без, більш, більше, буде, начебто, би, був, була, були, було, бути, вам, вас, \n",
    "адже, увесь, уздовж, раптом, замість, поза, униз, унизу, усередині, в, навколо, от, втім, \n",
    "усі, завжди, усього, усіх, усю, ви, де, так, давай, давати, навіть, для, до, досить, інший, \n",
    "його, йому, її, її, їй, якщо, є, ще, ще, же, за, за винятком, тут, з, через, з, або, їм, \n",
    "мати, іноді, їх, якось, хто, коли, крім, хто, куди, чи, або, між, мене, мені, багато, може, \n",
    "моє, моє, мої, мій, ми, на, назавжди, над, треба, нарешті, нас, наш, не, його, ні, небудь, \n",
    "ніколи, їм, їх, нічого, але, ну, про, однак, він, вона, вони, воно, знову, від, тому, дуже, \n",
    "перед, по, під, після, потім, тому, тому що, майже, при, про, раз, хіба, свою, себе, сказати, \n",
    "знову, з, зовсім, так, також, такі, такий, там, ті, тебе, тем, тепер, те, тоді, того, теж, тієї, \n",
    "тільки, тому, той, отут, ти, уже, хоч, хоча, чого, чогось, чий, чому, через, що, щось, щоб, \n",
    "щоб, ледве, чиє, чия, ця, ці, це, цю, цього, цьому, цей\n",
    "\"\"\""
   ]
  },
  {
   "cell_type": "code",
   "execution_count": 213,
   "metadata": {},
   "outputs": [],
   "source": [
    "stop_words = remove_paragraph(stop_words)\n",
    "stop_words_list = stop_words.split(\", \")"
   ]
  },
  {
   "cell_type": "code",
   "execution_count": 214,
   "metadata": {},
   "outputs": [
    {
     "data": {
      "text/plain": [
       "198"
      ]
     },
     "execution_count": 214,
     "metadata": {},
     "output_type": "execute_result"
    }
   ],
   "source": [
    "len(stop_words_list)"
   ]
  },
  {
   "cell_type": "code",
   "execution_count": 215,
   "metadata": {},
   "outputs": [],
   "source": [
    "def remove_stop_words(text):\n",
    "    words = text.split(' ')\n",
    "    new_words = []\n",
    "    for word in words:\n",
    "        if word not in stop_words_list:\n",
    "            new_words.append(word)\n",
    "    return ' '.join(new_words)"
   ]
  },
  {
   "cell_type": "markdown",
   "metadata": {},
   "source": [
    "### Data cleaning"
   ]
  },
  {
   "cell_type": "code",
   "execution_count": 216,
   "metadata": {},
   "outputs": [],
   "source": [
    "df.text = df.text.apply(text_normalization)"
   ]
  },
  {
   "cell_type": "code",
   "execution_count": 217,
   "metadata": {},
   "outputs": [
    {
     "data": {
      "text/plain": [
       "'зробила замовлення на саиті  листопада  року на vitek vt вибрала бажании час доставки на  листопада мені передзвонили і сказали що доставка буде  листопада я погодилася фен доставили діисно  листопада але при цьому коробка була помята ввечері приишла додому і вирішила випробувати цеи фен що обертається в обидві сторони підсумок так він обертається але тільки в руках а не на волоссі при тому що у мене коротке волосся а далі ще краще кнопка обертання в ліву сторону просто западає після цього я почала розглядати цеи фен і виявила на ньому невеликі подряпини у підсумку на наступнии день поіхала в магазин на вул протасов яр щоб зробити повернення але тут не все так просто повернення ніхто не зробив забрали на діагностику сказали протягом  днів передзвонять сьогодні  листопада я сама передзвонила дізнатися коли ж мені повернуть гроші на що почула відповідь що фен відправлено в офіціинии центр vitek де як мені сказали він може знаходиться в перебігу  днів вкраи не рекомендую цеи магазин ром'"
      ]
     },
     "execution_count": 217,
     "metadata": {},
     "output_type": "execute_result"
    }
   ],
   "source": [
    "text = df.text[456]\n",
    "text"
   ]
  },
  {
   "cell_type": "code",
   "execution_count": 218,
   "metadata": {},
   "outputs": [
    {
     "data": {
      "text/plain": [
       "998"
      ]
     },
     "execution_count": 218,
     "metadata": {},
     "output_type": "execute_result"
    }
   ],
   "source": [
    "len(text)"
   ]
  },
  {
   "cell_type": "code",
   "execution_count": 219,
   "metadata": {},
   "outputs": [],
   "source": [
    "df.text = df.text.apply(remove_stop_words)"
   ]
  },
  {
   "cell_type": "code",
   "execution_count": 220,
   "metadata": {},
   "outputs": [
    {
     "data": {
      "text/plain": [
       "'зробила замовлення саиті  листопада  року vitek vt вибрала бажании час доставки  листопада передзвонили сказали доставка  листопада я погодилася фен доставили діисно  листопада коробка помята ввечері приишла додому вирішила випробувати цеи фен обертається обидві сторони підсумок обертається руках волоссі коротке волосся далі краще кнопка обертання ліву сторону просто западає я почала розглядати цеи фен виявила ньому невеликі подряпини підсумку наступнии день поіхала магазин вул протасов яр зробити повернення все просто повернення ніхто зробив забрали діагностику сказали протягом  днів передзвонять сьогодні  листопада я сама передзвонила дізнатися повернуть гроші почула відповідь фен відправлено офіціинии центр vitek як сказали знаходиться перебігу  днів вкраи рекомендую цеи магазин ром'"
      ]
     },
     "execution_count": 220,
     "metadata": {},
     "output_type": "execute_result"
    }
   ],
   "source": [
    "text = df.text[456]\n",
    "text"
   ]
  },
  {
   "cell_type": "code",
   "execution_count": 221,
   "metadata": {},
   "outputs": [
    {
     "data": {
      "text/plain": [
       "796"
      ]
     },
     "execution_count": 221,
     "metadata": {},
     "output_type": "execute_result"
    }
   ],
   "source": [
    "len(text)"
   ]
  },
  {
   "cell_type": "markdown",
   "metadata": {},
   "source": [
    "### Save cleaned data"
   ]
  },
  {
   "cell_type": "code",
   "execution_count": 222,
   "metadata": {},
   "outputs": [],
   "source": [
    "df.to_csv('data/simply-cleaned-data-v2.csv', index=False)"
   ]
  },
  {
   "cell_type": "code",
   "execution_count": null,
   "metadata": {},
   "outputs": [],
   "source": []
  },
  {
   "cell_type": "code",
   "execution_count": null,
   "metadata": {},
   "outputs": [],
   "source": []
  }
 ],
 "metadata": {
  "kernelspec": {
   "display_name": "Python (myenv)",
   "language": "python",
   "name": "myenv"
  },
  "language_info": {
   "codemirror_mode": {
    "name": "ipython",
    "version": 3
   },
   "file_extension": ".py",
   "mimetype": "text/x-python",
   "name": "python",
   "nbconvert_exporter": "python",
   "pygments_lexer": "ipython3",
   "version": "3.7.5"
  }
 },
 "nbformat": 4,
 "nbformat_minor": 2
}
