{
 "cells": [
  {
   "cell_type": "markdown",
   "metadata": {},
   "source": [
    "# Content\n",
    "\n",
    "1. [Import](#1.-Import)\n",
    "2. [Read data](#2.-Read-data)\n",
    "3. [Data research](#3.-Data-research)\n",
    "4. [Data preparation](#4.-Data-preparation)\n",
    "    * [4.1. Text preparation functions](#4.1.-Text-preparation-functions)\n",
    "    * [4.2. Text preparation](#4.2.-Text-preparation)\n",
    "    * [4.3. Split test and train data](#4.3.-Split-test-and-train-data)\n",
    "5. [Modeling](#5.-Modeling)\n",
    "    * [5.1. Modeling import](#5.1.-Modeling-import)\n",
    "    * [5.2. BernoulliNB](#5.2.-BernoulliNB)\n",
    "    * [5.3. Decision Tree Classifier](#5.3.-Decision-Tree-Classifier)\n",
    "    * [5.4. Extra Trees Classifier](#5.4.-ExtraTreesClassifier)\n",
    "    * [5.5. KNeighbors Classifier](#5.5.-KNeighbors-Classifier)\n",
    "    * [5.6. LinearSVC](#5.6.-LinearSVC)\n",
    "    * [5.7. Logistic RegressionCV](#5.7.-LogisticRegressionCV)\n",
    "    * [5.8. MLPClassifier](#5.8.-MLPClassifier)\n",
    "    * [5.9. Random Forest Classifier](#5.9.-Random-Forest-Classifier)\n",
    "    * [5.10. Ridge Classifier](#5.10.-Ridge-Classifier)\n",
    "    * [5.11. RidgeClassifierCV](#5.11.-RidgeClassifierCV)\n",
    "    * [5.12. SVC](#5.12.-SVC)\n",
    "    * [5.13. Gradient Boosting Classifier](#5.13.-Gradient-Boosting-Classifier)\n",
    "    * [5.14. LinearSVC](#5.14.-LinearSVC)\n",
    "    * [5.15. LogisticRegression](#5.15.-LogisticRegression)\n",
    "    * [5.16. SGDClassifier](#5.16.-SGDClassifier)\n",
    "    * [5.17. Perceptron](#5.17.-Perceptron)\n",
    "    * [5.18. Passive Aggressive Classifier](#5.18.-Passive-Aggressive-Classifier)\n",
    "    * [5.19. Model evaluation](#5.19.-Model-evaluation)\n"
   ]
  },
  {
   "cell_type": "markdown",
   "metadata": {},
   "source": [
    "# 1. Import"
   ]
  },
  {
   "cell_type": "code",
   "execution_count": 1176,
   "metadata": {},
   "outputs": [],
   "source": [
    "import os\n",
    "import re\n",
    "import string"
   ]
  },
  {
   "cell_type": "code",
   "execution_count": 1177,
   "metadata": {
    "_cell_guid": "b1076dfc-b9ad-4769-8c92-a6c4dae69d19",
    "_uuid": "8f2839f25d086af736a60e9eeb907d3b93b6e0e5"
   },
   "outputs": [],
   "source": [
    "import numpy as np # linear algebra\n",
    "import pandas as pd # data processing, CSV file I/O (e.g. pd.read_csv)"
   ]
  },
  {
   "cell_type": "code",
   "execution_count": 1178,
   "metadata": {},
   "outputs": [],
   "source": [
    "# Vectorizers\n",
    "from sklearn.feature_extraction.text import TfidfVectorizer"
   ]
  },
  {
   "cell_type": "code",
   "execution_count": 1179,
   "metadata": {},
   "outputs": [],
   "source": [
    "from sklearn.model_selection import train_test_split\n",
    "from sklearn.metrics import f1_score\n",
    "from sklearn.metrics import classification_report"
   ]
  },
  {
   "cell_type": "markdown",
   "metadata": {},
   "source": [
    "# 2. Read data"
   ]
  },
  {
   "cell_type": "code",
   "execution_count": 1180,
   "metadata": {},
   "outputs": [],
   "source": [
    "train = pd.read_csv('data/lemmatazed-data.csv')"
   ]
  },
  {
   "cell_type": "markdown",
   "metadata": {},
   "source": [
    "# 3. Data research"
   ]
  },
  {
   "cell_type": "code",
   "execution_count": 1181,
   "metadata": {},
   "outputs": [
    {
     "data": {
      "text/html": [
       "<div>\n",
       "<style scoped>\n",
       "    .dataframe tbody tr th:only-of-type {\n",
       "        vertical-align: middle;\n",
       "    }\n",
       "\n",
       "    .dataframe tbody tr th {\n",
       "        vertical-align: top;\n",
       "    }\n",
       "\n",
       "    .dataframe thead th {\n",
       "        text-align: right;\n",
       "    }\n",
       "</style>\n",
       "<table border=\"1\" class=\"dataframe\">\n",
       "  <thead>\n",
       "    <tr style=\"text-align: right;\">\n",
       "      <th></th>\n",
       "      <th>text</th>\n",
       "      <th>target</th>\n",
       "    </tr>\n",
       "  </thead>\n",
       "  <tbody>\n",
       "    <tr>\n",
       "      <td>0</td>\n",
       "      <td>персонал магазин не бути знайомий з процес вид...</td>\n",
       "      <td>positive</td>\n",
       "    </tr>\n",
       "    <tr>\n",
       "      <td>1</td>\n",
       "      <td>замовляти з дружина в розетка багато, але пове...</td>\n",
       "      <td>negative</td>\n",
       "    </tr>\n",
       "    <tr>\n",
       "      <td>2</td>\n",
       "      <td>після перше|перший коментар про телефон Meizu ...</td>\n",
       "      <td>negative</td>\n",
       "    </tr>\n",
       "    <tr>\n",
       "      <td>3</td>\n",
       "      <td>1. за година до доставка я ніхто не подзвонити...</td>\n",
       "      <td>negative</td>\n",
       "    </tr>\n",
       "    <tr>\n",
       "      <td>4</td>\n",
       "      <td>зробити замовлення на сайт розетка набір бласт...</td>\n",
       "      <td>positive</td>\n",
       "    </tr>\n",
       "  </tbody>\n",
       "</table>\n",
       "</div>"
      ],
      "text/plain": [
       "                                                text    target\n",
       "0  персонал магазин не бути знайомий з процес вид...  positive\n",
       "1  замовляти з дружина в розетка багато, але пове...  negative\n",
       "2  після перше|перший коментар про телефон Meizu ...  negative\n",
       "3  1. за година до доставка я ніхто не подзвонити...  negative\n",
       "4  зробити замовлення на сайт розетка набір бласт...  positive"
      ]
     },
     "execution_count": 1181,
     "metadata": {},
     "output_type": "execute_result"
    }
   ],
   "source": [
    "train.head()"
   ]
  },
  {
   "cell_type": "code",
   "execution_count": 1182,
   "metadata": {},
   "outputs": [
    {
     "data": {
      "text/plain": [
       "(3034, 2)"
      ]
     },
     "execution_count": 1182,
     "metadata": {},
     "output_type": "execute_result"
    }
   ],
   "source": [
    "train.shape"
   ]
  },
  {
   "cell_type": "code",
   "execution_count": 1183,
   "metadata": {},
   "outputs": [
    {
     "data": {
      "text/plain": [
       "text      0\n",
       "target    0\n",
       "dtype: int64"
      ]
     },
     "execution_count": 1183,
     "metadata": {},
     "output_type": "execute_result"
    }
   ],
   "source": [
    "train.isna().sum()"
   ]
  },
  {
   "cell_type": "code",
   "execution_count": 1184,
   "metadata": {},
   "outputs": [
    {
     "data": {
      "text/plain": [
       "array(['positive', 'negative'], dtype=object)"
      ]
     },
     "execution_count": 1184,
     "metadata": {},
     "output_type": "execute_result"
    }
   ],
   "source": [
    "train.target.unique()"
   ]
  },
  {
   "cell_type": "markdown",
   "metadata": {},
   "source": [
    "# 4. Data preparation"
   ]
  },
  {
   "cell_type": "code",
   "execution_count": 1185,
   "metadata": {},
   "outputs": [],
   "source": [
    "from preparator import text_normalization"
   ]
  },
  {
   "cell_type": "code",
   "execution_count": 1186,
   "metadata": {},
   "outputs": [],
   "source": [
    "train.text = train.text.apply(text_normalization)"
   ]
  },
  {
   "cell_type": "code",
   "execution_count": 1187,
   "metadata": {},
   "outputs": [],
   "source": [
    "def do_nothing(tokens):\n",
    "    return tokens\n",
    "\n",
    "# TfidfVectorizer\n",
    "tfidf_vectorizer = TfidfVectorizer(\n",
    "    tokenizer=do_nothing, \n",
    "    preprocessor=None,\n",
    "    lowercase=False,\n",
    "    # ngram_range=(1, 2)\n",
    ")"
   ]
  },
  {
   "cell_type": "code",
   "execution_count": 1188,
   "metadata": {},
   "outputs": [],
   "source": [
    "text_counts = tfidf_vectorizer.fit_transform(text)"
   ]
  },
  {
   "cell_type": "code",
   "execution_count": 1189,
   "metadata": {},
   "outputs": [],
   "source": [
    "text = train.text\n",
    "target = train.target"
   ]
  },
  {
   "cell_type": "markdown",
   "metadata": {},
   "source": [
    "### 4.3. Split test and train data"
   ]
  },
  {
   "cell_type": "code",
   "execution_count": 1190,
   "metadata": {},
   "outputs": [],
   "source": [
    "X_train, X_test, y_train, y_test = train_test_split(\n",
    "    text_counts, \n",
    "    target, \n",
    "    test_size=0.33, \n",
    "    random_state=4521\n",
    ")"
   ]
  },
  {
   "cell_type": "code",
   "execution_count": 1191,
   "metadata": {
    "_cell_guid": "79c7e3d0-c299-4dcb-8224-4455121ee9b0",
    "_uuid": "d629ff2d2480ee46fbb7e2d37f6b5fab8052498a"
   },
   "outputs": [
    {
     "name": "stdout",
     "output_type": "stream",
     "text": [
      "X train shape: (2032, 62)\n",
      "Y train shape: (2032,)\n",
      "X test shape: (1002, 62)\n",
      "Y test shape: (1002,)\n"
     ]
    }
   ],
   "source": [
    "print(\"X train shape: {0}\".format(X_train.shape))\n",
    "print(\"Y train shape: {0}\".format(y_train.shape))\n",
    "print(\"X test shape: {0}\".format(X_test.shape))\n",
    "print(\"Y test shape: {0}\".format(y_test.shape))"
   ]
  },
  {
   "cell_type": "markdown",
   "metadata": {},
   "source": [
    "# 5. Modeling"
   ]
  },
  {
   "cell_type": "markdown",
   "metadata": {},
   "source": [
    "### 5.1. Modeling import"
   ]
  },
  {
   "cell_type": "code",
   "execution_count": 1192,
   "metadata": {},
   "outputs": [],
   "source": [
    "from sklearn.naive_bayes import BernoulliNB\n",
    "from sklearn.tree import DecisionTreeClassifier\n",
    "from sklearn.ensemble import ExtraTreesClassifier\n",
    "from sklearn.naive_bayes import GaussianNB\n",
    "from sklearn.neighbors import KNeighborsClassifier\n",
    "from sklearn.svm import LinearSVC\n",
    "from sklearn.linear_model import LogisticRegression\n",
    "from sklearn.linear_model import LogisticRegressionCV \n",
    "from sklearn.neural_network import MLPClassifier\n",
    "from sklearn.neighbors import NearestCentroid\n",
    "from sklearn.neighbors import RadiusNeighborsClassifier\n",
    "from sklearn.ensemble import RandomForestClassifier\n",
    "from sklearn.linear_model import RidgeClassifier\n",
    "from sklearn.linear_model import RidgeClassifierCV"
   ]
  },
  {
   "cell_type": "code",
   "execution_count": 1193,
   "metadata": {},
   "outputs": [],
   "source": [
    "from sklearn.svm import SVC\n",
    "from sklearn.ensemble import GradientBoostingClassifier\n",
    "from sklearn.gaussian_process import GaussianProcessClassifier\n",
    "from sklearn.linear_model import SGDClassifier\n",
    "from sklearn.linear_model import Perceptron\n",
    "from sklearn.linear_model import PassiveAggressiveClassifier"
   ]
  },
  {
   "cell_type": "code",
   "execution_count": 1194,
   "metadata": {},
   "outputs": [],
   "source": [
    "def model_scoring(clf, X_test, y_test):\n",
    "    predicted= clf.predict(X_test)\n",
    "    print(classification_report(y_test, predicted))"
   ]
  },
  {
   "cell_type": "markdown",
   "metadata": {},
   "source": [
    "### 5.2. BernoulliNB"
   ]
  },
  {
   "cell_type": "code",
   "execution_count": 1195,
   "metadata": {},
   "outputs": [
    {
     "name": "stdout",
     "output_type": "stream",
     "text": [
      "              precision    recall  f1-score   support\n",
      "\n",
      "    negative       0.68      0.57      0.62       639\n",
      "    positive       0.41      0.53      0.47       363\n",
      "\n",
      "    accuracy                           0.56      1002\n",
      "   macro avg       0.55      0.55      0.54      1002\n",
      "weighted avg       0.59      0.56      0.57      1002\n",
      "\n",
      "CPU times: user 46.9 ms, sys: 3.85 ms, total: 50.7 ms\n",
      "Wall time: 53.1 ms\n"
     ]
    }
   ],
   "source": [
    "%%time\n",
    "# BernoulliNB\n",
    "\n",
    "clf = BernoulliNB().fit(X_train, y_train)\n",
    "model_scoring(clf, X_test, y_test)\n",
    "\n",
    "acc_bernouli_nb = round(clf.score(X_test, y_test), 2)"
   ]
  },
  {
   "cell_type": "markdown",
   "metadata": {},
   "source": [
    "### 5.3. Decision Tree Classifier"
   ]
  },
  {
   "cell_type": "code",
   "execution_count": 1196,
   "metadata": {},
   "outputs": [
    {
     "name": "stdout",
     "output_type": "stream",
     "text": [
      "              precision    recall  f1-score   support\n",
      "\n",
      "    negative       0.73      0.69      0.71       639\n",
      "    positive       0.50      0.54      0.52       363\n",
      "\n",
      "    accuracy                           0.64      1002\n",
      "   macro avg       0.61      0.62      0.61      1002\n",
      "weighted avg       0.64      0.64      0.64      1002\n",
      "\n",
      "CPU times: user 178 ms, sys: 2.99 ms, total: 181 ms\n",
      "Wall time: 193 ms\n"
     ]
    }
   ],
   "source": [
    "%%time\n",
    "# DecisionTreeClassifier\n",
    "\n",
    "clf = DecisionTreeClassifier().fit(X_train, y_train)\n",
    "model_scoring(clf, X_test, y_test)\n",
    "\n",
    "acc_decision_tree = round(clf.score(X_test, y_test), 2)"
   ]
  },
  {
   "cell_type": "markdown",
   "metadata": {},
   "source": [
    "### 5.4. ExtraTreesClassifier"
   ]
  },
  {
   "cell_type": "code",
   "execution_count": 1197,
   "metadata": {},
   "outputs": [
    {
     "name": "stderr",
     "output_type": "stream",
     "text": [
      "/Users/oleksandrkosovan/opt/anaconda3/lib/python3.7/site-packages/sklearn/ensemble/forest.py:245: FutureWarning: The default value of n_estimators will change from 10 in version 0.20 to 100 in 0.22.\n",
      "  \"10 in version 0.20 to 100 in 0.22.\", FutureWarning)\n"
     ]
    },
    {
     "name": "stdout",
     "output_type": "stream",
     "text": [
      "              precision    recall  f1-score   support\n",
      "\n",
      "    negative       0.70      0.87      0.78       639\n",
      "    positive       0.60      0.35      0.44       363\n",
      "\n",
      "    accuracy                           0.68      1002\n",
      "   macro avg       0.65      0.61      0.61      1002\n",
      "weighted avg       0.67      0.68      0.66      1002\n",
      "\n",
      "CPU times: user 267 ms, sys: 5.61 ms, total: 273 ms\n",
      "Wall time: 288 ms\n"
     ]
    }
   ],
   "source": [
    "%%time\n",
    "# ExtraTreesClassifier\n",
    "\n",
    "clf = ExtraTreesClassifier().fit(X_train, y_train)\n",
    "model_scoring(clf, X_test, y_test)\n",
    "\n",
    "acc_extra_tree = round(clf.score(X_test, y_test), 2)"
   ]
  },
  {
   "cell_type": "markdown",
   "metadata": {},
   "source": [
    "### 5.5. KNeighbors Classifier"
   ]
  },
  {
   "cell_type": "code",
   "execution_count": 1198,
   "metadata": {},
   "outputs": [
    {
     "name": "stdout",
     "output_type": "stream",
     "text": [
      "              precision    recall  f1-score   support\n",
      "\n",
      "    negative       0.69      0.86      0.76       639\n",
      "    positive       0.55      0.31      0.40       363\n",
      "\n",
      "    accuracy                           0.66      1002\n",
      "   macro avg       0.62      0.59      0.58      1002\n",
      "weighted avg       0.64      0.66      0.63      1002\n",
      "\n",
      "CPU times: user 779 ms, sys: 34.9 ms, total: 814 ms\n",
      "Wall time: 594 ms\n"
     ]
    }
   ],
   "source": [
    "%%time\n",
    "# KNeighborsClassifier\n",
    "\n",
    "clf = KNeighborsClassifier().fit(X_train, y_train)\n",
    "model_scoring(clf, X_test, y_test)\n",
    "\n",
    "acc_knn = round(clf.score(X_test, y_test), 2)"
   ]
  },
  {
   "cell_type": "markdown",
   "metadata": {},
   "source": [
    "### 5.6. LinearSVC"
   ]
  },
  {
   "cell_type": "code",
   "execution_count": 1199,
   "metadata": {},
   "outputs": [
    {
     "name": "stdout",
     "output_type": "stream",
     "text": [
      "              precision    recall  f1-score   support\n",
      "\n",
      "    negative       0.70      0.96      0.81       639\n",
      "    positive       0.80      0.28      0.42       363\n",
      "\n",
      "    accuracy                           0.71      1002\n",
      "   macro avg       0.75      0.62      0.61      1002\n",
      "weighted avg       0.74      0.71      0.67      1002\n",
      "\n",
      "CPU times: user 154 ms, sys: 3.69 ms, total: 158 ms\n",
      "Wall time: 135 ms\n"
     ]
    },
    {
     "name": "stderr",
     "output_type": "stream",
     "text": [
      "/Users/oleksandrkosovan/opt/anaconda3/lib/python3.7/site-packages/sklearn/svm/base.py:929: ConvergenceWarning: Liblinear failed to converge, increase the number of iterations.\n",
      "  \"the number of iterations.\", ConvergenceWarning)\n"
     ]
    }
   ],
   "source": [
    "%%time\n",
    "# LinearSVC  (setting multi_class=”crammer_singer”)\n",
    "\n",
    "clf = LinearSVC(multi_class=\"crammer_singer\").fit(X_train, y_train)\n",
    "model_scoring(clf, X_test, y_test)\n",
    "\n",
    "acc_linear_svc = round(clf.score(X_test, y_test), 2)"
   ]
  },
  {
   "cell_type": "markdown",
   "metadata": {},
   "source": [
    "### 5.7. LogisticRegressionCV"
   ]
  },
  {
   "cell_type": "code",
   "execution_count": 1200,
   "metadata": {},
   "outputs": [
    {
     "name": "stderr",
     "output_type": "stream",
     "text": [
      "/Users/oleksandrkosovan/opt/anaconda3/lib/python3.7/site-packages/sklearn/model_selection/_split.py:1978: FutureWarning: The default value of cv will change from 3 to 5 in version 0.22. Specify it explicitly to silence this warning.\n",
      "  warnings.warn(CV_WARNING, FutureWarning)\n",
      "/Users/oleksandrkosovan/opt/anaconda3/lib/python3.7/site-packages/sklearn/linear_model/logistic.py:947: ConvergenceWarning: lbfgs failed to converge. Increase the number of iterations.\n",
      "  \"of iterations.\", ConvergenceWarning)\n",
      "/Users/oleksandrkosovan/opt/anaconda3/lib/python3.7/site-packages/sklearn/linear_model/logistic.py:947: ConvergenceWarning: lbfgs failed to converge. Increase the number of iterations.\n",
      "  \"of iterations.\", ConvergenceWarning)\n",
      "/Users/oleksandrkosovan/opt/anaconda3/lib/python3.7/site-packages/sklearn/linear_model/logistic.py:947: ConvergenceWarning: lbfgs failed to converge. Increase the number of iterations.\n",
      "  \"of iterations.\", ConvergenceWarning)\n"
     ]
    },
    {
     "name": "stdout",
     "output_type": "stream",
     "text": [
      "              precision    recall  f1-score   support\n",
      "\n",
      "    negative       0.77      0.85      0.81       639\n",
      "    positive       0.68      0.55      0.61       363\n",
      "\n",
      "    accuracy                           0.74      1002\n",
      "   macro avg       0.72      0.70      0.71      1002\n",
      "weighted avg       0.74      0.74      0.73      1002\n",
      "\n",
      "CPU times: user 1.61 s, sys: 12.5 ms, total: 1.63 s\n",
      "Wall time: 1.67 s\n"
     ]
    },
    {
     "name": "stderr",
     "output_type": "stream",
     "text": [
      "/Users/oleksandrkosovan/opt/anaconda3/lib/python3.7/site-packages/sklearn/linear_model/logistic.py:947: ConvergenceWarning: lbfgs failed to converge. Increase the number of iterations.\n",
      "  \"of iterations.\", ConvergenceWarning)\n"
     ]
    }
   ],
   "source": [
    "%%time\n",
    "# LogisticRegressionCV(setting multi_class=”multinomial”)\n",
    "\n",
    "clf = LogisticRegressionCV(multi_class=\"multinomial\").fit(X_train, y_train)\n",
    "model_scoring(clf, X_test, y_test)\n",
    "\n",
    "acc_logistic_cv = round(clf.score(X_test, y_test), 2)"
   ]
  },
  {
   "cell_type": "markdown",
   "metadata": {},
   "source": [
    "### 5.8. MLPClassifier"
   ]
  },
  {
   "cell_type": "code",
   "execution_count": 1201,
   "metadata": {},
   "outputs": [
    {
     "name": "stdout",
     "output_type": "stream",
     "text": [
      "              precision    recall  f1-score   support\n",
      "\n",
      "    negative       0.76      0.86      0.81       639\n",
      "    positive       0.68      0.52      0.59       363\n",
      "\n",
      "    accuracy                           0.74      1002\n",
      "   macro avg       0.72      0.69      0.70      1002\n",
      "weighted avg       0.73      0.74      0.73      1002\n",
      "\n",
      "CPU times: user 8.04 s, sys: 121 ms, total: 8.16 s\n",
      "Wall time: 4.25 s\n"
     ]
    },
    {
     "name": "stderr",
     "output_type": "stream",
     "text": [
      "/Users/oleksandrkosovan/opt/anaconda3/lib/python3.7/site-packages/sklearn/neural_network/multilayer_perceptron.py:566: ConvergenceWarning: Stochastic Optimizer: Maximum iterations (200) reached and the optimization hasn't converged yet.\n",
      "  % self.max_iter, ConvergenceWarning)\n"
     ]
    }
   ],
   "source": [
    "%%time\n",
    "# MLPClassifier\n",
    "\n",
    "clf = MLPClassifier().fit(X_train, y_train)\n",
    "model_scoring(clf, X_test, y_test)\n",
    "\n",
    "acc_mlp = round(clf.score(X_test, y_test), 2)"
   ]
  },
  {
   "cell_type": "markdown",
   "metadata": {},
   "source": [
    "### 5.9. Random Forest Classifier"
   ]
  },
  {
   "cell_type": "code",
   "execution_count": 1202,
   "metadata": {},
   "outputs": [
    {
     "name": "stderr",
     "output_type": "stream",
     "text": [
      "/Users/oleksandrkosovan/opt/anaconda3/lib/python3.7/site-packages/sklearn/ensemble/forest.py:245: FutureWarning: The default value of n_estimators will change from 10 in version 0.20 to 100 in 0.22.\n",
      "  \"10 in version 0.20 to 100 in 0.22.\", FutureWarning)\n"
     ]
    },
    {
     "name": "stdout",
     "output_type": "stream",
     "text": [
      "              precision    recall  f1-score   support\n",
      "\n",
      "    negative       0.71      0.86      0.78       639\n",
      "    positive       0.60      0.37      0.46       363\n",
      "\n",
      "    accuracy                           0.68      1002\n",
      "   macro avg       0.66      0.62      0.62      1002\n",
      "weighted avg       0.67      0.68      0.66      1002\n",
      "\n",
      "CPU times: user 333 ms, sys: 6.11 ms, total: 339 ms\n",
      "Wall time: 227 ms\n"
     ]
    }
   ],
   "source": [
    "%%time\n",
    "# RandomForestClassifier()\n",
    "\n",
    "clf = RandomForestClassifier().fit(X_train, y_train)\n",
    "model_scoring(clf, X_test, y_test)\n",
    "\n",
    "acc_random_forest = round(clf.score(X_test, y_test), 2)"
   ]
  },
  {
   "cell_type": "markdown",
   "metadata": {},
   "source": [
    "### 5.10. Ridge Classifier"
   ]
  },
  {
   "cell_type": "code",
   "execution_count": 1203,
   "metadata": {},
   "outputs": [
    {
     "name": "stdout",
     "output_type": "stream",
     "text": [
      "              precision    recall  f1-score   support\n",
      "\n",
      "    negative       0.74      0.92      0.82       639\n",
      "    positive       0.74      0.42      0.54       363\n",
      "\n",
      "    accuracy                           0.74      1002\n",
      "   macro avg       0.74      0.67      0.68      1002\n",
      "weighted avg       0.74      0.74      0.71      1002\n",
      "\n",
      "CPU times: user 61.4 ms, sys: 3.28 ms, total: 64.7 ms\n",
      "Wall time: 64.4 ms\n"
     ]
    }
   ],
   "source": [
    "%%time\n",
    "# RidgeClassifier\n",
    "\n",
    "clf = RidgeClassifier().fit(X_train, y_train)\n",
    "model_scoring(clf, X_test, y_test)\n",
    "\n",
    "acc_ridge = round(clf.score(X_test, y_test), 2)"
   ]
  },
  {
   "cell_type": "markdown",
   "metadata": {},
   "source": [
    "### 5.11. RidgeClassifierCV"
   ]
  },
  {
   "cell_type": "code",
   "execution_count": 1204,
   "metadata": {},
   "outputs": [
    {
     "name": "stdout",
     "output_type": "stream",
     "text": [
      "              precision    recall  f1-score   support\n",
      "\n",
      "    negative       0.74      0.92      0.82       639\n",
      "    positive       0.74      0.42      0.54       363\n",
      "\n",
      "    accuracy                           0.74      1002\n",
      "   macro avg       0.74      0.67      0.68      1002\n",
      "weighted avg       0.74      0.74      0.71      1002\n",
      "\n",
      "CPU times: user 64.7 ms, sys: 3.18 ms, total: 67.9 ms\n",
      "Wall time: 70.5 ms\n"
     ]
    }
   ],
   "source": [
    "%%time\n",
    "# RidgeClassifierCV\n",
    "\n",
    "clf = RidgeClassifier().fit(X_train, y_train)\n",
    "model_scoring(clf, X_test, y_test)\n",
    "\n",
    "acc_ridge_cv = round(clf.score(X_test, y_test), 2)"
   ]
  },
  {
   "cell_type": "markdown",
   "metadata": {},
   "source": [
    "### 5.12. SVC"
   ]
  },
  {
   "cell_type": "code",
   "execution_count": 1205,
   "metadata": {},
   "outputs": [
    {
     "name": "stderr",
     "output_type": "stream",
     "text": [
      "/Users/oleksandrkosovan/opt/anaconda3/lib/python3.7/site-packages/sklearn/svm/base.py:193: FutureWarning: The default value of gamma will change from 'auto' to 'scale' in version 0.22 to account better for unscaled features. Set gamma explicitly to 'auto' or 'scale' to avoid this warning.\n",
      "  \"avoid this warning.\", FutureWarning)\n",
      "/Users/oleksandrkosovan/opt/anaconda3/lib/python3.7/site-packages/sklearn/metrics/classification.py:1437: UndefinedMetricWarning: Precision and F-score are ill-defined and being set to 0.0 in labels with no predicted samples.\n",
      "  'precision', 'predicted', average, warn_for)\n"
     ]
    },
    {
     "name": "stdout",
     "output_type": "stream",
     "text": [
      "              precision    recall  f1-score   support\n",
      "\n",
      "    negative       0.64      1.00      0.78       639\n",
      "    positive       0.00      0.00      0.00       363\n",
      "\n",
      "    accuracy                           0.64      1002\n",
      "   macro avg       0.32      0.50      0.39      1002\n",
      "weighted avg       0.41      0.64      0.50      1002\n",
      "\n",
      "CPU times: user 790 ms, sys: 9.33 ms, total: 800 ms\n",
      "Wall time: 873 ms\n"
     ]
    }
   ],
   "source": [
    "%%time\n",
    "# SVC\n",
    "\n",
    "clf = SVC().fit(X_train, y_train)\n",
    "model_scoring(clf, X_test, y_test)\n",
    "\n",
    "acc_svc = round(clf.score(X_test, y_test), 2)"
   ]
  },
  {
   "cell_type": "markdown",
   "metadata": {},
   "source": [
    "### 5.13. Gradient Boosting Classifier"
   ]
  },
  {
   "cell_type": "code",
   "execution_count": 1206,
   "metadata": {},
   "outputs": [
    {
     "name": "stdout",
     "output_type": "stream",
     "text": [
      "              precision    recall  f1-score   support\n",
      "\n",
      "    negative       0.76      0.86      0.81       639\n",
      "    positive       0.68      0.52      0.59       363\n",
      "\n",
      "    accuracy                           0.74      1002\n",
      "   macro avg       0.72      0.69      0.70      1002\n",
      "weighted avg       0.73      0.74      0.73      1002\n",
      "\n",
      "CPU times: user 2.17 s, sys: 9.67 ms, total: 2.18 s\n",
      "Wall time: 2.2 s\n"
     ]
    }
   ],
   "source": [
    "%%time\n",
    "# GradientBoostingClassifier\n",
    "\n",
    "clf = GradientBoostingClassifier().fit(X_train, y_train)\n",
    "model_scoring(clf, X_test, y_test)\n",
    "\n",
    "acc_gbc = round(clf.score(X_test, y_test), 2)"
   ]
  },
  {
   "cell_type": "markdown",
   "metadata": {},
   "source": [
    "### 5.14. LinearSVC"
   ]
  },
  {
   "cell_type": "code",
   "execution_count": 1207,
   "metadata": {},
   "outputs": [
    {
     "name": "stdout",
     "output_type": "stream",
     "text": [
      "              precision    recall  f1-score   support\n",
      "\n",
      "    negative       0.75      0.89      0.81       639\n",
      "    positive       0.71      0.47      0.57       363\n",
      "\n",
      "    accuracy                           0.74      1002\n",
      "   macro avg       0.73      0.68      0.69      1002\n",
      "weighted avg       0.73      0.74      0.72      1002\n",
      "\n",
      "CPU times: user 68.6 ms, sys: 2.99 ms, total: 71.6 ms\n",
      "Wall time: 76.7 ms\n"
     ]
    }
   ],
   "source": [
    "%%time\n",
    "# LinearSVC\n",
    "\n",
    "clf = LinearSVC(multi_class = \"ovr\").fit(X_train, y_train)\n",
    "model_scoring(clf, X_test, y_test)\n",
    "\n",
    "acc_linear_svc2 = round(clf.score(X_test, y_test), 2)"
   ]
  },
  {
   "cell_type": "markdown",
   "metadata": {},
   "source": [
    "### 5.15. LogisticRegression"
   ]
  },
  {
   "cell_type": "code",
   "execution_count": 1208,
   "metadata": {},
   "outputs": [
    {
     "name": "stdout",
     "output_type": "stream",
     "text": [
      "              precision    recall  f1-score   support\n",
      "\n",
      "    negative       0.68      0.99      0.80       639\n",
      "    positive       0.87      0.17      0.28       363\n",
      "\n",
      "    accuracy                           0.69      1002\n",
      "   macro avg       0.77      0.58      0.54      1002\n",
      "weighted avg       0.75      0.69      0.61      1002\n",
      "\n",
      "CPU times: user 51.2 ms, sys: 2.8 ms, total: 54 ms\n",
      "Wall time: 62 ms\n"
     ]
    },
    {
     "name": "stderr",
     "output_type": "stream",
     "text": [
      "/Users/oleksandrkosovan/opt/anaconda3/lib/python3.7/site-packages/sklearn/linear_model/logistic.py:432: FutureWarning: Default solver will be changed to 'lbfgs' in 0.22. Specify a solver to silence this warning.\n",
      "  FutureWarning)\n"
     ]
    }
   ],
   "source": [
    "%%time\n",
    "# LogisticRegression multi_class=”ovr”\n",
    "\n",
    "clf = LogisticRegression(multi_class=\"ovr\").fit(X_train, y_train)\n",
    "model_scoring(clf, X_test, y_test)\n",
    "\n",
    "acc_logistic_reg = round(clf.score(X_test, y_test), 2)"
   ]
  },
  {
   "cell_type": "markdown",
   "metadata": {},
   "source": [
    "### 5.16. SGDClassifier"
   ]
  },
  {
   "cell_type": "code",
   "execution_count": 1209,
   "metadata": {},
   "outputs": [
    {
     "name": "stdout",
     "output_type": "stream",
     "text": [
      "              precision    recall  f1-score   support\n",
      "\n",
      "    negative       0.73      0.93      0.82       639\n",
      "    positive       0.76      0.40      0.52       363\n",
      "\n",
      "    accuracy                           0.74      1002\n",
      "   macro avg       0.74      0.66      0.67      1002\n",
      "weighted avg       0.74      0.74      0.71      1002\n",
      "\n",
      "CPU times: user 59.4 ms, sys: 2.99 ms, total: 62.4 ms\n",
      "Wall time: 75.2 ms\n"
     ]
    }
   ],
   "source": [
    "%%time\n",
    "# SGDClassifier\n",
    "\n",
    "clf = SGDClassifier().fit(X_train, y_train)\n",
    "model_scoring(clf, X_test, y_test)\n",
    "\n",
    "acc_sgd = round(clf.score(X_test, y_test), 2)"
   ]
  },
  {
   "cell_type": "markdown",
   "metadata": {},
   "source": [
    "### 5.17. Perceptron"
   ]
  },
  {
   "cell_type": "code",
   "execution_count": 1210,
   "metadata": {},
   "outputs": [
    {
     "name": "stdout",
     "output_type": "stream",
     "text": [
      "              precision    recall  f1-score   support\n",
      "\n",
      "    negative       0.74      0.92      0.82       639\n",
      "    positive       0.74      0.42      0.54       363\n",
      "\n",
      "    accuracy                           0.74      1002\n",
      "   macro avg       0.74      0.67      0.68      1002\n",
      "weighted avg       0.74      0.74      0.71      1002\n",
      "\n",
      "CPU times: user 44.3 ms, sys: 2.34 ms, total: 46.7 ms\n",
      "Wall time: 53.4 ms\n"
     ]
    }
   ],
   "source": [
    "%%time\n",
    "# Perceptron\n",
    "\n",
    "clf = Perceptron().fit(X_train, y_train)\n",
    "model_scoring(clf, X_test, y_test)\n",
    "\n",
    "acc_perceptron = round(clf.score(X_test, y_test), 2)"
   ]
  },
  {
   "cell_type": "markdown",
   "metadata": {},
   "source": [
    "### 5.18. Passive Aggressive Classifier"
   ]
  },
  {
   "cell_type": "code",
   "execution_count": 1211,
   "metadata": {},
   "outputs": [
    {
     "name": "stdout",
     "output_type": "stream",
     "text": [
      "              precision    recall  f1-score   support\n",
      "\n",
      "    negative       0.73      0.93      0.82       639\n",
      "    positive       0.76      0.38      0.50       363\n",
      "\n",
      "    accuracy                           0.73      1002\n",
      "   macro avg       0.74      0.66      0.66      1002\n",
      "weighted avg       0.74      0.73      0.70      1002\n",
      "\n",
      "CPU times: user 45.7 ms, sys: 2.35 ms, total: 48 ms\n",
      "Wall time: 60.2 ms\n"
     ]
    }
   ],
   "source": [
    "%%time\n",
    "# PassiveAggressiveClassifier\n",
    "\n",
    "clf = PassiveAggressiveClassifier().fit(X_train, y_train)\n",
    "model_scoring(clf, X_test, y_test)\n",
    "\n",
    "acc_pac = round(clf.score(X_test, y_test), 2)"
   ]
  },
  {
   "cell_type": "markdown",
   "metadata": {},
   "source": [
    "### 5.19. Model evaluation"
   ]
  },
  {
   "cell_type": "code",
   "execution_count": 1212,
   "metadata": {},
   "outputs": [
    {
     "data": {
      "text/html": [
       "<div>\n",
       "<style scoped>\n",
       "    .dataframe tbody tr th:only-of-type {\n",
       "        vertical-align: middle;\n",
       "    }\n",
       "\n",
       "    .dataframe tbody tr th {\n",
       "        vertical-align: top;\n",
       "    }\n",
       "\n",
       "    .dataframe thead th {\n",
       "        text-align: right;\n",
       "    }\n",
       "</style>\n",
       "<table border=\"1\" class=\"dataframe\">\n",
       "  <thead>\n",
       "    <tr style=\"text-align: right;\">\n",
       "      <th></th>\n",
       "      <th>Models</th>\n",
       "      <th>Scores</th>\n",
       "    </tr>\n",
       "  </thead>\n",
       "  <tbody>\n",
       "    <tr>\n",
       "      <td>8</td>\n",
       "      <td>Ridge</td>\n",
       "      <td>0.74</td>\n",
       "    </tr>\n",
       "    <tr>\n",
       "      <td>9</td>\n",
       "      <td>Ridge CV</td>\n",
       "      <td>0.74</td>\n",
       "    </tr>\n",
       "    <tr>\n",
       "      <td>15</td>\n",
       "      <td>Perceptron</td>\n",
       "      <td>0.74</td>\n",
       "    </tr>\n",
       "    <tr>\n",
       "      <td>14</td>\n",
       "      <td>SGDC</td>\n",
       "      <td>0.74</td>\n",
       "    </tr>\n",
       "    <tr>\n",
       "      <td>12</td>\n",
       "      <td>Linear SVC 2</td>\n",
       "      <td>0.74</td>\n",
       "    </tr>\n",
       "    <tr>\n",
       "      <td>5</td>\n",
       "      <td>Logistic Regression CV</td>\n",
       "      <td>0.74</td>\n",
       "    </tr>\n",
       "    <tr>\n",
       "      <td>6</td>\n",
       "      <td>MLP</td>\n",
       "      <td>0.74</td>\n",
       "    </tr>\n",
       "    <tr>\n",
       "      <td>11</td>\n",
       "      <td>GBC</td>\n",
       "      <td>0.74</td>\n",
       "    </tr>\n",
       "    <tr>\n",
       "      <td>16</td>\n",
       "      <td>PAC</td>\n",
       "      <td>0.73</td>\n",
       "    </tr>\n",
       "    <tr>\n",
       "      <td>4</td>\n",
       "      <td>Linear SVC</td>\n",
       "      <td>0.71</td>\n",
       "    </tr>\n",
       "    <tr>\n",
       "      <td>13</td>\n",
       "      <td>Logistic Regression</td>\n",
       "      <td>0.69</td>\n",
       "    </tr>\n",
       "    <tr>\n",
       "      <td>7</td>\n",
       "      <td>Random Forest</td>\n",
       "      <td>0.68</td>\n",
       "    </tr>\n",
       "    <tr>\n",
       "      <td>2</td>\n",
       "      <td>Extra Tree</td>\n",
       "      <td>0.68</td>\n",
       "    </tr>\n",
       "    <tr>\n",
       "      <td>3</td>\n",
       "      <td>KNN</td>\n",
       "      <td>0.66</td>\n",
       "    </tr>\n",
       "    <tr>\n",
       "      <td>1</td>\n",
       "      <td>Decision Tree</td>\n",
       "      <td>0.64</td>\n",
       "    </tr>\n",
       "    <tr>\n",
       "      <td>10</td>\n",
       "      <td>SVC</td>\n",
       "      <td>0.64</td>\n",
       "    </tr>\n",
       "    <tr>\n",
       "      <td>0</td>\n",
       "      <td>BernoulliNB</td>\n",
       "      <td>0.56</td>\n",
       "    </tr>\n",
       "  </tbody>\n",
       "</table>\n",
       "</div>"
      ],
      "text/plain": [
       "                    Models  Scores\n",
       "8                    Ridge    0.74\n",
       "9                 Ridge CV    0.74\n",
       "15              Perceptron    0.74\n",
       "14                    SGDC    0.74\n",
       "12            Linear SVC 2    0.74\n",
       "5   Logistic Regression CV    0.74\n",
       "6                      MLP    0.74\n",
       "11                     GBC    0.74\n",
       "16                     PAC    0.73\n",
       "4               Linear SVC    0.71\n",
       "13     Logistic Regression    0.69\n",
       "7            Random Forest    0.68\n",
       "2               Extra Tree    0.68\n",
       "3                      KNN    0.66\n",
       "1            Decision Tree    0.64\n",
       "10                     SVC    0.64\n",
       "0              BernoulliNB    0.56"
      ]
     },
     "execution_count": 1212,
     "metadata": {},
     "output_type": "execute_result"
    }
   ],
   "source": [
    "# evaluation\n",
    "\n",
    "model_results = pd.DataFrame({\n",
    "    'Models': [\n",
    "        'BernoulliNB',\n",
    "        'Decision Tree',\n",
    "        'Extra Tree',\n",
    "        'KNN',\n",
    "        'Linear SVC',\n",
    "        'Logistic Regression CV',\n",
    "        'MLP',\n",
    "        'Random Forest',\n",
    "        'Ridge',\n",
    "        'Ridge CV',\n",
    "        'SVC',\n",
    "        'GBC',\n",
    "        'Linear SVC 2',\n",
    "        'Logistic Regression',\n",
    "        'SGDC',\n",
    "        'Perceptron',\n",
    "        'PAC'\n",
    "    ],\n",
    "    'Scores': [\n",
    "        acc_bernouli_nb,\n",
    "        acc_decision_tree,\n",
    "        acc_extra_tree,\n",
    "        acc_knn,\n",
    "        acc_linear_svc,\n",
    "        acc_logistic_cv,\n",
    "        acc_mlp,\n",
    "        acc_random_forest,\n",
    "        acc_ridge,\n",
    "        acc_ridge_cv,\n",
    "        acc_svc,\n",
    "        acc_gbc,\n",
    "        acc_linear_svc2,\n",
    "        acc_logistic_reg,\n",
    "        acc_sgd,\n",
    "        acc_perceptron,\n",
    "        acc_pac\n",
    "    ]\n",
    "})\n",
    "model_results.sort_values(by='Scores', ascending=False)"
   ]
  },
  {
   "cell_type": "code",
   "execution_count": null,
   "metadata": {},
   "outputs": [],
   "source": []
  },
  {
   "cell_type": "code",
   "execution_count": null,
   "metadata": {},
   "outputs": [],
   "source": []
  }
 ],
 "metadata": {
  "kernelspec": {
   "display_name": "Python 3",
   "language": "python",
   "name": "python3"
  },
  "language_info": {
   "codemirror_mode": {
    "name": "ipython",
    "version": 3
   },
   "file_extension": ".py",
   "mimetype": "text/x-python",
   "name": "python",
   "nbconvert_exporter": "python",
   "pygments_lexer": "ipython3",
   "version": "3.7.4"
  }
 },
 "nbformat": 4,
 "nbformat_minor": 1
}
