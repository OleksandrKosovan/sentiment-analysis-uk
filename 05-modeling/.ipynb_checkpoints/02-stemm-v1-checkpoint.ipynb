{
 "cells": [
  {
   "cell_type": "markdown",
   "metadata": {},
   "source": [
    "# Content\n",
    "\n",
    "1. [Import](#1.-Import)\n",
    "2. [Read data](#2.-Read-data)\n",
    "3. [Data research](#3.-Data-research)\n",
    "4. [Data preparation](#4.-Data-preparation)\n",
    "    * [4.1. Text preparation functions](#4.1.-Text-preparation-functions)\n",
    "    * [4.2. Text preparation](#4.2.-Text-preparation)\n",
    "    * [4.3. Split test and train data](#4.3.-Split-test-and-train-data)\n",
    "5. [Modeling](#5.-Modeling)\n",
    "    * [5.1. Modeling import](#5.1.-Modeling-import)\n",
    "    * [5.2. BernoulliNB](#5.2.-BernoulliNB)\n",
    "    * [5.3. Decision Tree Classifier](#5.3.-Decision-Tree-Classifier)\n",
    "    * [5.4. Extra Trees Classifier](#5.4.-ExtraTreesClassifier)\n",
    "    * [5.5. KNeighbors Classifier](#5.5.-KNeighbors-Classifier)\n",
    "    * [5.6. LinearSVC](#5.6.-LinearSVC)\n",
    "    * [5.7. Logistic RegressionCV](#5.7.-LogisticRegressionCV)\n",
    "    * [5.8. MLPClassifier](#5.8.-MLPClassifier)\n",
    "    * [5.9. Random Forest Classifier](#5.9.-Random-Forest-Classifier)\n",
    "    * [5.10. Ridge Classifier](#5.10.-Ridge-Classifier)\n",
    "    * [5.11. RidgeClassifierCV](#5.11.-RidgeClassifierCV)\n",
    "    * [5.12. SVC](#5.12.-SVC)\n",
    "    * [5.13. Gradient Boosting Classifier](#5.13.-Gradient-Boosting-Classifier)\n",
    "    * [5.14. LinearSVC](#5.14.-LinearSVC)\n",
    "    * [5.15. LogisticRegression](#5.15.-LogisticRegression)\n",
    "    * [5.16. SGDClassifier](#5.16.-SGDClassifier)\n",
    "    * [5.17. Perceptron](#5.17.-Perceptron)\n",
    "    * [5.18. Passive Aggressive Classifier](#5.18.-Passive-Aggressive-Classifier)\n",
    "    * [5.19. Model evaluation](#5.19.-Model-evaluation)\n"
   ]
  },
  {
   "cell_type": "markdown",
   "metadata": {},
   "source": [
    "# 1. Import"
   ]
  },
  {
   "cell_type": "code",
   "execution_count": 335,
   "metadata": {},
   "outputs": [],
   "source": [
    "import os\n",
    "import re\n",
    "import string"
   ]
  },
  {
   "cell_type": "code",
   "execution_count": 336,
   "metadata": {
    "_cell_guid": "b1076dfc-b9ad-4769-8c92-a6c4dae69d19",
    "_uuid": "8f2839f25d086af736a60e9eeb907d3b93b6e0e5"
   },
   "outputs": [],
   "source": [
    "import numpy as np # linear algebra\n",
    "import pandas as pd # data processing, CSV file I/O (e.g. pd.read_csv)"
   ]
  },
  {
   "cell_type": "code",
   "execution_count": 337,
   "metadata": {},
   "outputs": [],
   "source": [
    "# Vectorizers\n",
    "from sklearn.feature_extraction.text import TfidfVectorizer"
   ]
  },
  {
   "cell_type": "code",
   "execution_count": 338,
   "metadata": {},
   "outputs": [],
   "source": [
    "from sklearn.model_selection import train_test_split\n",
    "from sklearn.metrics import f1_score\n",
    "from sklearn.metrics import classification_report"
   ]
  },
  {
   "cell_type": "code",
   "execution_count": 339,
   "metadata": {},
   "outputs": [],
   "source": [
    "from preparator import text_normalization"
   ]
  },
  {
   "cell_type": "markdown",
   "metadata": {},
   "source": [
    "# 2. Read data"
   ]
  },
  {
   "cell_type": "code",
   "execution_count": 340,
   "metadata": {},
   "outputs": [],
   "source": [
    "train = pd.read_csv('data/data-stemming.csv')"
   ]
  },
  {
   "cell_type": "code",
   "execution_count": 341,
   "metadata": {},
   "outputs": [],
   "source": [
    "train.text = train.text.apply(text_normalization)"
   ]
  },
  {
   "cell_type": "markdown",
   "metadata": {},
   "source": [
    "# 3. Data research"
   ]
  },
  {
   "cell_type": "code",
   "execution_count": 342,
   "metadata": {},
   "outputs": [
    {
     "data": {
      "text/html": [
       "<div>\n",
       "<style scoped>\n",
       "    .dataframe tbody tr th:only-of-type {\n",
       "        vertical-align: middle;\n",
       "    }\n",
       "\n",
       "    .dataframe tbody tr th {\n",
       "        vertical-align: top;\n",
       "    }\n",
       "\n",
       "    .dataframe thead th {\n",
       "        text-align: right;\n",
       "    }\n",
       "</style>\n",
       "<table border=\"1\" class=\"dataframe\">\n",
       "  <thead>\n",
       "    <tr style=\"text-align: right;\">\n",
       "      <th></th>\n",
       "      <th>text</th>\n",
       "      <th>target</th>\n",
       "    </tr>\n",
       "  </thead>\n",
       "  <tbody>\n",
       "    <tr>\n",
       "      <th>0</th>\n",
       "      <td>в кінцев результат робот данн інтернетмагазин ...</td>\n",
       "      <td>positive</td>\n",
       "    </tr>\n",
       "    <tr>\n",
       "      <th>1</th>\n",
       "      <td>замов md доставил швидк тут питан нем звичаин...</td>\n",
       "      <td>negative</td>\n",
       "    </tr>\n",
       "    <tr>\n",
       "      <th>2</th>\n",
       "      <td>зірв передноворічн замовленн зіпсув празднікпр...</td>\n",
       "      <td>negative</td>\n",
       "    </tr>\n",
       "    <tr>\n",
       "      <th>3</th>\n",
       "      <td>замов корпус і блок живленн комплект зі сторін...</td>\n",
       "      <td>positive</td>\n",
       "    </tr>\n",
       "    <tr>\n",
       "      <th>4</th>\n",
       "      <td>замов у них парогенератор і відраз иог оплат ...</td>\n",
       "      <td>negative</td>\n",
       "    </tr>\n",
       "  </tbody>\n",
       "</table>\n",
       "</div>"
      ],
      "text/plain": [
       "                                                text    target\n",
       "0  в кінцев результат робот данн інтернетмагазин ...  positive\n",
       "1   замов md доставил швидк тут питан нем звичаин...  negative\n",
       "2  зірв передноворічн замовленн зіпсув празднікпр...  negative\n",
       "3  замов корпус і блок живленн комплект зі сторін...  positive\n",
       "4   замов у них парогенератор і відраз иог оплат ...  negative"
      ]
     },
     "execution_count": 342,
     "metadata": {},
     "output_type": "execute_result"
    }
   ],
   "source": [
    "train.head()"
   ]
  },
  {
   "cell_type": "code",
   "execution_count": 343,
   "metadata": {},
   "outputs": [
    {
     "data": {
      "text/plain": [
       "(3034, 2)"
      ]
     },
     "execution_count": 343,
     "metadata": {},
     "output_type": "execute_result"
    }
   ],
   "source": [
    "train.shape"
   ]
  },
  {
   "cell_type": "code",
   "execution_count": 344,
   "metadata": {},
   "outputs": [
    {
     "data": {
      "text/plain": [
       "text      0\n",
       "target    0\n",
       "dtype: int64"
      ]
     },
     "execution_count": 344,
     "metadata": {},
     "output_type": "execute_result"
    }
   ],
   "source": [
    "train.isna().sum()"
   ]
  },
  {
   "cell_type": "code",
   "execution_count": 345,
   "metadata": {},
   "outputs": [
    {
     "data": {
      "text/plain": [
       "array(['positive', 'negative'], dtype=object)"
      ]
     },
     "execution_count": 345,
     "metadata": {},
     "output_type": "execute_result"
    }
   ],
   "source": [
    "train.target.unique()"
   ]
  },
  {
   "cell_type": "code",
   "execution_count": 346,
   "metadata": {},
   "outputs": [],
   "source": [
    "text = train.text\n",
    "target = train.target"
   ]
  },
  {
   "cell_type": "markdown",
   "metadata": {},
   "source": [
    "# 4. Data preparation"
   ]
  },
  {
   "cell_type": "code",
   "execution_count": 347,
   "metadata": {},
   "outputs": [],
   "source": [
    "def do_nothing(tokens):\n",
    "    return tokens\n",
    "\n",
    "# TfidfVectorizer\n",
    "tfidf_vectorizer = TfidfVectorizer(\n",
    "    tokenizer=do_nothing, \n",
    "    preprocessor=None,\n",
    "    lowercase=False,\n",
    "    # ngram_range=(1, 2)\n",
    ")"
   ]
  },
  {
   "cell_type": "code",
   "execution_count": 348,
   "metadata": {},
   "outputs": [],
   "source": [
    "text_counts = tfidf_vectorizer.fit_transform(text)"
   ]
  },
  {
   "cell_type": "markdown",
   "metadata": {},
   "source": [
    "### 4.3. Split test and train data"
   ]
  },
  {
   "cell_type": "code",
   "execution_count": 349,
   "metadata": {},
   "outputs": [],
   "source": [
    "X_train, X_test, y_train, y_test = train_test_split(\n",
    "    text_counts, \n",
    "    target, \n",
    "    test_size=0.33, \n",
    "    random_state=4521\n",
    ")"
   ]
  },
  {
   "cell_type": "code",
   "execution_count": 350,
   "metadata": {
    "_cell_guid": "79c7e3d0-c299-4dcb-8224-4455121ee9b0",
    "_uuid": "d629ff2d2480ee46fbb7e2d37f6b5fab8052498a"
   },
   "outputs": [
    {
     "name": "stdout",
     "output_type": "stream",
     "text": [
      "X train shape: (2032, 62)\n",
      "Y train shape: (2032,)\n",
      "X test shape: (1002, 62)\n",
      "Y test shape: (1002,)\n"
     ]
    }
   ],
   "source": [
    "print(\"X train shape: {0}\".format(X_train.shape))\n",
    "print(\"Y train shape: {0}\".format(y_train.shape))\n",
    "print(\"X test shape: {0}\".format(X_test.shape))\n",
    "print(\"Y test shape: {0}\".format(y_test.shape))"
   ]
  },
  {
   "cell_type": "markdown",
   "metadata": {},
   "source": [
    "# 5. Modeling"
   ]
  },
  {
   "cell_type": "markdown",
   "metadata": {},
   "source": [
    "### 5.1. Modeling import"
   ]
  },
  {
   "cell_type": "code",
   "execution_count": 351,
   "metadata": {},
   "outputs": [],
   "source": [
    "from sklearn.naive_bayes import BernoulliNB\n",
    "from sklearn.tree import DecisionTreeClassifier\n",
    "from sklearn.ensemble import ExtraTreesClassifier\n",
    "from sklearn.naive_bayes import GaussianNB\n",
    "from sklearn.neighbors import KNeighborsClassifier\n",
    "from sklearn.svm import LinearSVC\n",
    "from sklearn.linear_model import LogisticRegression\n",
    "from sklearn.linear_model import LogisticRegressionCV \n",
    "from sklearn.neural_network import MLPClassifier\n",
    "from sklearn.neighbors import NearestCentroid\n",
    "from sklearn.neighbors import RadiusNeighborsClassifier\n",
    "from sklearn.ensemble import RandomForestClassifier\n",
    "from sklearn.linear_model import RidgeClassifier\n",
    "from sklearn.linear_model import RidgeClassifierCV"
   ]
  },
  {
   "cell_type": "code",
   "execution_count": 352,
   "metadata": {},
   "outputs": [],
   "source": [
    "from sklearn.svm import SVC\n",
    "from sklearn.ensemble import GradientBoostingClassifier\n",
    "from sklearn.gaussian_process import GaussianProcessClassifier\n",
    "from sklearn.linear_model import SGDClassifier\n",
    "from sklearn.linear_model import Perceptron\n",
    "from sklearn.linear_model import PassiveAggressiveClassifier"
   ]
  },
  {
   "cell_type": "code",
   "execution_count": 353,
   "metadata": {},
   "outputs": [],
   "source": [
    "def model_scoring(clf, X_test, y_test):\n",
    "    predicted= clf.predict(X_test)\n",
    "    print(classification_report(y_test, predicted))"
   ]
  },
  {
   "cell_type": "markdown",
   "metadata": {},
   "source": [
    "### 5.2. BernoulliNB"
   ]
  },
  {
   "cell_type": "code",
   "execution_count": 354,
   "metadata": {},
   "outputs": [
    {
     "name": "stdout",
     "output_type": "stream",
     "text": [
      "              precision    recall  f1-score   support\n",
      "\n",
      "    negative       0.65      0.53      0.59       620\n",
      "    positive       0.41      0.53      0.46       382\n",
      "\n",
      "    accuracy                           0.53      1002\n",
      "   macro avg       0.53      0.53      0.53      1002\n",
      "weighted avg       0.56      0.53      0.54      1002\n",
      "\n",
      "CPU times: user 42.4 ms, sys: 3.09 ms, total: 45.5 ms\n",
      "Wall time: 45.5 ms\n"
     ]
    }
   ],
   "source": [
    "%%time\n",
    "# BernoulliNB\n",
    "\n",
    "clf = BernoulliNB().fit(X_train, y_train)\n",
    "model_scoring(clf, X_test, y_test)\n",
    "\n",
    "acc_bernouli_nb = round(clf.score(X_test, y_test), 2)"
   ]
  },
  {
   "cell_type": "markdown",
   "metadata": {},
   "source": [
    "### 5.3. Decision Tree Classifier"
   ]
  },
  {
   "cell_type": "code",
   "execution_count": 355,
   "metadata": {},
   "outputs": [
    {
     "name": "stdout",
     "output_type": "stream",
     "text": [
      "              precision    recall  f1-score   support\n",
      "\n",
      "    negative       0.65      0.67      0.66       620\n",
      "    positive       0.44      0.42      0.43       382\n",
      "\n",
      "    accuracy                           0.58      1002\n",
      "   macro avg       0.55      0.55      0.55      1002\n",
      "weighted avg       0.57      0.58      0.57      1002\n",
      "\n",
      "CPU times: user 168 ms, sys: 3.67 ms, total: 172 ms\n",
      "Wall time: 171 ms\n"
     ]
    }
   ],
   "source": [
    "%%time\n",
    "# DecisionTreeClassifier\n",
    "\n",
    "clf = DecisionTreeClassifier().fit(X_train, y_train)\n",
    "model_scoring(clf, X_test, y_test)\n",
    "\n",
    "acc_decision_tree = round(clf.score(X_test, y_test), 2)"
   ]
  },
  {
   "cell_type": "markdown",
   "metadata": {},
   "source": [
    "### 5.4. ExtraTreesClassifier"
   ]
  },
  {
   "cell_type": "code",
   "execution_count": 356,
   "metadata": {},
   "outputs": [
    {
     "name": "stdout",
     "output_type": "stream",
     "text": [
      "              precision    recall  f1-score   support\n",
      "\n",
      "    negative       0.66      0.92      0.77       620\n",
      "    positive       0.63      0.23      0.33       382\n",
      "\n",
      "    accuracy                           0.65      1002\n",
      "   macro avg       0.65      0.57      0.55      1002\n",
      "weighted avg       0.65      0.65      0.60      1002\n",
      "\n",
      "CPU times: user 2.28 s, sys: 20.3 ms, total: 2.3 s\n",
      "Wall time: 2.4 s\n"
     ]
    }
   ],
   "source": [
    "%%time\n",
    "# ExtraTreesClassifier\n",
    "\n",
    "clf = ExtraTreesClassifier().fit(X_train, y_train)\n",
    "model_scoring(clf, X_test, y_test)\n",
    "\n",
    "acc_extra_tree = round(clf.score(X_test, y_test), 2)"
   ]
  },
  {
   "cell_type": "markdown",
   "metadata": {},
   "source": [
    "### 5.5. KNeighbors Classifier"
   ]
  },
  {
   "cell_type": "code",
   "execution_count": 357,
   "metadata": {},
   "outputs": [
    {
     "name": "stdout",
     "output_type": "stream",
     "text": [
      "              precision    recall  f1-score   support\n",
      "\n",
      "    negative       0.65      0.85      0.74       620\n",
      "    positive       0.52      0.26      0.34       382\n",
      "\n",
      "    accuracy                           0.63      1002\n",
      "   macro avg       0.58      0.55      0.54      1002\n",
      "weighted avg       0.60      0.63      0.59      1002\n",
      "\n",
      "CPU times: user 451 ms, sys: 35.3 ms, total: 487 ms\n",
      "Wall time: 523 ms\n"
     ]
    }
   ],
   "source": [
    "%%time\n",
    "# KNeighborsClassifier\n",
    "\n",
    "clf = KNeighborsClassifier().fit(X_train, y_train)\n",
    "model_scoring(clf, X_test, y_test)\n",
    "\n",
    "acc_knn = round(clf.score(X_test, y_test), 2)"
   ]
  },
  {
   "cell_type": "markdown",
   "metadata": {},
   "source": [
    "### 5.6. LinearSVC"
   ]
  },
  {
   "cell_type": "code",
   "execution_count": 358,
   "metadata": {},
   "outputs": [
    {
     "name": "stdout",
     "output_type": "stream",
     "text": [
      "              precision    recall  f1-score   support\n",
      "\n",
      "    negative       0.62      1.00      0.76       620\n",
      "    positive       0.40      0.01      0.01       382\n",
      "\n",
      "    accuracy                           0.62      1002\n",
      "   macro avg       0.51      0.50      0.39      1002\n",
      "weighted avg       0.54      0.62      0.48      1002\n",
      "\n",
      "CPU times: user 111 ms, sys: 3.99 ms, total: 115 ms\n",
      "Wall time: 121 ms\n"
     ]
    },
    {
     "name": "stderr",
     "output_type": "stream",
     "text": [
      "/Users/oleksandrkosovan/opt/anaconda3/envs/myenv/lib/python3.7/site-packages/sklearn/svm/_base.py:947: ConvergenceWarning: Liblinear failed to converge, increase the number of iterations.\n",
      "  \"the number of iterations.\", ConvergenceWarning)\n"
     ]
    }
   ],
   "source": [
    "%%time\n",
    "# LinearSVC  (setting multi_class=”crammer_singer”)\n",
    "\n",
    "clf = LinearSVC(multi_class=\"crammer_singer\").fit(X_train, y_train)\n",
    "model_scoring(clf, X_test, y_test)\n",
    "\n",
    "acc_linear_svc = round(clf.score(X_test, y_test), 2)"
   ]
  },
  {
   "cell_type": "markdown",
   "metadata": {},
   "source": [
    "### 5.7. LogisticRegressionCV"
   ]
  },
  {
   "cell_type": "code",
   "execution_count": 359,
   "metadata": {},
   "outputs": [
    {
     "name": "stderr",
     "output_type": "stream",
     "text": [
      "/Users/oleksandrkosovan/opt/anaconda3/envs/myenv/lib/python3.7/site-packages/sklearn/linear_model/_logistic.py:940: ConvergenceWarning: lbfgs failed to converge (status=1):\n",
      "STOP: TOTAL NO. of ITERATIONS REACHED LIMIT.\n",
      "\n",
      "Increase the number of iterations (max_iter) or scale the data as shown in:\n",
      "    https://scikit-learn.org/stable/modules/preprocessing.html\n",
      "Please also refer to the documentation for alternative solver options:\n",
      "    https://scikit-learn.org/stable/modules/linear_model.html#logistic-regression\n",
      "  extra_warning_msg=_LOGISTIC_SOLVER_CONVERGENCE_MSG)\n",
      "/Users/oleksandrkosovan/opt/anaconda3/envs/myenv/lib/python3.7/site-packages/sklearn/linear_model/_logistic.py:940: ConvergenceWarning: lbfgs failed to converge (status=1):\n",
      "STOP: TOTAL NO. of ITERATIONS REACHED LIMIT.\n",
      "\n",
      "Increase the number of iterations (max_iter) or scale the data as shown in:\n",
      "    https://scikit-learn.org/stable/modules/preprocessing.html\n",
      "Please also refer to the documentation for alternative solver options:\n",
      "    https://scikit-learn.org/stable/modules/linear_model.html#logistic-regression\n",
      "  extra_warning_msg=_LOGISTIC_SOLVER_CONVERGENCE_MSG)\n",
      "/Users/oleksandrkosovan/opt/anaconda3/envs/myenv/lib/python3.7/site-packages/sklearn/linear_model/_logistic.py:940: ConvergenceWarning: lbfgs failed to converge (status=1):\n",
      "STOP: TOTAL NO. of ITERATIONS REACHED LIMIT.\n",
      "\n",
      "Increase the number of iterations (max_iter) or scale the data as shown in:\n",
      "    https://scikit-learn.org/stable/modules/preprocessing.html\n",
      "Please also refer to the documentation for alternative solver options:\n",
      "    https://scikit-learn.org/stable/modules/linear_model.html#logistic-regression\n",
      "  extra_warning_msg=_LOGISTIC_SOLVER_CONVERGENCE_MSG)\n",
      "/Users/oleksandrkosovan/opt/anaconda3/envs/myenv/lib/python3.7/site-packages/sklearn/linear_model/_logistic.py:940: ConvergenceWarning: lbfgs failed to converge (status=1):\n",
      "STOP: TOTAL NO. of ITERATIONS REACHED LIMIT.\n",
      "\n",
      "Increase the number of iterations (max_iter) or scale the data as shown in:\n",
      "    https://scikit-learn.org/stable/modules/preprocessing.html\n",
      "Please also refer to the documentation for alternative solver options:\n",
      "    https://scikit-learn.org/stable/modules/linear_model.html#logistic-regression\n",
      "  extra_warning_msg=_LOGISTIC_SOLVER_CONVERGENCE_MSG)\n",
      "/Users/oleksandrkosovan/opt/anaconda3/envs/myenv/lib/python3.7/site-packages/sklearn/linear_model/_logistic.py:940: ConvergenceWarning: lbfgs failed to converge (status=1):\n",
      "STOP: TOTAL NO. of ITERATIONS REACHED LIMIT.\n",
      "\n",
      "Increase the number of iterations (max_iter) or scale the data as shown in:\n",
      "    https://scikit-learn.org/stable/modules/preprocessing.html\n",
      "Please also refer to the documentation for alternative solver options:\n",
      "    https://scikit-learn.org/stable/modules/linear_model.html#logistic-regression\n",
      "  extra_warning_msg=_LOGISTIC_SOLVER_CONVERGENCE_MSG)\n"
     ]
    },
    {
     "name": "stdout",
     "output_type": "stream",
     "text": [
      "              precision    recall  f1-score   support\n",
      "\n",
      "    negative       0.72      0.85      0.78       620\n",
      "    positive       0.65      0.46      0.54       382\n",
      "\n",
      "    accuracy                           0.70      1002\n",
      "   macro avg       0.68      0.65      0.66      1002\n",
      "weighted avg       0.69      0.70      0.69      1002\n",
      "\n",
      "CPU times: user 3.29 s, sys: 55.5 ms, total: 3.35 s\n",
      "Wall time: 3.63 s\n"
     ]
    },
    {
     "name": "stderr",
     "output_type": "stream",
     "text": [
      "/Users/oleksandrkosovan/opt/anaconda3/envs/myenv/lib/python3.7/site-packages/sklearn/linear_model/_logistic.py:940: ConvergenceWarning: lbfgs failed to converge (status=1):\n",
      "STOP: TOTAL NO. of ITERATIONS REACHED LIMIT.\n",
      "\n",
      "Increase the number of iterations (max_iter) or scale the data as shown in:\n",
      "    https://scikit-learn.org/stable/modules/preprocessing.html\n",
      "Please also refer to the documentation for alternative solver options:\n",
      "    https://scikit-learn.org/stable/modules/linear_model.html#logistic-regression\n",
      "  extra_warning_msg=_LOGISTIC_SOLVER_CONVERGENCE_MSG)\n"
     ]
    }
   ],
   "source": [
    "%%time\n",
    "# LogisticRegressionCV(setting multi_class=”multinomial”)\n",
    "\n",
    "clf = LogisticRegressionCV(multi_class=\"multinomial\").fit(X_train, y_train)\n",
    "model_scoring(clf, X_test, y_test)\n",
    "\n",
    "acc_logistic_cv = round(clf.score(X_test, y_test), 2)"
   ]
  },
  {
   "cell_type": "markdown",
   "metadata": {},
   "source": [
    "### 5.8. MLPClassifier"
   ]
  },
  {
   "cell_type": "code",
   "execution_count": 360,
   "metadata": {},
   "outputs": [
    {
     "name": "stdout",
     "output_type": "stream",
     "text": [
      "              precision    recall  f1-score   support\n",
      "\n",
      "    negative       0.72      0.84      0.77       620\n",
      "    positive       0.64      0.46      0.53       382\n",
      "\n",
      "    accuracy                           0.69      1002\n",
      "   macro avg       0.68      0.65      0.65      1002\n",
      "weighted avg       0.69      0.69      0.68      1002\n",
      "\n",
      "CPU times: user 9.13 s, sys: 910 ms, total: 10 s\n",
      "Wall time: 6.1 s\n"
     ]
    },
    {
     "name": "stderr",
     "output_type": "stream",
     "text": [
      "/Users/oleksandrkosovan/opt/anaconda3/envs/myenv/lib/python3.7/site-packages/sklearn/neural_network/_multilayer_perceptron.py:571: ConvergenceWarning: Stochastic Optimizer: Maximum iterations (200) reached and the optimization hasn't converged yet.\n",
      "  % self.max_iter, ConvergenceWarning)\n"
     ]
    }
   ],
   "source": [
    "%%time\n",
    "# MLPClassifier\n",
    "\n",
    "clf = MLPClassifier().fit(X_train, y_train)\n",
    "model_scoring(clf, X_test, y_test)\n",
    "\n",
    "acc_mlp = round(clf.score(X_test, y_test), 2)"
   ]
  },
  {
   "cell_type": "markdown",
   "metadata": {},
   "source": [
    "### 5.9. Random Forest Classifier"
   ]
  },
  {
   "cell_type": "code",
   "execution_count": 361,
   "metadata": {},
   "outputs": [
    {
     "name": "stdout",
     "output_type": "stream",
     "text": [
      "              precision    recall  f1-score   support\n",
      "\n",
      "    negative       0.68      0.90      0.78       620\n",
      "    positive       0.67      0.31      0.42       382\n",
      "\n",
      "    accuracy                           0.68      1002\n",
      "   macro avg       0.67      0.61      0.60      1002\n",
      "weighted avg       0.67      0.68      0.64      1002\n",
      "\n",
      "CPU times: user 1.92 s, sys: 46.3 ms, total: 1.96 s\n",
      "Wall time: 1.93 s\n"
     ]
    }
   ],
   "source": [
    "%%time\n",
    "# RandomForestClassifier()\n",
    "\n",
    "clf = RandomForestClassifier().fit(X_train, y_train)\n",
    "model_scoring(clf, X_test, y_test)\n",
    "\n",
    "acc_random_forest = round(clf.score(X_test, y_test), 2)"
   ]
  },
  {
   "cell_type": "markdown",
   "metadata": {},
   "source": [
    "### 5.10. Ridge Classifier"
   ]
  },
  {
   "cell_type": "code",
   "execution_count": 362,
   "metadata": {},
   "outputs": [
    {
     "name": "stdout",
     "output_type": "stream",
     "text": [
      "              precision    recall  f1-score   support\n",
      "\n",
      "    negative       0.68      0.91      0.78       620\n",
      "    positive       0.67      0.30      0.41       382\n",
      "\n",
      "    accuracy                           0.68      1002\n",
      "   macro avg       0.67      0.60      0.59      1002\n",
      "weighted avg       0.67      0.68      0.64      1002\n",
      "\n",
      "CPU times: user 52.4 ms, sys: 4.92 ms, total: 57.3 ms\n",
      "Wall time: 57.7 ms\n"
     ]
    }
   ],
   "source": [
    "%%time\n",
    "# RidgeClassifier\n",
    "\n",
    "clf = RidgeClassifier().fit(X_train, y_train)\n",
    "model_scoring(clf, X_test, y_test)\n",
    "\n",
    "acc_ridge = round(clf.score(X_test, y_test), 2)"
   ]
  },
  {
   "cell_type": "markdown",
   "metadata": {},
   "source": [
    "### 5.11. RidgeClassifierCV"
   ]
  },
  {
   "cell_type": "code",
   "execution_count": 363,
   "metadata": {},
   "outputs": [
    {
     "name": "stdout",
     "output_type": "stream",
     "text": [
      "              precision    recall  f1-score   support\n",
      "\n",
      "    negative       0.68      0.91      0.78       620\n",
      "    positive       0.67      0.30      0.41       382\n",
      "\n",
      "    accuracy                           0.68      1002\n",
      "   macro avg       0.67      0.60      0.59      1002\n",
      "weighted avg       0.67      0.68      0.64      1002\n",
      "\n",
      "CPU times: user 47.4 ms, sys: 3.72 ms, total: 51.1 ms\n",
      "Wall time: 49.9 ms\n"
     ]
    }
   ],
   "source": [
    "%%time\n",
    "# RidgeClassifierCV\n",
    "\n",
    "clf = RidgeClassifier().fit(X_train, y_train)\n",
    "model_scoring(clf, X_test, y_test)\n",
    "\n",
    "acc_ridge_cv = round(clf.score(X_test, y_test), 2)"
   ]
  },
  {
   "cell_type": "markdown",
   "metadata": {},
   "source": [
    "### 5.12. SVC"
   ]
  },
  {
   "cell_type": "code",
   "execution_count": 364,
   "metadata": {},
   "outputs": [
    {
     "name": "stdout",
     "output_type": "stream",
     "text": [
      "              precision    recall  f1-score   support\n",
      "\n",
      "    negative       0.63      0.99      0.77       620\n",
      "    positive       0.76      0.05      0.09       382\n",
      "\n",
      "    accuracy                           0.63      1002\n",
      "   macro avg       0.69      0.52      0.43      1002\n",
      "weighted avg       0.68      0.63      0.51      1002\n",
      "\n",
      "CPU times: user 813 ms, sys: 14.5 ms, total: 828 ms\n",
      "Wall time: 852 ms\n"
     ]
    }
   ],
   "source": [
    "%%time\n",
    "# SVC\n",
    "\n",
    "clf = SVC().fit(X_train, y_train)\n",
    "model_scoring(clf, X_test, y_test)\n",
    "\n",
    "acc_svc = round(clf.score(X_test, y_test), 2)"
   ]
  },
  {
   "cell_type": "markdown",
   "metadata": {},
   "source": [
    "### 5.13. Gradient Boosting Classifier"
   ]
  },
  {
   "cell_type": "code",
   "execution_count": 365,
   "metadata": {},
   "outputs": [
    {
     "name": "stdout",
     "output_type": "stream",
     "text": [
      "              precision    recall  f1-score   support\n",
      "\n",
      "    negative       0.70      0.85      0.77       620\n",
      "    positive       0.62      0.40      0.49       382\n",
      "\n",
      "    accuracy                           0.68      1002\n",
      "   macro avg       0.66      0.62      0.63      1002\n",
      "weighted avg       0.67      0.68      0.66      1002\n",
      "\n",
      "CPU times: user 2.35 s, sys: 28.2 ms, total: 2.38 s\n",
      "Wall time: 2.55 s\n"
     ]
    }
   ],
   "source": [
    "%%time\n",
    "# GradientBoostingClassifier\n",
    "\n",
    "clf = GradientBoostingClassifier().fit(X_train, y_train)\n",
    "model_scoring(clf, X_test, y_test)\n",
    "\n",
    "acc_gbc = round(clf.score(X_test, y_test), 2)"
   ]
  },
  {
   "cell_type": "markdown",
   "metadata": {},
   "source": [
    "### 5.14. LinearSVC"
   ]
  },
  {
   "cell_type": "code",
   "execution_count": 366,
   "metadata": {},
   "outputs": [
    {
     "name": "stdout",
     "output_type": "stream",
     "text": [
      "              precision    recall  f1-score   support\n",
      "\n",
      "    negative       0.70      0.89      0.78       620\n",
      "    positive       0.68      0.37      0.48       382\n",
      "\n",
      "    accuracy                           0.69      1002\n",
      "   macro avg       0.69      0.63      0.63      1002\n",
      "weighted avg       0.69      0.69      0.67      1002\n",
      "\n",
      "CPU times: user 67.2 ms, sys: 3.21 ms, total: 70.4 ms\n",
      "Wall time: 72.4 ms\n"
     ]
    }
   ],
   "source": [
    "%%time\n",
    "# LinearSVC\n",
    "\n",
    "clf = LinearSVC(multi_class = \"ovr\").fit(X_train, y_train)\n",
    "model_scoring(clf, X_test, y_test)\n",
    "\n",
    "acc_linear_svc2 = round(clf.score(X_test, y_test), 2)"
   ]
  },
  {
   "cell_type": "markdown",
   "metadata": {},
   "source": [
    "### 5.15. LogisticRegression"
   ]
  },
  {
   "cell_type": "code",
   "execution_count": 367,
   "metadata": {},
   "outputs": [
    {
     "name": "stdout",
     "output_type": "stream",
     "text": [
      "              precision    recall  f1-score   support\n",
      "\n",
      "    negative       0.63      0.98      0.77       620\n",
      "    positive       0.72      0.08      0.14       382\n",
      "\n",
      "    accuracy                           0.64      1002\n",
      "   macro avg       0.68      0.53      0.45      1002\n",
      "weighted avg       0.67      0.64      0.53      1002\n",
      "\n",
      "CPU times: user 69.5 ms, sys: 3.02 ms, total: 72.5 ms\n",
      "Wall time: 74 ms\n"
     ]
    }
   ],
   "source": [
    "%%time\n",
    "# LogisticRegression multi_class=”ovr”\n",
    "\n",
    "clf = LogisticRegression(multi_class=\"ovr\").fit(X_train, y_train)\n",
    "model_scoring(clf, X_test, y_test)\n",
    "\n",
    "acc_logistic_reg = round(clf.score(X_test, y_test), 2)"
   ]
  },
  {
   "cell_type": "markdown",
   "metadata": {},
   "source": [
    "### 5.16. SGDClassifier"
   ]
  },
  {
   "cell_type": "code",
   "execution_count": 368,
   "metadata": {},
   "outputs": [
    {
     "name": "stdout",
     "output_type": "stream",
     "text": [
      "              precision    recall  f1-score   support\n",
      "\n",
      "    negative       0.72      0.82      0.77       620\n",
      "    positive       0.62      0.49      0.55       382\n",
      "\n",
      "    accuracy                           0.69      1002\n",
      "   macro avg       0.67      0.65      0.66      1002\n",
      "weighted avg       0.68      0.69      0.68      1002\n",
      "\n",
      "CPU times: user 51.8 ms, sys: 2.96 ms, total: 54.8 ms\n",
      "Wall time: 53.6 ms\n"
     ]
    }
   ],
   "source": [
    "%%time\n",
    "# SGDClassifier\n",
    "\n",
    "clf = SGDClassifier().fit(X_train, y_train)\n",
    "model_scoring(clf, X_test, y_test)\n",
    "\n",
    "acc_sgd = round(clf.score(X_test, y_test), 2)"
   ]
  },
  {
   "cell_type": "markdown",
   "metadata": {},
   "source": [
    "### 5.17. Perceptron"
   ]
  },
  {
   "cell_type": "code",
   "execution_count": 369,
   "metadata": {},
   "outputs": [
    {
     "name": "stdout",
     "output_type": "stream",
     "text": [
      "              precision    recall  f1-score   support\n",
      "\n",
      "    negative       0.83      0.33      0.47       620\n",
      "    positive       0.45      0.89      0.60       382\n",
      "\n",
      "    accuracy                           0.54      1002\n",
      "   macro avg       0.64      0.61      0.53      1002\n",
      "weighted avg       0.68      0.54      0.52      1002\n",
      "\n",
      "CPU times: user 41.3 ms, sys: 2.93 ms, total: 44.2 ms\n",
      "Wall time: 43.2 ms\n"
     ]
    }
   ],
   "source": [
    "%%time\n",
    "# Perceptron\n",
    "\n",
    "clf = Perceptron().fit(X_train, y_train)\n",
    "model_scoring(clf, X_test, y_test)\n",
    "\n",
    "acc_perceptron = round(clf.score(X_test, y_test), 2)"
   ]
  },
  {
   "cell_type": "markdown",
   "metadata": {},
   "source": [
    "### 5.18. Passive Aggressive Classifier"
   ]
  },
  {
   "cell_type": "code",
   "execution_count": 370,
   "metadata": {},
   "outputs": [
    {
     "name": "stdout",
     "output_type": "stream",
     "text": [
      "              precision    recall  f1-score   support\n",
      "\n",
      "    negative       0.70      0.90      0.79       620\n",
      "    positive       0.69      0.38      0.49       382\n",
      "\n",
      "    accuracy                           0.70      1002\n",
      "   macro avg       0.70      0.64      0.64      1002\n",
      "weighted avg       0.70      0.70      0.67      1002\n",
      "\n",
      "CPU times: user 49.9 ms, sys: 2.45 ms, total: 52.3 ms\n",
      "Wall time: 52.3 ms\n"
     ]
    }
   ],
   "source": [
    "%%time\n",
    "# PassiveAggressiveClassifier\n",
    "\n",
    "clf = PassiveAggressiveClassifier().fit(X_train, y_train)\n",
    "model_scoring(clf, X_test, y_test)\n",
    "\n",
    "acc_pac = round(clf.score(X_test, y_test), 2)"
   ]
  },
  {
   "cell_type": "markdown",
   "metadata": {},
   "source": [
    "### 5.19. Model evaluation"
   ]
  },
  {
   "cell_type": "code",
   "execution_count": 371,
   "metadata": {},
   "outputs": [
    {
     "data": {
      "text/html": [
       "<div>\n",
       "<style scoped>\n",
       "    .dataframe tbody tr th:only-of-type {\n",
       "        vertical-align: middle;\n",
       "    }\n",
       "\n",
       "    .dataframe tbody tr th {\n",
       "        vertical-align: top;\n",
       "    }\n",
       "\n",
       "    .dataframe thead th {\n",
       "        text-align: right;\n",
       "    }\n",
       "</style>\n",
       "<table border=\"1\" class=\"dataframe\">\n",
       "  <thead>\n",
       "    <tr style=\"text-align: right;\">\n",
       "      <th></th>\n",
       "      <th>Models</th>\n",
       "      <th>Scores</th>\n",
       "    </tr>\n",
       "  </thead>\n",
       "  <tbody>\n",
       "    <tr>\n",
       "      <th>16</th>\n",
       "      <td>PAC</td>\n",
       "      <td>0.70</td>\n",
       "    </tr>\n",
       "    <tr>\n",
       "      <th>5</th>\n",
       "      <td>Logistic Regression CV</td>\n",
       "      <td>0.70</td>\n",
       "    </tr>\n",
       "    <tr>\n",
       "      <th>14</th>\n",
       "      <td>SGDC</td>\n",
       "      <td>0.69</td>\n",
       "    </tr>\n",
       "    <tr>\n",
       "      <th>12</th>\n",
       "      <td>Linear SVC 2</td>\n",
       "      <td>0.69</td>\n",
       "    </tr>\n",
       "    <tr>\n",
       "      <th>6</th>\n",
       "      <td>MLP</td>\n",
       "      <td>0.69</td>\n",
       "    </tr>\n",
       "    <tr>\n",
       "      <th>9</th>\n",
       "      <td>Ridge CV</td>\n",
       "      <td>0.68</td>\n",
       "    </tr>\n",
       "    <tr>\n",
       "      <th>11</th>\n",
       "      <td>GBC</td>\n",
       "      <td>0.68</td>\n",
       "    </tr>\n",
       "    <tr>\n",
       "      <th>8</th>\n",
       "      <td>Ridge</td>\n",
       "      <td>0.68</td>\n",
       "    </tr>\n",
       "    <tr>\n",
       "      <th>7</th>\n",
       "      <td>Random Forest</td>\n",
       "      <td>0.68</td>\n",
       "    </tr>\n",
       "    <tr>\n",
       "      <th>2</th>\n",
       "      <td>Extra Tree</td>\n",
       "      <td>0.65</td>\n",
       "    </tr>\n",
       "    <tr>\n",
       "      <th>13</th>\n",
       "      <td>Logistic Regression</td>\n",
       "      <td>0.64</td>\n",
       "    </tr>\n",
       "    <tr>\n",
       "      <th>10</th>\n",
       "      <td>SVC</td>\n",
       "      <td>0.63</td>\n",
       "    </tr>\n",
       "    <tr>\n",
       "      <th>3</th>\n",
       "      <td>KNN</td>\n",
       "      <td>0.63</td>\n",
       "    </tr>\n",
       "    <tr>\n",
       "      <th>4</th>\n",
       "      <td>Linear SVC</td>\n",
       "      <td>0.62</td>\n",
       "    </tr>\n",
       "    <tr>\n",
       "      <th>1</th>\n",
       "      <td>Decision Tree</td>\n",
       "      <td>0.58</td>\n",
       "    </tr>\n",
       "    <tr>\n",
       "      <th>15</th>\n",
       "      <td>Perceptron</td>\n",
       "      <td>0.54</td>\n",
       "    </tr>\n",
       "    <tr>\n",
       "      <th>0</th>\n",
       "      <td>BernoulliNB</td>\n",
       "      <td>0.53</td>\n",
       "    </tr>\n",
       "  </tbody>\n",
       "</table>\n",
       "</div>"
      ],
      "text/plain": [
       "                    Models  Scores\n",
       "16                     PAC    0.70\n",
       "5   Logistic Regression CV    0.70\n",
       "14                    SGDC    0.69\n",
       "12            Linear SVC 2    0.69\n",
       "6                      MLP    0.69\n",
       "9                 Ridge CV    0.68\n",
       "11                     GBC    0.68\n",
       "8                    Ridge    0.68\n",
       "7            Random Forest    0.68\n",
       "2               Extra Tree    0.65\n",
       "13     Logistic Regression    0.64\n",
       "10                     SVC    0.63\n",
       "3                      KNN    0.63\n",
       "4               Linear SVC    0.62\n",
       "1            Decision Tree    0.58\n",
       "15              Perceptron    0.54\n",
       "0              BernoulliNB    0.53"
      ]
     },
     "execution_count": 371,
     "metadata": {},
     "output_type": "execute_result"
    }
   ],
   "source": [
    "# evaluation\n",
    "\n",
    "model_results = pd.DataFrame({\n",
    "    'Models': [\n",
    "        'BernoulliNB',\n",
    "        'Decision Tree',\n",
    "        'Extra Tree',\n",
    "        'KNN',\n",
    "        'Linear SVC',\n",
    "        'Logistic Regression CV',\n",
    "        'MLP',\n",
    "        'Random Forest',\n",
    "        'Ridge',\n",
    "        'Ridge CV',\n",
    "        'SVC',\n",
    "        'GBC',\n",
    "        'Linear SVC 2',\n",
    "        'Logistic Regression',\n",
    "        'SGDC',\n",
    "        'Perceptron',\n",
    "        'PAC'\n",
    "    ],\n",
    "    'Scores': [\n",
    "        acc_bernouli_nb,\n",
    "        acc_decision_tree,\n",
    "        acc_extra_tree,\n",
    "        acc_knn,\n",
    "        acc_linear_svc,\n",
    "        acc_logistic_cv,\n",
    "        acc_mlp,\n",
    "        acc_random_forest,\n",
    "        acc_ridge,\n",
    "        acc_ridge_cv,\n",
    "        acc_svc,\n",
    "        acc_gbc,\n",
    "        acc_linear_svc2,\n",
    "        acc_logistic_reg,\n",
    "        acc_sgd,\n",
    "        acc_perceptron,\n",
    "        acc_pac\n",
    "    ]\n",
    "})\n",
    "model_results.sort_values(by='Scores', ascending=False)"
   ]
  },
  {
   "cell_type": "code",
   "execution_count": null,
   "metadata": {},
   "outputs": [],
   "source": []
  },
  {
   "cell_type": "code",
   "execution_count": null,
   "metadata": {},
   "outputs": [],
   "source": []
  }
 ],
 "metadata": {
  "kernelspec": {
   "display_name": "Python (myenv)",
   "language": "python",
   "name": "myenv"
  },
  "language_info": {
   "codemirror_mode": {
    "name": "ipython",
    "version": 3
   },
   "file_extension": ".py",
   "mimetype": "text/x-python",
   "name": "python",
   "nbconvert_exporter": "python",
   "pygments_lexer": "ipython3",
   "version": "3.7.5"
  }
 },
 "nbformat": 4,
 "nbformat_minor": 1
}
