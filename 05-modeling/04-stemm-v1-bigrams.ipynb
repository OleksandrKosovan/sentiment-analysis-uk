{
 "cells": [
  {
   "cell_type": "markdown",
   "metadata": {},
   "source": [
    "# Content\n",
    "\n",
    "1. [Import](#1.-Import)\n",
    "2. [Read data](#2.-Read-data)\n",
    "3. [Data research](#3.-Data-research)\n",
    "4. [Data preparation](#4.-Data-preparation)\n",
    "    * [4.1. Text preparation functions](#4.1.-Text-preparation-functions)\n",
    "    * [4.2. Text preparation](#4.2.-Text-preparation)\n",
    "    * [4.3. Split test and train data](#4.3.-Split-test-and-train-data)\n",
    "5. [Modeling](#5.-Modeling)\n",
    "    * [5.1. Modeling import](#5.1.-Modeling-import)\n",
    "    * [5.2. BernoulliNB](#5.2.-BernoulliNB)\n",
    "    * [5.3. Decision Tree Classifier](#5.3.-Decision-Tree-Classifier)\n",
    "    * [5.4. Extra Trees Classifier](#5.4.-ExtraTreesClassifier)\n",
    "    * [5.5. KNeighbors Classifier](#5.5.-KNeighbors-Classifier)\n",
    "    * [5.6. LinearSVC](#5.6.-LinearSVC)\n",
    "    * [5.7. Logistic RegressionCV](#5.7.-LogisticRegressionCV)\n",
    "    * [5.8. MLPClassifier](#5.8.-MLPClassifier)\n",
    "    * [5.9. Random Forest Classifier](#5.9.-Random-Forest-Classifier)\n",
    "    * [5.10. Ridge Classifier](#5.10.-Ridge-Classifier)\n",
    "    * [5.11. RidgeClassifierCV](#5.11.-RidgeClassifierCV)\n",
    "    * [5.12. SVC](#5.12.-SVC)\n",
    "    * [5.13. Gradient Boosting Classifier](#5.13.-Gradient-Boosting-Classifier)\n",
    "    * [5.14. LinearSVC](#5.14.-LinearSVC)\n",
    "    * [5.15. LogisticRegression](#5.15.-LogisticRegression)\n",
    "    * [5.16. SGDClassifier](#5.16.-SGDClassifier)\n",
    "    * [5.17. Perceptron](#5.17.-Perceptron)\n",
    "    * [5.18. Passive Aggressive Classifier](#5.18.-Passive-Aggressive-Classifier)\n",
    "    * [5.19. Model evaluation](#5.19.-Model-evaluation)\n"
   ]
  },
  {
   "cell_type": "markdown",
   "metadata": {},
   "source": [
    "# 1. Import"
   ]
  },
  {
   "cell_type": "code",
   "execution_count": 38,
   "metadata": {},
   "outputs": [],
   "source": [
    "import os\n",
    "import re\n",
    "import string"
   ]
  },
  {
   "cell_type": "code",
   "execution_count": 39,
   "metadata": {
    "_cell_guid": "b1076dfc-b9ad-4769-8c92-a6c4dae69d19",
    "_uuid": "8f2839f25d086af736a60e9eeb907d3b93b6e0e5"
   },
   "outputs": [],
   "source": [
    "import numpy as np # linear algebra\n",
    "import pandas as pd # data processing, CSV file I/O (e.g. pd.read_csv)"
   ]
  },
  {
   "cell_type": "code",
   "execution_count": 40,
   "metadata": {},
   "outputs": [],
   "source": [
    "# Vectorizers\n",
    "from sklearn.feature_extraction.text import TfidfVectorizer"
   ]
  },
  {
   "cell_type": "code",
   "execution_count": 41,
   "metadata": {},
   "outputs": [],
   "source": [
    "from sklearn.model_selection import train_test_split\n",
    "from sklearn.metrics import f1_score\n",
    "from sklearn.metrics import classification_report"
   ]
  },
  {
   "cell_type": "code",
   "execution_count": 42,
   "metadata": {},
   "outputs": [],
   "source": [
    "from preparator import text_normalization"
   ]
  },
  {
   "cell_type": "markdown",
   "metadata": {},
   "source": [
    "# 2. Read data"
   ]
  },
  {
   "cell_type": "code",
   "execution_count": 43,
   "metadata": {},
   "outputs": [],
   "source": [
    "train = pd.read_csv('data/data-stemming.csv')"
   ]
  },
  {
   "cell_type": "code",
   "execution_count": 44,
   "metadata": {},
   "outputs": [],
   "source": [
    "train.text = train.text.apply(text_normalization)"
   ]
  },
  {
   "cell_type": "markdown",
   "metadata": {},
   "source": [
    "# 3. Data research"
   ]
  },
  {
   "cell_type": "code",
   "execution_count": 45,
   "metadata": {},
   "outputs": [
    {
     "data": {
      "text/html": [
       "<div>\n",
       "<style scoped>\n",
       "    .dataframe tbody tr th:only-of-type {\n",
       "        vertical-align: middle;\n",
       "    }\n",
       "\n",
       "    .dataframe tbody tr th {\n",
       "        vertical-align: top;\n",
       "    }\n",
       "\n",
       "    .dataframe thead th {\n",
       "        text-align: right;\n",
       "    }\n",
       "</style>\n",
       "<table border=\"1\" class=\"dataframe\">\n",
       "  <thead>\n",
       "    <tr style=\"text-align: right;\">\n",
       "      <th></th>\n",
       "      <th>text</th>\n",
       "      <th>target</th>\n",
       "    </tr>\n",
       "  </thead>\n",
       "  <tbody>\n",
       "    <tr>\n",
       "      <th>0</th>\n",
       "      <td>в кінцев результат робот данн інтернетмагазин ...</td>\n",
       "      <td>positive</td>\n",
       "    </tr>\n",
       "    <tr>\n",
       "      <th>1</th>\n",
       "      <td>замов md доставил швидк тут питан нем звичаин...</td>\n",
       "      <td>negative</td>\n",
       "    </tr>\n",
       "    <tr>\n",
       "      <th>2</th>\n",
       "      <td>зірв передноворічн замовленн зіпсув празднікпр...</td>\n",
       "      <td>negative</td>\n",
       "    </tr>\n",
       "    <tr>\n",
       "      <th>3</th>\n",
       "      <td>замов корпус і блок живленн комплект зі сторін...</td>\n",
       "      <td>positive</td>\n",
       "    </tr>\n",
       "    <tr>\n",
       "      <th>4</th>\n",
       "      <td>замов у них парогенератор і відраз иог оплат ...</td>\n",
       "      <td>negative</td>\n",
       "    </tr>\n",
       "  </tbody>\n",
       "</table>\n",
       "</div>"
      ],
      "text/plain": [
       "                                                text    target\n",
       "0  в кінцев результат робот данн інтернетмагазин ...  positive\n",
       "1   замов md доставил швидк тут питан нем звичаин...  negative\n",
       "2  зірв передноворічн замовленн зіпсув празднікпр...  negative\n",
       "3  замов корпус і блок живленн комплект зі сторін...  positive\n",
       "4   замов у них парогенератор і відраз иог оплат ...  negative"
      ]
     },
     "execution_count": 45,
     "metadata": {},
     "output_type": "execute_result"
    }
   ],
   "source": [
    "train.head()"
   ]
  },
  {
   "cell_type": "code",
   "execution_count": 46,
   "metadata": {},
   "outputs": [
    {
     "data": {
      "text/plain": [
       "(3034, 2)"
      ]
     },
     "execution_count": 46,
     "metadata": {},
     "output_type": "execute_result"
    }
   ],
   "source": [
    "train.shape"
   ]
  },
  {
   "cell_type": "code",
   "execution_count": 47,
   "metadata": {},
   "outputs": [
    {
     "data": {
      "text/plain": [
       "text      0\n",
       "target    0\n",
       "dtype: int64"
      ]
     },
     "execution_count": 47,
     "metadata": {},
     "output_type": "execute_result"
    }
   ],
   "source": [
    "train.isna().sum()"
   ]
  },
  {
   "cell_type": "code",
   "execution_count": 48,
   "metadata": {},
   "outputs": [
    {
     "data": {
      "text/plain": [
       "array(['positive', 'negative'], dtype=object)"
      ]
     },
     "execution_count": 48,
     "metadata": {},
     "output_type": "execute_result"
    }
   ],
   "source": [
    "train.target.unique()"
   ]
  },
  {
   "cell_type": "code",
   "execution_count": 49,
   "metadata": {},
   "outputs": [],
   "source": [
    "text = train.text\n",
    "target = train.target"
   ]
  },
  {
   "cell_type": "markdown",
   "metadata": {},
   "source": [
    "# 4. Data preparation"
   ]
  },
  {
   "cell_type": "code",
   "execution_count": 50,
   "metadata": {},
   "outputs": [],
   "source": [
    "def do_nothing(tokens):\n",
    "    return tokens\n",
    "\n",
    "# TfidfVectorizer\n",
    "tfidf_vectorizer = TfidfVectorizer(\n",
    "    tokenizer=do_nothing, \n",
    "    preprocessor=None,\n",
    "    lowercase=False,\n",
    "    ngram_range=(1, 2)\n",
    ")"
   ]
  },
  {
   "cell_type": "code",
   "execution_count": 51,
   "metadata": {},
   "outputs": [],
   "source": [
    "text_counts = tfidf_vectorizer.fit_transform(text)"
   ]
  },
  {
   "cell_type": "markdown",
   "metadata": {},
   "source": [
    "### 4.3. Split test and train data"
   ]
  },
  {
   "cell_type": "code",
   "execution_count": 52,
   "metadata": {},
   "outputs": [],
   "source": [
    "X_train, X_test, y_train, y_test = train_test_split(\n",
    "    text_counts, \n",
    "    target, \n",
    "    test_size=0.33, \n",
    "    random_state=4521\n",
    ")"
   ]
  },
  {
   "cell_type": "code",
   "execution_count": 53,
   "metadata": {
    "_cell_guid": "79c7e3d0-c299-4dcb-8224-4455121ee9b0",
    "_uuid": "d629ff2d2480ee46fbb7e2d37f6b5fab8052498a"
   },
   "outputs": [
    {
     "name": "stdout",
     "output_type": "stream",
     "text": [
      "X train shape: (2032, 2015)\n",
      "Y train shape: (2032,)\n",
      "X test shape: (1002, 2015)\n",
      "Y test shape: (1002,)\n"
     ]
    }
   ],
   "source": [
    "print(\"X train shape: {0}\".format(X_train.shape))\n",
    "print(\"Y train shape: {0}\".format(y_train.shape))\n",
    "print(\"X test shape: {0}\".format(X_test.shape))\n",
    "print(\"Y test shape: {0}\".format(y_test.shape))"
   ]
  },
  {
   "cell_type": "markdown",
   "metadata": {},
   "source": [
    "# 5. Modeling"
   ]
  },
  {
   "cell_type": "markdown",
   "metadata": {},
   "source": [
    "### 5.1. Modeling import"
   ]
  },
  {
   "cell_type": "code",
   "execution_count": 54,
   "metadata": {},
   "outputs": [],
   "source": [
    "from sklearn.naive_bayes import BernoulliNB\n",
    "from sklearn.tree import DecisionTreeClassifier\n",
    "from sklearn.ensemble import ExtraTreesClassifier\n",
    "from sklearn.naive_bayes import GaussianNB\n",
    "from sklearn.neighbors import KNeighborsClassifier\n",
    "from sklearn.svm import LinearSVC\n",
    "from sklearn.linear_model import LogisticRegression\n",
    "from sklearn.linear_model import LogisticRegressionCV \n",
    "from sklearn.neural_network import MLPClassifier\n",
    "from sklearn.neighbors import NearestCentroid\n",
    "from sklearn.neighbors import RadiusNeighborsClassifier\n",
    "from sklearn.ensemble import RandomForestClassifier\n",
    "from sklearn.linear_model import RidgeClassifier\n",
    "from sklearn.linear_model import RidgeClassifierCV"
   ]
  },
  {
   "cell_type": "code",
   "execution_count": 55,
   "metadata": {},
   "outputs": [],
   "source": [
    "from sklearn.svm import SVC\n",
    "from sklearn.ensemble import GradientBoostingClassifier\n",
    "from sklearn.gaussian_process import GaussianProcessClassifier\n",
    "from sklearn.linear_model import SGDClassifier\n",
    "from sklearn.linear_model import Perceptron\n",
    "from sklearn.linear_model import PassiveAggressiveClassifier"
   ]
  },
  {
   "cell_type": "code",
   "execution_count": 56,
   "metadata": {},
   "outputs": [],
   "source": [
    "def model_scoring(clf, X_test, y_test):\n",
    "    predicted= clf.predict(X_test)\n",
    "    print(classification_report(y_test, predicted))"
   ]
  },
  {
   "cell_type": "markdown",
   "metadata": {},
   "source": [
    "### 5.2. BernoulliNB"
   ]
  },
  {
   "cell_type": "code",
   "execution_count": 57,
   "metadata": {},
   "outputs": [
    {
     "name": "stdout",
     "output_type": "stream",
     "text": [
      "              precision    recall  f1-score   support\n",
      "\n",
      "    negative       0.75      0.61      0.68       620\n",
      "    positive       0.52      0.68      0.59       382\n",
      "\n",
      "    accuracy                           0.64      1002\n",
      "   macro avg       0.64      0.64      0.63      1002\n",
      "weighted avg       0.66      0.64      0.64      1002\n",
      "\n",
      "CPU times: user 70.9 ms, sys: 7.09 ms, total: 78 ms\n",
      "Wall time: 99.1 ms\n"
     ]
    }
   ],
   "source": [
    "%%time\n",
    "# BernoulliNB\n",
    "\n",
    "clf = BernoulliNB().fit(X_train, y_train)\n",
    "model_scoring(clf, X_test, y_test)\n",
    "\n",
    "acc_bernouli_nb = round(clf.score(X_test, y_test), 2)"
   ]
  },
  {
   "cell_type": "markdown",
   "metadata": {},
   "source": [
    "### 5.3. Decision Tree Classifier"
   ]
  },
  {
   "cell_type": "code",
   "execution_count": 58,
   "metadata": {},
   "outputs": [
    {
     "name": "stdout",
     "output_type": "stream",
     "text": [
      "              precision    recall  f1-score   support\n",
      "\n",
      "    negative       0.70      0.74      0.72       620\n",
      "    positive       0.54      0.49      0.51       382\n",
      "\n",
      "    accuracy                           0.64      1002\n",
      "   macro avg       0.62      0.61      0.62      1002\n",
      "weighted avg       0.64      0.64      0.64      1002\n",
      "\n",
      "CPU times: user 1.44 s, sys: 25.1 ms, total: 1.47 s\n",
      "Wall time: 1.57 s\n"
     ]
    }
   ],
   "source": [
    "%%time\n",
    "# DecisionTreeClassifier\n",
    "\n",
    "clf = DecisionTreeClassifier().fit(X_train, y_train)\n",
    "model_scoring(clf, X_test, y_test)\n",
    "\n",
    "acc_decision_tree = round(clf.score(X_test, y_test), 2)"
   ]
  },
  {
   "cell_type": "markdown",
   "metadata": {},
   "source": [
    "### 5.4. ExtraTreesClassifier"
   ]
  },
  {
   "cell_type": "code",
   "execution_count": 59,
   "metadata": {},
   "outputs": [
    {
     "name": "stdout",
     "output_type": "stream",
     "text": [
      "              precision    recall  f1-score   support\n",
      "\n",
      "    negative       0.69      0.97      0.81       620\n",
      "    positive       0.87      0.30      0.44       382\n",
      "\n",
      "    accuracy                           0.71      1002\n",
      "   macro avg       0.78      0.63      0.62      1002\n",
      "weighted avg       0.76      0.71      0.67      1002\n",
      "\n",
      "CPU times: user 3.93 s, sys: 59.5 ms, total: 3.99 s\n",
      "Wall time: 4.32 s\n"
     ]
    }
   ],
   "source": [
    "%%time\n",
    "# ExtraTreesClassifier\n",
    "\n",
    "clf = ExtraTreesClassifier().fit(X_train, y_train)\n",
    "model_scoring(clf, X_test, y_test)\n",
    "\n",
    "acc_extra_tree = round(clf.score(X_test, y_test), 2)"
   ]
  },
  {
   "cell_type": "markdown",
   "metadata": {},
   "source": [
    "### 5.5. KNeighbors Classifier"
   ]
  },
  {
   "cell_type": "code",
   "execution_count": 60,
   "metadata": {},
   "outputs": [
    {
     "name": "stdout",
     "output_type": "stream",
     "text": [
      "              precision    recall  f1-score   support\n",
      "\n",
      "    negative       0.64      0.93      0.76       620\n",
      "    positive       0.59      0.15      0.24       382\n",
      "\n",
      "    accuracy                           0.64      1002\n",
      "   macro avg       0.62      0.54      0.50      1002\n",
      "weighted avg       0.62      0.64      0.56      1002\n",
      "\n",
      "CPU times: user 1.8 s, sys: 57.1 ms, total: 1.85 s\n",
      "Wall time: 1.89 s\n"
     ]
    }
   ],
   "source": [
    "%%time\n",
    "# KNeighborsClassifier\n",
    "\n",
    "clf = KNeighborsClassifier().fit(X_train, y_train)\n",
    "model_scoring(clf, X_test, y_test)\n",
    "\n",
    "acc_knn = round(clf.score(X_test, y_test), 2)"
   ]
  },
  {
   "cell_type": "markdown",
   "metadata": {},
   "source": [
    "### 5.6. LinearSVC"
   ]
  },
  {
   "cell_type": "code",
   "execution_count": 61,
   "metadata": {},
   "outputs": [
    {
     "name": "stdout",
     "output_type": "stream",
     "text": [
      "              precision    recall  f1-score   support\n",
      "\n",
      "    negative       0.74      0.96      0.84       620\n",
      "    positive       0.87      0.46      0.60       382\n",
      "\n",
      "    accuracy                           0.77      1002\n",
      "   macro avg       0.80      0.71      0.72      1002\n",
      "weighted avg       0.79      0.77      0.75      1002\n",
      "\n",
      "CPU times: user 385 ms, sys: 10.6 ms, total: 395 ms\n",
      "Wall time: 415 ms\n"
     ]
    }
   ],
   "source": [
    "%%time\n",
    "# LinearSVC  (setting multi_class=”crammer_singer”)\n",
    "\n",
    "clf = LinearSVC(multi_class=\"crammer_singer\").fit(X_train, y_train)\n",
    "model_scoring(clf, X_test, y_test)\n",
    "\n",
    "acc_linear_svc = round(clf.score(X_test, y_test), 2)"
   ]
  },
  {
   "cell_type": "markdown",
   "metadata": {},
   "source": [
    "### 5.7. LogisticRegressionCV"
   ]
  },
  {
   "cell_type": "code",
   "execution_count": 62,
   "metadata": {},
   "outputs": [
    {
     "name": "stderr",
     "output_type": "stream",
     "text": [
      "/Users/oleksandrkosovan/opt/anaconda3/envs/myenv/lib/python3.7/site-packages/sklearn/linear_model/_logistic.py:940: ConvergenceWarning: lbfgs failed to converge (status=1):\n",
      "STOP: TOTAL NO. of ITERATIONS REACHED LIMIT.\n",
      "\n",
      "Increase the number of iterations (max_iter) or scale the data as shown in:\n",
      "    https://scikit-learn.org/stable/modules/preprocessing.html\n",
      "Please also refer to the documentation for alternative solver options:\n",
      "    https://scikit-learn.org/stable/modules/linear_model.html#logistic-regression\n",
      "  extra_warning_msg=_LOGISTIC_SOLVER_CONVERGENCE_MSG)\n",
      "/Users/oleksandrkosovan/opt/anaconda3/envs/myenv/lib/python3.7/site-packages/sklearn/linear_model/_logistic.py:940: ConvergenceWarning: lbfgs failed to converge (status=1):\n",
      "STOP: TOTAL NO. of ITERATIONS REACHED LIMIT.\n",
      "\n",
      "Increase the number of iterations (max_iter) or scale the data as shown in:\n",
      "    https://scikit-learn.org/stable/modules/preprocessing.html\n",
      "Please also refer to the documentation for alternative solver options:\n",
      "    https://scikit-learn.org/stable/modules/linear_model.html#logistic-regression\n",
      "  extra_warning_msg=_LOGISTIC_SOLVER_CONVERGENCE_MSG)\n",
      "/Users/oleksandrkosovan/opt/anaconda3/envs/myenv/lib/python3.7/site-packages/sklearn/linear_model/_logistic.py:940: ConvergenceWarning: lbfgs failed to converge (status=1):\n",
      "STOP: TOTAL NO. of ITERATIONS REACHED LIMIT.\n",
      "\n",
      "Increase the number of iterations (max_iter) or scale the data as shown in:\n",
      "    https://scikit-learn.org/stable/modules/preprocessing.html\n",
      "Please also refer to the documentation for alternative solver options:\n",
      "    https://scikit-learn.org/stable/modules/linear_model.html#logistic-regression\n",
      "  extra_warning_msg=_LOGISTIC_SOLVER_CONVERGENCE_MSG)\n",
      "/Users/oleksandrkosovan/opt/anaconda3/envs/myenv/lib/python3.7/site-packages/sklearn/linear_model/_logistic.py:940: ConvergenceWarning: lbfgs failed to converge (status=1):\n",
      "STOP: TOTAL NO. of ITERATIONS REACHED LIMIT.\n",
      "\n",
      "Increase the number of iterations (max_iter) or scale the data as shown in:\n",
      "    https://scikit-learn.org/stable/modules/preprocessing.html\n",
      "Please also refer to the documentation for alternative solver options:\n",
      "    https://scikit-learn.org/stable/modules/linear_model.html#logistic-regression\n",
      "  extra_warning_msg=_LOGISTIC_SOLVER_CONVERGENCE_MSG)\n",
      "/Users/oleksandrkosovan/opt/anaconda3/envs/myenv/lib/python3.7/site-packages/sklearn/linear_model/_logistic.py:940: ConvergenceWarning: lbfgs failed to converge (status=1):\n",
      "STOP: TOTAL NO. of ITERATIONS REACHED LIMIT.\n",
      "\n",
      "Increase the number of iterations (max_iter) or scale the data as shown in:\n",
      "    https://scikit-learn.org/stable/modules/preprocessing.html\n",
      "Please also refer to the documentation for alternative solver options:\n",
      "    https://scikit-learn.org/stable/modules/linear_model.html#logistic-regression\n",
      "  extra_warning_msg=_LOGISTIC_SOLVER_CONVERGENCE_MSG)\n"
     ]
    },
    {
     "name": "stdout",
     "output_type": "stream",
     "text": [
      "              precision    recall  f1-score   support\n",
      "\n",
      "    negative       0.80      0.89      0.84       620\n",
      "    positive       0.79      0.63      0.70       382\n",
      "\n",
      "    accuracy                           0.79      1002\n",
      "   macro avg       0.79      0.76      0.77      1002\n",
      "weighted avg       0.79      0.79      0.79      1002\n",
      "\n",
      "CPU times: user 14.4 s, sys: 193 ms, total: 14.6 s\n",
      "Wall time: 15.7 s\n"
     ]
    },
    {
     "name": "stderr",
     "output_type": "stream",
     "text": [
      "/Users/oleksandrkosovan/opt/anaconda3/envs/myenv/lib/python3.7/site-packages/sklearn/linear_model/_logistic.py:940: ConvergenceWarning: lbfgs failed to converge (status=1):\n",
      "STOP: TOTAL NO. of ITERATIONS REACHED LIMIT.\n",
      "\n",
      "Increase the number of iterations (max_iter) or scale the data as shown in:\n",
      "    https://scikit-learn.org/stable/modules/preprocessing.html\n",
      "Please also refer to the documentation for alternative solver options:\n",
      "    https://scikit-learn.org/stable/modules/linear_model.html#logistic-regression\n",
      "  extra_warning_msg=_LOGISTIC_SOLVER_CONVERGENCE_MSG)\n"
     ]
    }
   ],
   "source": [
    "%%time\n",
    "# LogisticRegressionCV(setting multi_class=”multinomial”)\n",
    "\n",
    "clf = LogisticRegressionCV(multi_class=\"multinomial\").fit(X_train, y_train)\n",
    "model_scoring(clf, X_test, y_test)\n",
    "\n",
    "acc_logistic_cv = round(clf.score(X_test, y_test), 2)"
   ]
  },
  {
   "cell_type": "markdown",
   "metadata": {},
   "source": [
    "### 5.8. MLPClassifier"
   ]
  },
  {
   "cell_type": "code",
   "execution_count": 63,
   "metadata": {},
   "outputs": [
    {
     "name": "stdout",
     "output_type": "stream",
     "text": [
      "              precision    recall  f1-score   support\n",
      "\n",
      "    negative       0.81      0.84      0.82       620\n",
      "    positive       0.72      0.67      0.69       382\n",
      "\n",
      "    accuracy                           0.78      1002\n",
      "   macro avg       0.76      0.76      0.76      1002\n",
      "weighted avg       0.77      0.78      0.77      1002\n",
      "\n",
      "CPU times: user 51.8 s, sys: 4.98 s, total: 56.7 s\n",
      "Wall time: 30.7 s\n"
     ]
    },
    {
     "name": "stderr",
     "output_type": "stream",
     "text": [
      "/Users/oleksandrkosovan/opt/anaconda3/envs/myenv/lib/python3.7/site-packages/sklearn/neural_network/_multilayer_perceptron.py:571: ConvergenceWarning: Stochastic Optimizer: Maximum iterations (200) reached and the optimization hasn't converged yet.\n",
      "  % self.max_iter, ConvergenceWarning)\n"
     ]
    }
   ],
   "source": [
    "%%time\n",
    "# MLPClassifier\n",
    "\n",
    "clf = MLPClassifier().fit(X_train, y_train)\n",
    "model_scoring(clf, X_test, y_test)\n",
    "\n",
    "acc_mlp = round(clf.score(X_test, y_test), 2)"
   ]
  },
  {
   "cell_type": "markdown",
   "metadata": {},
   "source": [
    "### 5.9. Random Forest Classifier"
   ]
  },
  {
   "cell_type": "code",
   "execution_count": 64,
   "metadata": {},
   "outputs": [
    {
     "name": "stdout",
     "output_type": "stream",
     "text": [
      "              precision    recall  f1-score   support\n",
      "\n",
      "    negative       0.71      0.94      0.81       620\n",
      "    positive       0.80      0.38      0.52       382\n",
      "\n",
      "    accuracy                           0.73      1002\n",
      "   macro avg       0.76      0.66      0.66      1002\n",
      "weighted avg       0.75      0.73      0.70      1002\n",
      "\n",
      "CPU times: user 2.85 s, sys: 44.6 ms, total: 2.89 s\n",
      "Wall time: 2.82 s\n"
     ]
    }
   ],
   "source": [
    "%%time\n",
    "# RandomForestClassifier()\n",
    "\n",
    "clf = RandomForestClassifier().fit(X_train, y_train)\n",
    "model_scoring(clf, X_test, y_test)\n",
    "\n",
    "acc_random_forest = round(clf.score(X_test, y_test), 2)"
   ]
  },
  {
   "cell_type": "markdown",
   "metadata": {},
   "source": [
    "### 5.10. Ridge Classifier"
   ]
  },
  {
   "cell_type": "code",
   "execution_count": 65,
   "metadata": {},
   "outputs": [
    {
     "name": "stdout",
     "output_type": "stream",
     "text": [
      "              precision    recall  f1-score   support\n",
      "\n",
      "    negative       0.75      0.92      0.83       620\n",
      "    positive       0.80      0.50      0.62       382\n",
      "\n",
      "    accuracy                           0.76      1002\n",
      "   macro avg       0.78      0.71      0.72      1002\n",
      "weighted avg       0.77      0.76      0.75      1002\n",
      "\n",
      "CPU times: user 74 ms, sys: 5.72 ms, total: 79.7 ms\n",
      "Wall time: 80.2 ms\n"
     ]
    }
   ],
   "source": [
    "%%time\n",
    "# RidgeClassifier\n",
    "\n",
    "clf = RidgeClassifier().fit(X_train, y_train)\n",
    "model_scoring(clf, X_test, y_test)\n",
    "\n",
    "acc_ridge = round(clf.score(X_test, y_test), 2)"
   ]
  },
  {
   "cell_type": "markdown",
   "metadata": {},
   "source": [
    "### 5.11. RidgeClassifierCV"
   ]
  },
  {
   "cell_type": "code",
   "execution_count": 66,
   "metadata": {},
   "outputs": [
    {
     "name": "stdout",
     "output_type": "stream",
     "text": [
      "              precision    recall  f1-score   support\n",
      "\n",
      "    negative       0.75      0.92      0.83       620\n",
      "    positive       0.80      0.50      0.62       382\n",
      "\n",
      "    accuracy                           0.76      1002\n",
      "   macro avg       0.78      0.71      0.72      1002\n",
      "weighted avg       0.77      0.76      0.75      1002\n",
      "\n",
      "CPU times: user 73.1 ms, sys: 4.43 ms, total: 77.6 ms\n",
      "Wall time: 75.9 ms\n"
     ]
    }
   ],
   "source": [
    "%%time\n",
    "# RidgeClassifierCV\n",
    "\n",
    "clf = RidgeClassifier().fit(X_train, y_train)\n",
    "model_scoring(clf, X_test, y_test)\n",
    "\n",
    "acc_ridge_cv = round(clf.score(X_test, y_test), 2)"
   ]
  },
  {
   "cell_type": "markdown",
   "metadata": {},
   "source": [
    "### 5.12. SVC"
   ]
  },
  {
   "cell_type": "code",
   "execution_count": 67,
   "metadata": {},
   "outputs": [
    {
     "name": "stdout",
     "output_type": "stream",
     "text": [
      "              precision    recall  f1-score   support\n",
      "\n",
      "    negative       0.74      0.96      0.83       620\n",
      "    positive       0.88      0.44      0.59       382\n",
      "\n",
      "    accuracy                           0.76      1002\n",
      "   macro avg       0.81      0.70      0.71      1002\n",
      "weighted avg       0.79      0.76      0.74      1002\n",
      "\n",
      "CPU times: user 15.2 s, sys: 284 ms, total: 15.5 s\n",
      "Wall time: 22.7 s\n"
     ]
    }
   ],
   "source": [
    "%%time\n",
    "# SVC\n",
    "\n",
    "clf = SVC().fit(X_train, y_train)\n",
    "model_scoring(clf, X_test, y_test)\n",
    "\n",
    "acc_svc = round(clf.score(X_test, y_test), 2)"
   ]
  },
  {
   "cell_type": "markdown",
   "metadata": {},
   "source": [
    "### 5.13. Gradient Boosting Classifier"
   ]
  },
  {
   "cell_type": "code",
   "execution_count": 68,
   "metadata": {},
   "outputs": [
    {
     "name": "stdout",
     "output_type": "stream",
     "text": [
      "              precision    recall  f1-score   support\n",
      "\n",
      "    negative       0.78      0.90      0.83       620\n",
      "    positive       0.78      0.59      0.67       382\n",
      "\n",
      "    accuracy                           0.78      1002\n",
      "   macro avg       0.78      0.74      0.75      1002\n",
      "weighted avg       0.78      0.78      0.77      1002\n",
      "\n",
      "CPU times: user 18.1 s, sys: 248 ms, total: 18.3 s\n",
      "Wall time: 20.5 s\n"
     ]
    }
   ],
   "source": [
    "%%time\n",
    "# GradientBoostingClassifier\n",
    "\n",
    "clf = GradientBoostingClassifier().fit(X_train, y_train)\n",
    "model_scoring(clf, X_test, y_test)\n",
    "\n",
    "acc_gbc = round(clf.score(X_test, y_test), 2)"
   ]
  },
  {
   "cell_type": "markdown",
   "metadata": {},
   "source": [
    "### 5.14. LinearSVC"
   ]
  },
  {
   "cell_type": "code",
   "execution_count": 69,
   "metadata": {},
   "outputs": [
    {
     "name": "stdout",
     "output_type": "stream",
     "text": [
      "              precision    recall  f1-score   support\n",
      "\n",
      "    negative       0.77      0.92      0.84       620\n",
      "    positive       0.81      0.56      0.66       382\n",
      "\n",
      "    accuracy                           0.78      1002\n",
      "   macro avg       0.79      0.74      0.75      1002\n",
      "weighted avg       0.78      0.78      0.77      1002\n",
      "\n",
      "CPU times: user 140 ms, sys: 6.5 ms, total: 146 ms\n",
      "Wall time: 145 ms\n"
     ]
    }
   ],
   "source": [
    "%%time\n",
    "# LinearSVC\n",
    "\n",
    "clf = LinearSVC(multi_class = \"ovr\").fit(X_train, y_train)\n",
    "model_scoring(clf, X_test, y_test)\n",
    "\n",
    "acc_linear_svc2 = round(clf.score(X_test, y_test), 2)"
   ]
  },
  {
   "cell_type": "markdown",
   "metadata": {},
   "source": [
    "### 5.15. LogisticRegression"
   ]
  },
  {
   "cell_type": "code",
   "execution_count": 70,
   "metadata": {},
   "outputs": [
    {
     "name": "stdout",
     "output_type": "stream",
     "text": [
      "              precision    recall  f1-score   support\n",
      "\n",
      "    negative       0.68      0.98      0.80       620\n",
      "    positive       0.86      0.24      0.38       382\n",
      "\n",
      "    accuracy                           0.70      1002\n",
      "   macro avg       0.77      0.61      0.59      1002\n",
      "weighted avg       0.75      0.70      0.64      1002\n",
      "\n",
      "CPU times: user 146 ms, sys: 3.52 ms, total: 149 ms\n",
      "Wall time: 153 ms\n"
     ]
    }
   ],
   "source": [
    "%%time\n",
    "# LogisticRegression multi_class=”ovr”\n",
    "\n",
    "clf = LogisticRegression(multi_class=\"ovr\").fit(X_train, y_train)\n",
    "model_scoring(clf, X_test, y_test)\n",
    "\n",
    "acc_logistic_reg = round(clf.score(X_test, y_test), 2)"
   ]
  },
  {
   "cell_type": "markdown",
   "metadata": {},
   "source": [
    "### 5.16. SGDClassifier"
   ]
  },
  {
   "cell_type": "code",
   "execution_count": 71,
   "metadata": {},
   "outputs": [
    {
     "name": "stdout",
     "output_type": "stream",
     "text": [
      "              precision    recall  f1-score   support\n",
      "\n",
      "    negative       0.74      0.96      0.84       620\n",
      "    positive       0.88      0.46      0.60       382\n",
      "\n",
      "    accuracy                           0.77      1002\n",
      "   macro avg       0.81      0.71      0.72      1002\n",
      "weighted avg       0.79      0.77      0.75      1002\n",
      "\n",
      "CPU times: user 101 ms, sys: 2.77 ms, total: 104 ms\n",
      "Wall time: 104 ms\n"
     ]
    }
   ],
   "source": [
    "%%time\n",
    "# SGDClassifier\n",
    "\n",
    "clf = SGDClassifier().fit(X_train, y_train)\n",
    "model_scoring(clf, X_test, y_test)\n",
    "\n",
    "acc_sgd = round(clf.score(X_test, y_test), 2)"
   ]
  },
  {
   "cell_type": "markdown",
   "metadata": {},
   "source": [
    "### 5.17. Perceptron"
   ]
  },
  {
   "cell_type": "code",
   "execution_count": 72,
   "metadata": {},
   "outputs": [
    {
     "name": "stdout",
     "output_type": "stream",
     "text": [
      "              precision    recall  f1-score   support\n",
      "\n",
      "    negative       0.92      0.36      0.52       620\n",
      "    positive       0.48      0.95      0.64       382\n",
      "\n",
      "    accuracy                           0.58      1002\n",
      "   macro avg       0.70      0.65      0.58      1002\n",
      "weighted avg       0.75      0.58      0.56      1002\n",
      "\n",
      "CPU times: user 63.4 ms, sys: 2.95 ms, total: 66.4 ms\n",
      "Wall time: 66.4 ms\n"
     ]
    }
   ],
   "source": [
    "%%time\n",
    "# Perceptron\n",
    "\n",
    "clf = Perceptron().fit(X_train, y_train)\n",
    "model_scoring(clf, X_test, y_test)\n",
    "\n",
    "acc_perceptron = round(clf.score(X_test, y_test), 2)"
   ]
  },
  {
   "cell_type": "markdown",
   "metadata": {},
   "source": [
    "### 5.18. Passive Aggressive Classifier"
   ]
  },
  {
   "cell_type": "code",
   "execution_count": 73,
   "metadata": {},
   "outputs": [
    {
     "name": "stdout",
     "output_type": "stream",
     "text": [
      "              precision    recall  f1-score   support\n",
      "\n",
      "    negative       0.77      0.92      0.84       620\n",
      "    positive       0.82      0.55      0.66       382\n",
      "\n",
      "    accuracy                           0.78      1002\n",
      "   macro avg       0.79      0.74      0.75      1002\n",
      "weighted avg       0.79      0.78      0.77      1002\n",
      "\n",
      "CPU times: user 194 ms, sys: 5.84 ms, total: 200 ms\n",
      "Wall time: 216 ms\n"
     ]
    }
   ],
   "source": [
    "%%time\n",
    "# PassiveAggressiveClassifier\n",
    "\n",
    "clf = PassiveAggressiveClassifier().fit(X_train, y_train)\n",
    "model_scoring(clf, X_test, y_test)\n",
    "\n",
    "acc_pac = round(clf.score(X_test, y_test), 2)"
   ]
  },
  {
   "cell_type": "markdown",
   "metadata": {},
   "source": [
    "### 5.19. Model evaluation"
   ]
  },
  {
   "cell_type": "code",
   "execution_count": 74,
   "metadata": {},
   "outputs": [
    {
     "data": {
      "text/html": [
       "<div>\n",
       "<style scoped>\n",
       "    .dataframe tbody tr th:only-of-type {\n",
       "        vertical-align: middle;\n",
       "    }\n",
       "\n",
       "    .dataframe tbody tr th {\n",
       "        vertical-align: top;\n",
       "    }\n",
       "\n",
       "    .dataframe thead th {\n",
       "        text-align: right;\n",
       "    }\n",
       "</style>\n",
       "<table border=\"1\" class=\"dataframe\">\n",
       "  <thead>\n",
       "    <tr style=\"text-align: right;\">\n",
       "      <th></th>\n",
       "      <th>Models</th>\n",
       "      <th>Scores</th>\n",
       "    </tr>\n",
       "  </thead>\n",
       "  <tbody>\n",
       "    <tr>\n",
       "      <th>5</th>\n",
       "      <td>Logistic Regression CV</td>\n",
       "      <td>0.79</td>\n",
       "    </tr>\n",
       "    <tr>\n",
       "      <th>16</th>\n",
       "      <td>PAC</td>\n",
       "      <td>0.78</td>\n",
       "    </tr>\n",
       "    <tr>\n",
       "      <th>12</th>\n",
       "      <td>Linear SVC 2</td>\n",
       "      <td>0.78</td>\n",
       "    </tr>\n",
       "    <tr>\n",
       "      <th>6</th>\n",
       "      <td>MLP</td>\n",
       "      <td>0.78</td>\n",
       "    </tr>\n",
       "    <tr>\n",
       "      <th>11</th>\n",
       "      <td>GBC</td>\n",
       "      <td>0.78</td>\n",
       "    </tr>\n",
       "    <tr>\n",
       "      <th>14</th>\n",
       "      <td>SGDC</td>\n",
       "      <td>0.77</td>\n",
       "    </tr>\n",
       "    <tr>\n",
       "      <th>4</th>\n",
       "      <td>Linear SVC</td>\n",
       "      <td>0.77</td>\n",
       "    </tr>\n",
       "    <tr>\n",
       "      <th>9</th>\n",
       "      <td>Ridge CV</td>\n",
       "      <td>0.76</td>\n",
       "    </tr>\n",
       "    <tr>\n",
       "      <th>10</th>\n",
       "      <td>SVC</td>\n",
       "      <td>0.76</td>\n",
       "    </tr>\n",
       "    <tr>\n",
       "      <th>8</th>\n",
       "      <td>Ridge</td>\n",
       "      <td>0.76</td>\n",
       "    </tr>\n",
       "    <tr>\n",
       "      <th>7</th>\n",
       "      <td>Random Forest</td>\n",
       "      <td>0.73</td>\n",
       "    </tr>\n",
       "    <tr>\n",
       "      <th>2</th>\n",
       "      <td>Extra Tree</td>\n",
       "      <td>0.71</td>\n",
       "    </tr>\n",
       "    <tr>\n",
       "      <th>13</th>\n",
       "      <td>Logistic Regression</td>\n",
       "      <td>0.70</td>\n",
       "    </tr>\n",
       "    <tr>\n",
       "      <th>1</th>\n",
       "      <td>Decision Tree</td>\n",
       "      <td>0.64</td>\n",
       "    </tr>\n",
       "    <tr>\n",
       "      <th>3</th>\n",
       "      <td>KNN</td>\n",
       "      <td>0.64</td>\n",
       "    </tr>\n",
       "    <tr>\n",
       "      <th>0</th>\n",
       "      <td>BernoulliNB</td>\n",
       "      <td>0.64</td>\n",
       "    </tr>\n",
       "    <tr>\n",
       "      <th>15</th>\n",
       "      <td>Perceptron</td>\n",
       "      <td>0.58</td>\n",
       "    </tr>\n",
       "  </tbody>\n",
       "</table>\n",
       "</div>"
      ],
      "text/plain": [
       "                    Models  Scores\n",
       "5   Logistic Regression CV    0.79\n",
       "16                     PAC    0.78\n",
       "12            Linear SVC 2    0.78\n",
       "6                      MLP    0.78\n",
       "11                     GBC    0.78\n",
       "14                    SGDC    0.77\n",
       "4               Linear SVC    0.77\n",
       "9                 Ridge CV    0.76\n",
       "10                     SVC    0.76\n",
       "8                    Ridge    0.76\n",
       "7            Random Forest    0.73\n",
       "2               Extra Tree    0.71\n",
       "13     Logistic Regression    0.70\n",
       "1            Decision Tree    0.64\n",
       "3                      KNN    0.64\n",
       "0              BernoulliNB    0.64\n",
       "15              Perceptron    0.58"
      ]
     },
     "execution_count": 74,
     "metadata": {},
     "output_type": "execute_result"
    }
   ],
   "source": [
    "# evaluation\n",
    "\n",
    "model_results = pd.DataFrame({\n",
    "    'Models': [\n",
    "        'BernoulliNB',\n",
    "        'Decision Tree',\n",
    "        'Extra Tree',\n",
    "        'KNN',\n",
    "        'Linear SVC',\n",
    "        'Logistic Regression CV',\n",
    "        'MLP',\n",
    "        'Random Forest',\n",
    "        'Ridge',\n",
    "        'Ridge CV',\n",
    "        'SVC',\n",
    "        'GBC',\n",
    "        'Linear SVC 2',\n",
    "        'Logistic Regression',\n",
    "        'SGDC',\n",
    "        'Perceptron',\n",
    "        'PAC'\n",
    "    ],\n",
    "    'Scores': [\n",
    "        acc_bernouli_nb,\n",
    "        acc_decision_tree,\n",
    "        acc_extra_tree,\n",
    "        acc_knn,\n",
    "        acc_linear_svc,\n",
    "        acc_logistic_cv,\n",
    "        acc_mlp,\n",
    "        acc_random_forest,\n",
    "        acc_ridge,\n",
    "        acc_ridge_cv,\n",
    "        acc_svc,\n",
    "        acc_gbc,\n",
    "        acc_linear_svc2,\n",
    "        acc_logistic_reg,\n",
    "        acc_sgd,\n",
    "        acc_perceptron,\n",
    "        acc_pac\n",
    "    ]\n",
    "})\n",
    "model_results.sort_values(by='Scores', ascending=False)"
   ]
  },
  {
   "cell_type": "code",
   "execution_count": null,
   "metadata": {},
   "outputs": [],
   "source": []
  },
  {
   "cell_type": "code",
   "execution_count": null,
   "metadata": {},
   "outputs": [],
   "source": []
  }
 ],
 "metadata": {
  "kernelspec": {
   "display_name": "Python (myenv)",
   "language": "python",
   "name": "myenv"
  },
  "language_info": {
   "codemirror_mode": {
    "name": "ipython",
    "version": 3
   },
   "file_extension": ".py",
   "mimetype": "text/x-python",
   "name": "python",
   "nbconvert_exporter": "python",
   "pygments_lexer": "ipython3",
   "version": "3.7.5"
  }
 },
 "nbformat": 4,
 "nbformat_minor": 1
}
