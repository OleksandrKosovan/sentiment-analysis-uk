{
 "cells": [
  {
   "cell_type": "code",
   "execution_count": null,
   "metadata": {},
   "outputs": [],
   "source": [
    "# groovy LemmatizeText.groovy -i test.txt -o test1.txt\n",
    "# https://github.com/brown-uk/nlp_uk"
   ]
  },
  {
   "cell_type": "code",
   "execution_count": null,
   "metadata": {},
   "outputs": [],
   "source": [
    "# https://github.com/brown-uk/dict_uk"
   ]
  },
  {
   "cell_type": "code",
   "execution_count": 27,
   "metadata": {},
   "outputs": [
    {
     "name": "stdout",
     "output_type": "stream",
     "text": [
      "CheckText.groovy\n",
      "Inflect.groovy\n",
      "LemmatizeText.groovy\n",
      "README.md\n",
      "TagText.groovy\n",
      "TagTextWrapper.java\n",
      "TextUtils.groovy\n",
      "TokenizeText.groovy\n",
      "logback.xml\n",
      "test.txt\n",
      "test1.txt\n"
     ]
    }
   ],
   "source": [
    "%%bash\n",
    "cd /Users/oleksandrkosovan/Documents/GitHub/nlp_uk/src/main/groovy/org/nlp_uk/tools\n",
    "ls"
   ]
  },
  {
   "cell_type": "code",
   "execution_count": 32,
   "metadata": {},
   "outputs": [
    {
     "name": "stdout",
     "output_type": "stream",
     "text": [
      "not-prepareted\n",
      "preparated\n",
      "text.txt\n",
      "test.txt\n"
     ]
    }
   ],
   "source": [
    "%%bash\n",
    "cd data\n",
    "ls\n",
    "cd not-prepareted\n",
    "ls\n",
    "cd ..\n",
    "cd preparated\n",
    "ls"
   ]
  },
  {
   "cell_type": "code",
   "execution_count": 33,
   "metadata": {},
   "outputs": [
    {
     "name": "stderr",
     "output_type": "stream",
     "text": [
      "writing into data/preparated/test.txt\n"
     ]
    }
   ],
   "source": [
    "%%bash\n",
    "\n",
    "groovy /Users/oleksandrkosovan/Documents/GitHub/nlp_uk/src/main/groovy/org/nlp_uk/tools/LemmatizeText.groovy -i data/not-prepareted/text.txt -o data/preparated/test.txt"
   ]
  },
  {
   "cell_type": "code",
   "execution_count": null,
   "metadata": {},
   "outputs": [],
   "source": []
  },
  {
   "cell_type": "code",
   "execution_count": null,
   "metadata": {},
   "outputs": [],
   "source": []
  },
  {
   "cell_type": "code",
   "execution_count": null,
   "metadata": {},
   "outputs": [],
   "source": []
  },
  {
   "cell_type": "code",
   "execution_count": null,
   "metadata": {},
   "outputs": [],
   "source": []
  }
 ],
 "metadata": {
  "kernelspec": {
   "display_name": "Python (myenv)",
   "language": "python",
   "name": "myenv"
  },
  "language_info": {
   "codemirror_mode": {
    "name": "ipython",
    "version": 3
   },
   "file_extension": ".py",
   "mimetype": "text/x-python",
   "name": "python",
   "nbconvert_exporter": "python",
   "pygments_lexer": "ipython3",
   "version": "3.7.5"
  }
 },
 "nbformat": 4,
 "nbformat_minor": 2
}
