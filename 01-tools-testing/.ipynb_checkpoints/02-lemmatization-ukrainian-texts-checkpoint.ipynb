{
 "cells": [
  {
   "cell_type": "markdown",
   "metadata": {},
   "source": [
    "# Вступ / нотатки"
   ]
  },
  {
   "cell_type": "code",
   "execution_count": 89,
   "metadata": {},
   "outputs": [],
   "source": [
    "# groovy LemmatizeText.groovy -i test.txt -o test1.txt\n",
    "# https://github.com/brown-uk/nlp_uk"
   ]
  },
  {
   "cell_type": "code",
   "execution_count": 90,
   "metadata": {},
   "outputs": [],
   "source": [
    "# https://github.com/brown-uk/dict_uk"
   ]
  },
  {
   "cell_type": "markdown",
   "metadata": {},
   "source": [
    "# Приклад лемитизації тексту з nlp_uk-groovy"
   ]
  },
  {
   "cell_type": "markdown",
   "metadata": {},
   "source": [
    "### 1. Імпорт"
   ]
  },
  {
   "cell_type": "code",
   "execution_count": 91,
   "metadata": {},
   "outputs": [],
   "source": [
    "import os"
   ]
  },
  {
   "cell_type": "markdown",
   "metadata": {},
   "source": [
    "### 2. Змінні"
   ]
  },
  {
   "cell_type": "code",
   "execution_count": 92,
   "metadata": {},
   "outputs": [],
   "source": [
    "# use brown-uk tool for lemmatization\n",
    "# LINK: https://github.com/brown-uk/nlp_uk"
   ]
  },
  {
   "cell_type": "code",
   "execution_count": 93,
   "metadata": {},
   "outputs": [],
   "source": [
    "# path to script of lemmatization\n",
    "SYSTEM_PATH = \"/Users/oleksandrkosovan/Documents/GitHub/\"\n",
    "LEM_PATH = \"nlp_uk/src/main/groovy/org/nlp_uk/tools/LemmatizeText.groovy\"\n",
    "\n",
    "IN_FILE_NAME = \"text.txt\"\n",
    "IN_DATA_PATH = \"data/not-prepareted/\"\n",
    "OUT_FILE_NAME = \"test.txt\"\n",
    "OUT_DATA_PATH = \"data/preparated/\""
   ]
  },
  {
   "cell_type": "markdown",
   "metadata": {},
   "source": [
    "### 3. Ініціалізація команди"
   ]
  },
  {
   "cell_type": "code",
   "execution_count": 94,
   "metadata": {},
   "outputs": [],
   "source": [
    "# command initialization\n",
    "\n",
    "IN_PATH = os.path.join(IN_DATA_PATH, IN_FILE_NAME)\n",
    "OUT_PATH = os.path.join(OUT_DATA_PATH, OUT_FILE_NAME)\n",
    "\n",
    "\n",
    "lem_command = \"groovy \" + os.path.join(SYSTEM_PATH, LEM_PATH) + \" -i \" + IN_PATH + \" -o \" + OUT_PATH\n"
   ]
  },
  {
   "cell_type": "code",
   "execution_count": 95,
   "metadata": {},
   "outputs": [
    {
     "name": "stdout",
     "output_type": "stream",
     "text": [
      "CPU times: user 1.24 ms, sys: 2.47 ms, total: 3.72 ms\n",
      "Wall time: 12.9 s\n"
     ]
    },
    {
     "data": {
      "text/plain": [
       "0"
      ]
     },
     "execution_count": 95,
     "metadata": {},
     "output_type": "execute_result"
    }
   ],
   "source": [
    "%%time\n",
    "\n",
    "# run the command\n",
    "os.system(lem_command)"
   ]
  },
  {
   "cell_type": "markdown",
   "metadata": {},
   "source": [
    "### 4. Аналіз результатів"
   ]
  },
  {
   "cell_type": "code",
   "execution_count": 96,
   "metadata": {},
   "outputs": [
    {
     "data": {
      "text/plain": [
       "'станом на six березня з підозрою на коронавірус в україні перевіряють девятьох людей повідомили у пресслужбі міністерства здоровядо центру громадського здоровя надійшло nine повідомлень про підозри на захворювання covid19 лабораторні дослідження у вірусологічній референслабораторії тривають кажуть у відомствінапередодні повідомлялося про шістьох людей які перебувають під наглядом через можливу наявність коронавірусув усіх випадках йшлося про чернівецьку область принаймні двоє зі шпиталізованих раніше подорожували італією\\n'"
      ]
     },
     "execution_count": 96,
     "metadata": {},
     "output_type": "execute_result"
    }
   ],
   "source": [
    "# ДО\n",
    "\n",
    "with open(os.path.join(IN_DATA_PATH, IN_FILE_NAME), 'r') as file:\n",
    "    data_before = file.read()\n",
    "\n",
    "data_before"
   ]
  },
  {
   "cell_type": "code",
   "execution_count": 97,
   "metadata": {},
   "outputs": [
    {
     "data": {
      "text/plain": [
       "'стан на six березень з підозра на коронавірус в україні перевіряти девятьох людина повідомити у пресслужба міністерство здоровядо центр громадський здоровя надійти nine повідомлення про підозра на захворювання covid19 лабораторний дослідження у вірусологічний референслабораторії тривати казати у відомствінапередодні повідомлятися про шість людина який перебувати під нагляд через можливий наявність коронавірусув усі|увесь випадок йтися про чернівецький область принаймні двоє зі шпиталізований раніше|раніший подорожувати італією\\n'"
      ]
     },
     "execution_count": 97,
     "metadata": {},
     "output_type": "execute_result"
    }
   ],
   "source": [
    "# ПІСЛЯ\n",
    "\n",
    "with open(os.path.join(OUT_DATA_PATH, OUT_FILE_NAME), 'r') as file:\n",
    "    data_after = file.read()\n",
    "\n",
    "data_after"
   ]
  },
  {
   "cell_type": "code",
   "execution_count": null,
   "metadata": {},
   "outputs": [],
   "source": []
  },
  {
   "cell_type": "code",
   "execution_count": null,
   "metadata": {},
   "outputs": [],
   "source": []
  },
  {
   "cell_type": "code",
   "execution_count": null,
   "metadata": {},
   "outputs": [],
   "source": []
  }
 ],
 "metadata": {
  "kernelspec": {
   "display_name": "Python (myenv)",
   "language": "python",
   "name": "myenv"
  },
  "language_info": {
   "codemirror_mode": {
    "name": "ipython",
    "version": 3
   },
   "file_extension": ".py",
   "mimetype": "text/x-python",
   "name": "python",
   "nbconvert_exporter": "python",
   "pygments_lexer": "ipython3",
   "version": "3.7.5"
  }
 },
 "nbformat": 4,
 "nbformat_minor": 2
}
