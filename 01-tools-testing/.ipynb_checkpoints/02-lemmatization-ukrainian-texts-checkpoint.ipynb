{
 "cells": [
  {
   "cell_type": "markdown",
   "metadata": {},
   "source": [
    "# Short overview\n",
    "\n",
    "This is a project to demonstrate NLP API from LanguageTool for Ukrainian language. [More...](https://github.com/brown-uk/nlp_uk)"
   ]
  },
  {
   "cell_type": "markdown",
   "metadata": {},
   "source": [
    "### 1. Import"
   ]
  },
  {
   "cell_type": "code",
   "execution_count": 17,
   "metadata": {},
   "outputs": [],
   "source": [
    "import os"
   ]
  },
  {
   "cell_type": "markdown",
   "metadata": {},
   "source": [
    "### 2. Paramethers"
   ]
  },
  {
   "cell_type": "code",
   "execution_count": 18,
   "metadata": {},
   "outputs": [],
   "source": [
    "# We used brown-uk tool for lemmatization\n",
    "# LINK: https://github.com/brown-uk/nlp_uk"
   ]
  },
  {
   "cell_type": "code",
   "execution_count": 19,
   "metadata": {},
   "outputs": [],
   "source": [
    "# path to script of lemmatization\n",
    "SYSTEM_PATH = \"/Users/oleksandr/Documents/GitHub/\"\n",
    "LEM_PATH = \"nlp_uk/src/main/groovy/org/nlp_uk/tools/LemmatizeText.groovy\"\n",
    "\n",
    "IN_FILE_NAME = \"text.txt\"\n",
    "IN_DATA_PATH = \"data/not-prepareted/\"\n",
    "OUT_FILE_NAME = \"test.txt\"\n",
    "OUT_DATA_PATH = \"data/preparated/\""
   ]
  },
  {
   "cell_type": "markdown",
   "metadata": {},
   "source": [
    "### 3. Command for lemmatization"
   ]
  },
  {
   "cell_type": "code",
   "execution_count": 20,
   "metadata": {},
   "outputs": [],
   "source": [
    "# command initialization\n",
    "\n",
    "IN_PATH = os.path.join(IN_DATA_PATH, IN_FILE_NAME)\n",
    "OUT_PATH = os.path.join(OUT_DATA_PATH, OUT_FILE_NAME)\n",
    "\n",
    "\n",
    "lem_command = \"groovy \" + os.path.join(SYSTEM_PATH, LEM_PATH) + \" -i \" + IN_PATH + \" -o \" + OUT_PATH\n"
   ]
  },
  {
   "cell_type": "code",
   "execution_count": 21,
   "metadata": {},
   "outputs": [
    {
     "data": {
      "text/plain": [
       "'groovy /Users/oleksandr/Documents/GitHub/nlp_uk/src/main/groovy/org/nlp_uk/tools/LemmatizeText.groovy -i data/not-prepareted/text.txt -o data/preparated/test.txt'"
      ]
     },
     "execution_count": 21,
     "metadata": {},
     "output_type": "execute_result"
    }
   ],
   "source": [
    "lem_command"
   ]
  },
  {
   "cell_type": "code",
   "execution_count": 22,
   "metadata": {},
   "outputs": [
    {
     "name": "stdout",
     "output_type": "stream",
     "text": [
      "CPU times: user 426 µs, sys: 1.07 ms, total: 1.5 ms\n",
      "Wall time: 3.9 ms\n"
     ]
    },
    {
     "data": {
      "text/plain": [
       "32512"
      ]
     },
     "execution_count": 22,
     "metadata": {},
     "output_type": "execute_result"
    }
   ],
   "source": [
    "%%time\n",
    "\n",
    "# run the command\n",
    "os.system(lem_command)"
   ]
  },
  {
   "cell_type": "markdown",
   "metadata": {},
   "source": [
    "### 4. Testing"
   ]
  },
  {
   "cell_type": "code",
   "execution_count": 23,
   "metadata": {},
   "outputs": [
    {
     "data": {
      "text/plain": [
       "'станом на six березня з підозрою на коронавірус в україні перевіряють девятьох людей повідомили у пресслужбі міністерства здоровядо центру громадського здоровя надійшло nine повідомлень про підозри на захворювання covid19 лабораторні дослідження у вірусологічній референслабораторії тривають кажуть у відомствінапередодні повідомлялося про шістьох людей які перебувають під наглядом через можливу наявність коронавірусув усіх випадках йшлося про чернівецьку область принаймні двоє зі шпиталізованих раніше подорожували італією\\n'"
      ]
     },
     "execution_count": 23,
     "metadata": {},
     "output_type": "execute_result"
    }
   ],
   "source": [
    "# ДО\n",
    "\n",
    "with open(os.path.join(IN_DATA_PATH, IN_FILE_NAME), 'r') as file:\n",
    "    data_before = file.read()\n",
    "\n",
    "data_before"
   ]
  },
  {
   "cell_type": "code",
   "execution_count": 24,
   "metadata": {},
   "outputs": [
    {
     "data": {
      "text/plain": [
       "'стан на six березень з підозра на коронавірус в україні перевіряти девятьох людина повідомити у пресслужба міністерство здоровядо центр громадський здоровя надійти nine повідомлення про підозра на захворювання covid19 лабораторний дослідження у вірусологічний референслабораторії тривати казати у відомствінапередодні повідомлятися про шість людина який перебувати під нагляд через можливий наявність коронавірусув усі|увесь випадок йтися про чернівецький область принаймні двоє зі шпиталізований раніше|раніший подорожувати італією\\n'"
      ]
     },
     "execution_count": 24,
     "metadata": {},
     "output_type": "execute_result"
    }
   ],
   "source": [
    "# ПІСЛЯ\n",
    "\n",
    "with open(os.path.join(OUT_DATA_PATH, OUT_FILE_NAME), 'r') as file:\n",
    "    data_after = file.read()\n",
    "\n",
    "data_after"
   ]
  },
  {
   "cell_type": "code",
   "execution_count": null,
   "metadata": {},
   "outputs": [],
   "source": []
  }
 ],
 "metadata": {
  "kernelspec": {
   "display_name": "Anaconda Env",
   "language": "python",
   "name": "condaenv"
  },
  "language_info": {
   "codemirror_mode": {
    "name": "ipython",
    "version": 3
   },
   "file_extension": ".py",
   "mimetype": "text/x-python",
   "name": "python",
   "nbconvert_exporter": "python",
   "pygments_lexer": "ipython3",
   "version": "3.8.5"
  }
 },
 "nbformat": 4,
 "nbformat_minor": 2
}
