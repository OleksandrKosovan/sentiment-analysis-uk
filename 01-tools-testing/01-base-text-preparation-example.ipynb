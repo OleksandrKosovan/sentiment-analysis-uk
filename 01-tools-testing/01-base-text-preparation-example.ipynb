{
 "cells": [
  {
   "cell_type": "markdown",
   "metadata": {},
   "source": [
    "### Import"
   ]
  },
  {
   "cell_type": "code",
   "execution_count": 106,
   "metadata": {},
   "outputs": [],
   "source": [
    "import re\n",
    "import unicodedata"
   ]
  },
  {
   "cell_type": "code",
   "execution_count": 107,
   "metadata": {},
   "outputs": [],
   "source": [
    "import inflect"
   ]
  },
  {
   "cell_type": "markdown",
   "metadata": {},
   "source": [
    "### Functions"
   ]
  },
  {
   "cell_type": "code",
   "execution_count": 108,
   "metadata": {},
   "outputs": [],
   "source": [
    "def remove_paragraph(text_corpus):\n",
    "    new_text_corpus = text_corpus.replace('\\n','')\n",
    "    return new_text_corpus"
   ]
  },
  {
   "cell_type": "code",
   "execution_count": 109,
   "metadata": {},
   "outputs": [],
   "source": [
    "def to_lowercase(text_corpus):\n",
    "    \"\"\"Convert all characters to lowercase from list of tokenized words\"\"\"\n",
    "    words = text_corpus.split(' ')\n",
    "    new_words = []\n",
    "    for word in words:\n",
    "        new_word = word.lower()\n",
    "        new_words.append(new_word)\n",
    "    return ' '.join(new_words)"
   ]
  },
  {
   "cell_type": "code",
   "execution_count": 110,
   "metadata": {},
   "outputs": [],
   "source": [
    "def remove_punctuation(text_corpus):\n",
    "    \"\"\"Remove punctuation from list of tokenized words\"\"\"\n",
    "    words = text_corpus.split(' ')\n",
    "    new_words = []\n",
    "    for word in words:\n",
    "        new_word = re.sub(r'[^\\w\\s]', '', word)\n",
    "        if new_word != '':\n",
    "            new_words.append(new_word)\n",
    "    return ' '.join(new_words)"
   ]
  },
  {
   "cell_type": "code",
   "execution_count": 111,
   "metadata": {},
   "outputs": [],
   "source": [
    "def replace_numbers(text_corpus):\n",
    "    \"\"\"Replace all interger occurrences in list of tokenized words with textual representation\"\"\"\n",
    "    words = text_corpus.split(' ')\n",
    "    p = inflect.engine()\n",
    "    new_words = []\n",
    "    for word in words:\n",
    "        if word.isdigit():\n",
    "            new_word = p.number_to_words(word)\n",
    "            new_words.append(new_word)\n",
    "        else:\n",
    "            new_words.append(word)\n",
    "    return ' '.join(new_words)"
   ]
  },
  {
   "cell_type": "markdown",
   "metadata": {},
   "source": [
    "### Data"
   ]
  },
  {
   "cell_type": "markdown",
   "metadata": {},
   "source": [
    "Для прикладу ми використаємо новину з BBC Ukraine - [посилання](https://www.bbc.com/ukrainian/news-51767815)."
   ]
  },
  {
   "cell_type": "code",
   "execution_count": 112,
   "metadata": {},
   "outputs": [],
   "source": [
    "title = \"\"\"Коронавірус в Україні: з підозрою перевіряють 9 людей\"\"\""
   ]
  },
  {
   "cell_type": "code",
   "execution_count": 113,
   "metadata": {},
   "outputs": [],
   "source": [
    "new = \"\"\"\"\n",
    "Станом на 6 березня з підозрою на коронавірус в Україні перевіряють дев'ятьох людей, повідомили у пресслужбі міністерства здоров'я.\n",
    "\n",
    "\"До Центру громадського здоров'я надійшло 9 повідомлень про підозри на захворювання COVID-19, лабораторні дослідження у вірусологічній референс-лабораторії тривають\", - кажуть у відомстві.\n",
    "\n",
    "Напередодні повідомлялося про шістьох людей, які перебувають під наглядом через можливу наявність коронавірусу.\n",
    "\n",
    "В усіх випадках йшлося про Чернівецьку область, принаймні двоє зі шпиталізованих раніше подорожували Італією.\n",
    "\"\"\""
   ]
  },
  {
   "cell_type": "code",
   "execution_count": null,
   "metadata": {},
   "outputs": [],
   "source": []
  },
  {
   "cell_type": "code",
   "execution_count": 114,
   "metadata": {},
   "outputs": [
    {
     "data": {
      "text/plain": [
       "'станом на six березня з підозрою на коронавірус в україні перевіряють девятьох людей повідомили у пресслужбі міністерства здоровядо центру громадського здоровя надійшло nine повідомлень про підозри на захворювання covid19 лабораторні дослідження у вірусологічній референслабораторії тривають кажуть у відомствінапередодні повідомлялося про шістьох людей які перебувають під наглядом через можливу наявність коронавірусув усіх випадках йшлося про чернівецьку область принаймні двоє зі шпиталізованих раніше подорожували італією'"
      ]
     },
     "execution_count": 114,
     "metadata": {},
     "output_type": "execute_result"
    }
   ],
   "source": [
    "test = remove_paragraph(new)\n",
    "test = to_lowercase(test)\n",
    "test = remove_punctuation(test)\n",
    "test = replace_numbers(test)\n",
    "test"
   ]
  },
  {
   "cell_type": "code",
   "execution_count": null,
   "metadata": {},
   "outputs": [],
   "source": []
  },
  {
   "cell_type": "code",
   "execution_count": null,
   "metadata": {},
   "outputs": [],
   "source": []
  },
  {
   "cell_type": "code",
   "execution_count": null,
   "metadata": {},
   "outputs": [],
   "source": []
  },
  {
   "cell_type": "code",
   "execution_count": null,
   "metadata": {},
   "outputs": [],
   "source": []
  },
  {
   "cell_type": "code",
   "execution_count": null,
   "metadata": {},
   "outputs": [],
   "source": []
  }
 ],
 "metadata": {
  "kernelspec": {
   "display_name": "Python (myenv)",
   "language": "python",
   "name": "myenv"
  },
  "language_info": {
   "codemirror_mode": {
    "name": "ipython",
    "version": 3
   },
   "file_extension": ".py",
   "mimetype": "text/x-python",
   "name": "python",
   "nbconvert_exporter": "python",
   "pygments_lexer": "ipython3",
   "version": "3.7.5"
  }
 },
 "nbformat": 4,
 "nbformat_minor": 2
}
