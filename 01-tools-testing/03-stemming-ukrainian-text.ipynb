{
 "cells": [
  {
   "cell_type": "markdown",
   "metadata": {},
   "source": [
    "### Import"
   ]
  },
  {
   "cell_type": "code",
   "execution_count": 3,
   "metadata": {},
   "outputs": [],
   "source": [
    "import re\n",
    "from uk_stemmer import UkStemmer"
   ]
  },
  {
   "cell_type": "markdown",
   "metadata": {},
   "source": [
    "### Example"
   ]
  },
  {
   "cell_type": "code",
   "execution_count": 4,
   "metadata": {},
   "outputs": [
    {
     "name": "stdout",
     "output_type": "stream",
     "text": [
      "Source: Привіт, як твої справи? Зберігайте спокій. Будь ласка, зберігайте спокій.\n",
      "Stemmed: привіт, як тво справ? зберігайт спок. буд ласк, зберігайт спок.\n"
     ]
    }
   ],
   "source": [
    "stemmer = UkStemmer()\n",
    "test_string = 'Привіт, як твої справи? Зберігайте спокій. Будь ласка, зберігайте спокій.'\n",
    "\n",
    "prepare_test_string = test_string.lower()\n",
    "words = re.split(r'(\\W)', prepare_test_string)\n",
    "words = [word for word in words if word != '']\n",
    "\n",
    "for i in range(len(words)):\n",
    "    words[i] = stemmer.stem_word(words[i])\n",
    "\n",
    "stem_test_string = ''.join(words)\n",
    "print('Source: %s\\nStemmed: %s' % (test_string, stem_test_string))"
   ]
  },
  {
   "cell_type": "markdown",
   "metadata": {},
   "source": [
    "### Function"
   ]
  },
  {
   "cell_type": "code",
   "execution_count": 5,
   "metadata": {},
   "outputs": [],
   "source": [
    "def stemming(text):    \n",
    "    prepared_text = text.lower()\n",
    "    words = re.split(r'(\\W)', prepared_text)\n",
    "    words = [word for word in words if word != '']\n",
    "    for i in range(len(words)):\n",
    "        words[i] = stemmer.stem_word(words[i])\n",
    "    stemmed_text = ''.join(words)\n",
    "    return stemmed_text"
   ]
  },
  {
   "cell_type": "code",
   "execution_count": 6,
   "metadata": {},
   "outputs": [
    {
     "data": {
      "text/plain": [
       "'привіт, як тво справ? зберігайт спок. буд ласк, зберігайт спок.'"
      ]
     },
     "execution_count": 6,
     "metadata": {},
     "output_type": "execute_result"
    }
   ],
   "source": [
    "stemming(test_string)"
   ]
  },
  {
   "cell_type": "code",
   "execution_count": null,
   "metadata": {},
   "outputs": [],
   "source": []
  }
 ],
 "metadata": {
  "kernelspec": {
   "display_name": "Anaconda Env",
   "language": "python",
   "name": "condaenv"
  },
  "language_info": {
   "codemirror_mode": {
    "name": "ipython",
    "version": 3
   },
   "file_extension": ".py",
   "mimetype": "text/x-python",
   "name": "python",
   "nbconvert_exporter": "python",
   "pygments_lexer": "ipython3",
   "version": "3.8.5"
  }
 },
 "nbformat": 4,
 "nbformat_minor": 2
}
