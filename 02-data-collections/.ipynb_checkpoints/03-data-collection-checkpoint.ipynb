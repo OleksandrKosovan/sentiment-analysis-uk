{
 "cells": [
  {
   "cell_type": "markdown",
   "metadata": {},
   "source": [
    "### Import"
   ]
  },
  {
   "cell_type": "code",
   "execution_count": 1,
   "metadata": {},
   "outputs": [],
   "source": [
    "import os"
   ]
  },
  {
   "cell_type": "code",
   "execution_count": 2,
   "metadata": {},
   "outputs": [],
   "source": [
    "from selenium import webdriver\n",
    "from langdetect import detect"
   ]
  },
  {
   "cell_type": "code",
   "execution_count": 3,
   "metadata": {},
   "outputs": [],
   "source": [
    "import requests"
   ]
  },
  {
   "cell_type": "code",
   "execution_count": 4,
   "metadata": {},
   "outputs": [],
   "source": [
    "from bs4 import BeautifulSoup"
   ]
  },
  {
   "cell_type": "code",
   "execution_count": 5,
   "metadata": {},
   "outputs": [],
   "source": [
    "import pandas as pd"
   ]
  },
  {
   "cell_type": "code",
   "execution_count": 9,
   "metadata": {},
   "outputs": [],
   "source": [
    "from tqdm import tqdm"
   ]
  },
  {
   "cell_type": "code",
   "execution_count": 10,
   "metadata": {},
   "outputs": [],
   "source": [
    "from googletrans import Translator"
   ]
  },
  {
   "cell_type": "code",
   "execution_count": 11,
   "metadata": {},
   "outputs": [
    {
     "ename": "ModuleNotFoundError",
     "evalue": "No module named 'google.cloud'",
     "output_type": "error",
     "traceback": [
      "\u001b[0;31m---------------------------------------------------------------------------\u001b[0m",
      "\u001b[0;31mModuleNotFoundError\u001b[0m                       Traceback (most recent call last)",
      "\u001b[0;32m<ipython-input-11-a8dcd1fba868>\u001b[0m in \u001b[0;36m<module>\u001b[0;34m\u001b[0m\n\u001b[1;32m      1\u001b[0m \u001b[0;32mfrom\u001b[0m \u001b[0mgoogle\u001b[0m\u001b[0;34m.\u001b[0m\u001b[0moauth2\u001b[0m \u001b[0;32mimport\u001b[0m \u001b[0mservice_account\u001b[0m\u001b[0;34m\u001b[0m\u001b[0;34m\u001b[0m\u001b[0m\n\u001b[0;32m----> 2\u001b[0;31m \u001b[0;32mfrom\u001b[0m \u001b[0mgoogle\u001b[0m\u001b[0;34m.\u001b[0m\u001b[0mcloud\u001b[0m \u001b[0;32mimport\u001b[0m \u001b[0mtranslate_v2\u001b[0m \u001b[0;32mas\u001b[0m \u001b[0mtranslate\u001b[0m\u001b[0;34m\u001b[0m\u001b[0;34m\u001b[0m\u001b[0m\n\u001b[0m",
      "\u001b[0;31mModuleNotFoundError\u001b[0m: No module named 'google.cloud'"
     ]
    }
   ],
   "source": [
    "from google.oauth2 import service_account\n",
    "from google.cloud import translate_v2 as translate"
   ]
  },
  {
   "cell_type": "code",
   "execution_count": 354,
   "metadata": {},
   "outputs": [],
   "source": [
    "credentials = service_account.Credentials.from_service_account_file('cred.json')\n",
    "translate_client = translate.Client(credentials=credentials)"
   ]
  },
  {
   "cell_type": "markdown",
   "metadata": {},
   "source": [
    "### Scraping - final test"
   ]
  },
  {
   "cell_type": "code",
   "execution_count": 355,
   "metadata": {},
   "outputs": [],
   "source": [
    "# PROXY = \"23.23.23.23:3128\" # IP:PORT or HOST:PORT\n",
    "# chrome_options = webdriver.ChromeOptions()\n",
    "# chrome_options.add_argument('--proxy-server=http://%s' % PROXY)\n"
   ]
  },
  {
   "cell_type": "code",
   "execution_count": 356,
   "metadata": {},
   "outputs": [],
   "source": [
    "# driver = webdriver.Chrome(\"driver/chromedriver\", chrome_options=chrome_options)\n",
    "driver = webdriver.Chrome(\"driver/chromedriver\")"
   ]
  },
  {
   "cell_type": "code",
   "execution_count": 357,
   "metadata": {},
   "outputs": [],
   "source": [
    "DATA_PATH = 'reviews-data/'\n",
    "positive_path = 'positive/'\n",
    "negative_path = 'negative/'"
   ]
  },
  {
   "cell_type": "code",
   "execution_count": 358,
   "metadata": {},
   "outputs": [],
   "source": [
    "LINK_ROOT = 'https://hotline.ua/yp/2476/reviews/'\n",
    "positive_link = '?dt=3&asf=1&p='\n",
    "negative_link = '?dt=3&asf=2&p='"
   ]
  },
  {
   "cell_type": "code",
   "execution_count": 359,
   "metadata": {},
   "outputs": [
    {
     "data": {
      "text/plain": [
       "'https://hotline.ua/yp/2476/reviews/?dt=3&asf=1&p='"
      ]
     },
     "execution_count": 359,
     "metadata": {},
     "output_type": "execute_result"
    }
   ],
   "source": [
    "# test\n",
    "os.path.join(LINK_ROOT, positive_link)"
   ]
  },
  {
   "cell_type": "code",
   "execution_count": 360,
   "metadata": {},
   "outputs": [
    {
     "data": {
      "text/plain": [
       "'https://hotline.ua/yp/2476/reviews/?dt=3&asf=1&p=2'"
      ]
     },
     "execution_count": 360,
     "metadata": {},
     "output_type": "execute_result"
    }
   ],
   "source": [
    "LINK = os.path.join(LINK_ROOT, positive_link) + str(2)\n",
    "LINK"
   ]
  },
  {
   "cell_type": "code",
   "execution_count": 361,
   "metadata": {},
   "outputs": [],
   "source": [
    "driver.get(LINK)"
   ]
  },
  {
   "cell_type": "code",
   "execution_count": 362,
   "metadata": {},
   "outputs": [],
   "source": [
    "content = driver.page_source\n",
    "soup = BeautifulSoup(content)"
   ]
  },
  {
   "cell_type": "code",
   "execution_count": 363,
   "metadata": {},
   "outputs": [],
   "source": [
    "divs = soup.find_all(\"div\", class_=\"viewbox\")"
   ]
  },
  {
   "cell_type": "code",
   "execution_count": null,
   "metadata": {},
   "outputs": [],
   "source": []
  },
  {
   "cell_type": "code",
   "execution_count": 364,
   "metadata": {
    "scrolled": true
   },
   "outputs": [
    {
     "name": "stdout",
     "output_type": "stream",
     "text": [
      "Замовлення (903383816) було зроблене минулої весни, але нам сподобалося ставлення – нам зателефонували і сказали, що достатньої кількості ламп немає, тож запропонували почекати тиждень, зробили знижку 15% та безкоштовну доставку.\n",
      "Також, перед новим роком ми замовляли навушники (351521507), час доставки було визначено у дуже широкому інтервалі, і коли кур'єр приїхав – нас не було на місці. Він погодився приїхати ще раз після десятої вечора з власної ініціятиви, за що йому велике спасибі.\n",
      "Щоб уникнути таких випадків, вашим кур'єрам треба телефонувати за годину чи дві до приїзду (ви ж однаково плануєте маршрут), а потім іще раз – за 10 хвилин. Або можна надсилати повідомлення. Зекономите час та нерви і кур'єрам, і клієнтам.\n",
      "Нюанси, які треба виправити:\n",
      "- Розетка виписала чек на ім'я власника платіжної картки, а не на ім'я отримувача, яке було вказане під час замовлення, через що довелося \"вгадувати ім'я\" під час доставки.\n",
      "- Оплата через сайт працює радше як замаскований переказ з картки на картку через LiqPay, а не як оплата карткою в магазині, що дивно, як для такого великого продавця.\n",
      "- Бракує можливості оплати карткою під час доставки. Навіть замовити суші зараз можна з оплатою карткою при отриманні! Оплата через сайт – це не альтернатива, бо у вас може не бути товару на складі, або він може не сподобатися при видачі.\n",
      "- Досі працює нелогічна система \"доставки із різних складів\", через що людина змушена оплачувати подвійну вартість навіть в межах одного замовлення у одного продавця.\n",
      "- Доставка у магазини дріб'язкового товару також небезкоштовна, що теж неприємно.\n",
      "                        розгорнути\n",
      "                        згорнути \n",
      "--------------------------------------------------\n"
     ]
    }
   ],
   "source": [
    "for div in divs:\n",
    "    p_tag = div.find_all(\"p\", class_=\"break-word\")\n",
    "    if p_tag != []:\n",
    "        text = p_tag[0].text\n",
    "        if detect(text) == 'uk':\n",
    "            print(text)\n",
    "            print(\"-\"*50)\n",
    "    else:\n",
    "        None"
   ]
  },
  {
   "cell_type": "markdown",
   "metadata": {},
   "source": [
    "### Final scraping"
   ]
  },
  {
   "cell_type": "code",
   "execution_count": 365,
   "metadata": {},
   "outputs": [],
   "source": [
    "def collect_data(link, file_path, start_number):\n",
    "    # preparation\n",
    "    driver.get(link)\n",
    "    # get page html content\n",
    "    content = driver.page_source\n",
    "    soup = BeautifulSoup(content)\n",
    "    # get div with reviews\n",
    "    divs = soup.find_all(\"div\", class_=\"viewbox\")\n",
    "    review_number = 0\n",
    "    # get each reviews\n",
    "    for div in divs:\n",
    "        p_tag = div.find_all(\"p\", class_=\"break-word\")\n",
    "        if p_tag != []:\n",
    "            text = p_tag[0].text\n",
    "            # detecr language [uk]\n",
    "            if detect(text) == 'uk':\n",
    "                file_name = os.path.join(file_path, 'review-%d.txt'%start_number)\n",
    "                with open(file_name, \"w\") as f:\n",
    "                    f.write(text)\n",
    "                review_number += 1\n",
    "                start_number += 1\n",
    "            else:\n",
    "                try:\n",
    "                    translator = Translator()\n",
    "                    translated_text = translate_client.translate(text, source_language='ru', target_language='uk')\n",
    "                    file_name = os.path.join(file_path, 'translated-review-%d.txt'%start_number)\n",
    "                    with open(file_name, \"w\") as f:\n",
    "                        f.write(translated_text['translatedText'])\n",
    "                    review_number += 1\n",
    "                    start_number += 1\n",
    "                except:\n",
    "                    print('some error :(')\n",
    "                \n",
    "                \n",
    "    return start_number, review_number"
   ]
  },
  {
   "cell_type": "code",
   "execution_count": 366,
   "metadata": {
    "scrolled": true
   },
   "outputs": [
    {
     "data": {
      "text/plain": [
       "\"\\nstart_index = 0\\nfor i in range(285):\\n    LINK = os.path.join(LINK_ROOT, positive_link)+str(i)\\n    index, review_number = collect_data(\\n        link=LINK, \\n        file_path=os.path.join(DATA_PATH, positive_path), \\n        start_number=start_index\\n    )\\n    start_index = index\\n    print('Iteration: ', i, 'writen: ', review_number)\\n\""
      ]
     },
     "execution_count": 366,
     "metadata": {},
     "output_type": "execute_result"
    }
   ],
   "source": [
    "# positive\n",
    "# Rozetka\n",
    "\"\"\"\n",
    "start_index = 0\n",
    "for i in range(285):\n",
    "    LINK = os.path.join(LINK_ROOT, positive_link)+str(i)\n",
    "    index, review_number = collect_data(\n",
    "        link=LINK, \n",
    "        file_path=os.path.join(DATA_PATH, positive_path), \n",
    "        start_number=start_index\n",
    "    )\n",
    "    start_index = index\n",
    "    print('Iteration: ', i, 'writen: ', review_number)\n",
    "\"\"\""
   ]
  },
  {
   "cell_type": "code",
   "execution_count": 367,
   "metadata": {
    "scrolled": true
   },
   "outputs": [
    {
     "data": {
      "text/plain": [
       "\"\\nstart_index = 1907\\nfor i in range(398, 630):\\n    \\n    LINK = os.path.join(LINK_ROOT, negative_link)+str(i)\\n    index, review_number = collect_data(\\n        link=LINK, \\n        file_path=os.path.join(DATA_PATH, negative_path), \\n        start_number=start_index\\n    )\\n    start_index = index\\n    print('Iteration: ', i, 'writen: ', review_number)\\n\""
      ]
     },
     "execution_count": 367,
     "metadata": {},
     "output_type": "execute_result"
    }
   ],
   "source": [
    "# negative (from 182)\n",
    "# Rozetka\n",
    "\"\"\"\n",
    "start_index = 1907\n",
    "for i in range(398, 630):\n",
    "    \n",
    "    LINK = os.path.join(LINK_ROOT, negative_link)+str(i)\n",
    "    index, review_number = collect_data(\n",
    "        link=LINK, \n",
    "        file_path=os.path.join(DATA_PATH, negative_path), \n",
    "        start_number=start_index\n",
    "    )\n",
    "    start_index = index\n",
    "    print('Iteration: ', i, 'writen: ', review_number)\n",
    "\"\"\""
   ]
  },
  {
   "cell_type": "code",
   "execution_count": 368,
   "metadata": {},
   "outputs": [],
   "source": [
    "# possible links:\n",
    "# Цитрус: https://hotline.ua/yp/2248/reviews/\n",
    "# MOYO: https://hotline.ua/yp/11054/reviews/\n",
    "# STYLUS: https://hotline.ua/yp/287/reviews/\n",
    "# ФОКСТРОТ: https://hotline.ua/yp/27343/reviews/"
   ]
  },
  {
   "cell_type": "code",
   "execution_count": null,
   "metadata": {},
   "outputs": [],
   "source": []
  },
  {
   "cell_type": "code",
   "execution_count": 369,
   "metadata": {
    "scrolled": true
   },
   "outputs": [
    {
     "data": {
      "text/plain": [
       "\"\\nLINK_ROOT = 'https://hotline.ua/yp/2248/reviews/'\\n\\nstart_index = 926\\nfor i in range(210, 330):\\n    LINK = os.path.join(LINK_ROOT, positive_link)+str(i)\\n    index, review_number = collect_data(\\n        link=LINK, \\n        file_path=os.path.join(DATA_PATH, positive_path), \\n        start_number=start_index\\n    )\\n    start_index = index\\n    print('Iteration: ', i, 'writen: ', review_number)\\n\""
      ]
     },
     "execution_count": 369,
     "metadata": {},
     "output_type": "execute_result"
    }
   ],
   "source": [
    "# positive\n",
    "# Цитрус\n",
    "\"\"\"\n",
    "LINK_ROOT = 'https://hotline.ua/yp/2248/reviews/'\n",
    "\n",
    "start_index = 926\n",
    "for i in range(210, 330):\n",
    "    LINK = os.path.join(LINK_ROOT, positive_link)+str(i)\n",
    "    index, review_number = collect_data(\n",
    "        link=LINK, \n",
    "        file_path=os.path.join(DATA_PATH, positive_path), \n",
    "        start_number=start_index\n",
    "    )\n",
    "    start_index = index\n",
    "    print('Iteration: ', i, 'writen: ', review_number)\n",
    "\"\"\""
   ]
  },
  {
   "cell_type": "code",
   "execution_count": 370,
   "metadata": {},
   "outputs": [
    {
     "data": {
      "text/plain": [
       "\"\\nLINK_ROOT = 'https://hotline.ua/yp/2248/reviews/'\\nstart_index = 2048\\nfor i in range(170):\\n    \\n    LINK = os.path.join(LINK_ROOT, negative_link)+str(i)\\n    index, review_number = collect_data(\\n        link=LINK, \\n        file_path=os.path.join(DATA_PATH, negative_path), \\n        start_number=start_index\\n    )\\n    start_index = index\\n    print('Iteration: ', i, 'writen: ', review_number)\\n\""
      ]
     },
     "execution_count": 370,
     "metadata": {},
     "output_type": "execute_result"
    }
   ],
   "source": [
    "# negative\n",
    "# cutrys\n",
    "\n",
    "\"\"\"\n",
    "LINK_ROOT = 'https://hotline.ua/yp/2248/reviews/'\n",
    "start_index = 2048\n",
    "for i in range(170):\n",
    "    \n",
    "    LINK = os.path.join(LINK_ROOT, negative_link)+str(i)\n",
    "    index, review_number = collect_data(\n",
    "        link=LINK, \n",
    "        file_path=os.path.join(DATA_PATH, negative_path), \n",
    "        start_number=start_index\n",
    "    )\n",
    "    start_index = index\n",
    "    print('Iteration: ', i, 'writen: ', review_number)\n",
    "\"\"\""
   ]
  },
  {
   "cell_type": "code",
   "execution_count": null,
   "metadata": {},
   "outputs": [],
   "source": []
  },
  {
   "cell_type": "code",
   "execution_count": 371,
   "metadata": {},
   "outputs": [
    {
     "data": {
      "text/plain": [
       "\"\\nLINK_ROOT = 'https://hotline.ua/yp/11054/reviews/'\\n\\nstart_index = 685\\nfor i in range(285):\\n    LINK = os.path.join(LINK_ROOT, positive_link)+str(i)\\n    index, review_number = collect_data(\\n        link=LINK, \\n        file_path=os.path.join(DATA_PATH, positive_path), \\n        start_number=start_index\\n    )\\n    start_index = index\\n    print('Iteration: ', i, 'writen: ', review_number)\\n\""
      ]
     },
     "execution_count": 371,
     "metadata": {},
     "output_type": "execute_result"
    }
   ],
   "source": [
    "# MOYO: https://hotline.ua/yp/11054/reviews/\n",
    "\n",
    "# positive\n",
    "\"\"\"\n",
    "LINK_ROOT = 'https://hotline.ua/yp/11054/reviews/'\n",
    "\n",
    "start_index = 685\n",
    "for i in range(285):\n",
    "    LINK = os.path.join(LINK_ROOT, positive_link)+str(i)\n",
    "    index, review_number = collect_data(\n",
    "        link=LINK, \n",
    "        file_path=os.path.join(DATA_PATH, positive_path), \n",
    "        start_number=start_index\n",
    "    )\n",
    "    start_index = index\n",
    "    print('Iteration: ', i, 'writen: ', review_number)\n",
    "\"\"\""
   ]
  },
  {
   "cell_type": "code",
   "execution_count": 372,
   "metadata": {
    "scrolled": true
   },
   "outputs": [
    {
     "data": {
      "text/plain": [
       "\"\\nLINK_ROOT = 'https://hotline.ua/yp/11054/reviews/'\\nstart_index = 2150\\nfor i in range(140):\\n    \\n    LINK = os.path.join(LINK_ROOT, negative_link)+str(i)\\n    index, review_number = collect_data(\\n        link=LINK, \\n        file_path=os.path.join(DATA_PATH, negative_path), \\n        start_number=start_index\\n    )\\n    start_index = index\\n    print('Iteration: ', i, 'writen: ', review_number)\\n\""
      ]
     },
     "execution_count": 372,
     "metadata": {},
     "output_type": "execute_result"
    }
   ],
   "source": [
    "# negative\n",
    "\n",
    "\"\"\"\n",
    "LINK_ROOT = 'https://hotline.ua/yp/11054/reviews/'\n",
    "start_index = 2150\n",
    "for i in range(140):\n",
    "    \n",
    "    LINK = os.path.join(LINK_ROOT, negative_link)+str(i)\n",
    "    index, review_number = collect_data(\n",
    "        link=LINK, \n",
    "        file_path=os.path.join(DATA_PATH, negative_path), \n",
    "        start_number=start_index\n",
    "    )\n",
    "    start_index = index\n",
    "    print('Iteration: ', i, 'writen: ', review_number)\n",
    "\"\"\""
   ]
  },
  {
   "cell_type": "code",
   "execution_count": null,
   "metadata": {},
   "outputs": [],
   "source": []
  },
  {
   "cell_type": "code",
   "execution_count": 373,
   "metadata": {
    "scrolled": true
   },
   "outputs": [
    {
     "data": {
      "text/plain": [
       "\"\\nLINK_ROOT = 'https://hotline.ua/yp/287/reviews/'\\n\\nstart_index = 715\\nfor i in range(285):\\n    LINK = os.path.join(LINK_ROOT, positive_link)+str(i)\\n    index, review_number = collect_data(\\n        link=LINK, \\n        file_path=os.path.join(DATA_PATH, positive_path), \\n        start_number=start_index\\n    )\\n    start_index = index\\n    print('Iteration: ', i, 'writen: ', review_number)\\n\""
      ]
     },
     "execution_count": 373,
     "metadata": {},
     "output_type": "execute_result"
    }
   ],
   "source": [
    "# STYLUS: https://hotline.ua/yp/287/reviews/\n",
    "\n",
    "# positive\n",
    "\"\"\"\n",
    "LINK_ROOT = 'https://hotline.ua/yp/287/reviews/'\n",
    "\n",
    "start_index = 715\n",
    "for i in range(285):\n",
    "    LINK = os.path.join(LINK_ROOT, positive_link)+str(i)\n",
    "    index, review_number = collect_data(\n",
    "        link=LINK, \n",
    "        file_path=os.path.join(DATA_PATH, positive_path), \n",
    "        start_number=start_index\n",
    "    )\n",
    "    start_index = index\n",
    "    print('Iteration: ', i, 'writen: ', review_number)\n",
    "\"\"\""
   ]
  },
  {
   "cell_type": "code",
   "execution_count": 1,
   "metadata": {
    "scrolled": true
   },
   "outputs": [
    {
     "data": {
      "text/plain": [
       "\"\\nLINK_ROOT = 'https://hotline.ua/yp/287/reviews/'\\n\\nstart_index = 2260\\nfor i in range(190):\\n    \\n    LINK = os.path.join(LINK_ROOT, negative_link)+str(i)\\n    index, review_number = collect_data(\\n        link=LINK, \\n        file_path=os.path.join(DATA_PATH, negative_path), \\n        start_number=start_index\\n    )\\n    start_index = index\\n    print('Iteration: ', i, 'writen: ', review_number)\\n\""
      ]
     },
     "execution_count": 1,
     "metadata": {},
     "output_type": "execute_result"
    }
   ],
   "source": [
    "# negative\n",
    "\n",
    "\"\"\"\n",
    "LINK_ROOT = 'https://hotline.ua/yp/287/reviews/'\n",
    "\n",
    "start_index = 2260\n",
    "for i in range(190):\n",
    "    \n",
    "    LINK = os.path.join(LINK_ROOT, negative_link)+str(i)\n",
    "    index, review_number = collect_data(\n",
    "        link=LINK, \n",
    "        file_path=os.path.join(DATA_PATH, negative_path), \n",
    "        start_number=start_index\n",
    "    )\n",
    "    start_index = index\n",
    "    print('Iteration: ', i, 'writen: ', review_number)\n",
    "\"\"\""
   ]
  },
  {
   "cell_type": "code",
   "execution_count": null,
   "metadata": {},
   "outputs": [],
   "source": []
  },
  {
   "cell_type": "code",
   "execution_count": null,
   "metadata": {},
   "outputs": [],
   "source": []
  }
 ],
 "metadata": {
  "kernelspec": {
   "display_name": "Anaconda Env",
   "language": "python",
   "name": "condaenv"
  },
  "language_info": {
   "codemirror_mode": {
    "name": "ipython",
    "version": 3
   },
   "file_extension": ".py",
   "mimetype": "text/x-python",
   "name": "python",
   "nbconvert_exporter": "python",
   "pygments_lexer": "ipython3",
   "version": "3.8.5"
  }
 },
 "nbformat": 4,
 "nbformat_minor": 2
}
