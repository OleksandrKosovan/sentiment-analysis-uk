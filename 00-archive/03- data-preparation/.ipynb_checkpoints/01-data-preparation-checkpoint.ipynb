{
 "cells": [
  {
   "cell_type": "markdown",
   "metadata": {},
   "source": [
    "### Import"
   ]
  },
  {
   "cell_type": "code",
   "execution_count": 1,
   "metadata": {},
   "outputs": [],
   "source": [
    "import re\n",
    "import os"
   ]
  },
  {
   "cell_type": "code",
   "execution_count": 2,
   "metadata": {},
   "outputs": [],
   "source": [
    "import inflect"
   ]
  },
  {
   "cell_type": "code",
   "execution_count": 3,
   "metadata": {},
   "outputs": [],
   "source": [
    "from tqdm import tqdm"
   ]
  },
  {
   "cell_type": "markdown",
   "metadata": {},
   "source": [
    "### Функції"
   ]
  },
  {
   "cell_type": "code",
   "execution_count": null,
   "metadata": {},
   "outputs": [],
   "source": [
    "def unicode_normalization(text):\n",
    "    \"\"\"\"\n",
    "    Remove string like \"\\xa0\\\"\n",
    "    \"\"\"\n",
    "    normalized_text = unicodedata.normalize(\"NFKD\", text)\n",
    "    return normalized_text"
   ]
  },
  {
   "cell_type": "code",
   "execution_count": 4,
   "metadata": {},
   "outputs": [],
   "source": [
    "def remove_paragraph(text_corpus):\n",
    "    new_text_corpus = text_corpus.replace('\\n','')\n",
    "    return new_text_corpus"
   ]
  },
  {
   "cell_type": "code",
   "execution_count": 5,
   "metadata": {},
   "outputs": [],
   "source": [
    "def to_lowercase(text_corpus):\n",
    "    \"\"\"Convert all characters to lowercase from list of tokenized words\"\"\"\n",
    "    words = text_corpus.split(' ')\n",
    "    new_words = []\n",
    "    for word in words:\n",
    "        new_word = word.lower()\n",
    "        new_words.append(new_word)\n",
    "    return ' '.join(new_words)"
   ]
  },
  {
   "cell_type": "code",
   "execution_count": 6,
   "metadata": {},
   "outputs": [],
   "source": [
    "def remove_punctuation(text_corpus):\n",
    "    \"\"\"Remove punctuation from list of tokenized words\"\"\"\n",
    "    words = text_corpus.split(' ')\n",
    "    new_words = []\n",
    "    for word in words:\n",
    "        new_word = re.sub(r'[^\\w\\s]', '', word)\n",
    "        if new_word != '':\n",
    "            new_words.append(new_word)\n",
    "    return ' '.join(new_words)"
   ]
  },
  {
   "cell_type": "code",
   "execution_count": 7,
   "metadata": {},
   "outputs": [],
   "source": [
    "def remove_numbers(text):\n",
    "    return ''.join([i for i in text if not i.isdigit()])"
   ]
  },
  {
   "cell_type": "code",
   "execution_count": 8,
   "metadata": {},
   "outputs": [],
   "source": [
    "SYSTEM_PATH = \"/Users/oleksandrkosovan/Documents/GitHub/\"\n",
    "LEM_PATH = \"nlp_uk/src/main/groovy/org/nlp_uk/tools/LemmatizeText.groovy\"\n",
    "\n",
    "def lemmatization(\n",
    "    in_data_path, \n",
    "    in_file_name, \n",
    "    out_data_path, \n",
    "    out_file_name, \n",
    "    system_path=SYSTEM_PATH, \n",
    "    lem_path=LEM_PATH\n",
    "):\n",
    "    in_path = os.path.join(in_data_path, in_file_name)\n",
    "    out_path = os.path.join(out_data_path, out_file_name)\n",
    "    \n",
    "    lem_command = \"groovy \" + os.path.join(system_path, lem_path) + \" -i \" + in_path + \" -o \" + out_path\n",
    "    os.system(lem_command)"
   ]
  },
  {
   "cell_type": "code",
   "execution_count": 9,
   "metadata": {},
   "outputs": [],
   "source": [
    "def simple_text_preparation(text):\n",
    "    new_text = remove_paragraph(text)\n",
    "    new_text = unicode_normalization(new_text)\n",
    "    new_text = to_lowercase(new_text)\n",
    "    new_text = remove_punctuation(new_text)\n",
    "    new_text = remove_numbers(new_text)\n",
    "    return new_text"
   ]
  },
  {
   "cell_type": "code",
   "execution_count": 23,
   "metadata": {},
   "outputs": [],
   "source": [
    "def text_preparation(\n",
    "    in_data_path,\n",
    "    in_file_name,\n",
    "    out_data_path,\n",
    "    out_file_name,\n",
    "):\n",
    "    with open(os.path.join(in_data_path, in_file_name), 'r') as file:\n",
    "        text = file.read()\n",
    "        file.close()\n",
    "    new_text = remove_paragraph(text)\n",
    "    new_text = to_lowercase(new_text)\n",
    "    new_text = remove_punctuation(new_text)\n",
    "    new_text = replace_numbers(new_text)\n",
    "    with open(os.path.join(out_data_path, out_file_name),\"w\") as out_put:\n",
    "        out_put.write(new_text)\n",
    "        out_put.close()\n",
    "    \n",
    "    lemmatization(\n",
    "        in_data_path,\n",
    "        in_file_name,\n",
    "        out_data_path,\n",
    "        out_file_name\n",
    "    )"
   ]
  },
  {
   "cell_type": "code",
   "execution_count": 24,
   "metadata": {},
   "outputs": [],
   "source": [
    "# test\n",
    "\n",
    "text_preparation(\n",
    "    in_data_path='',\n",
    "    in_file_name='text.txt',\n",
    "    out_data_path='',\n",
    "    out_file_name='file.txt',\n",
    ")"
   ]
  },
  {
   "cell_type": "markdown",
   "metadata": {},
   "source": [
    "### Підготовка тексту"
   ]
  },
  {
   "cell_type": "code",
   "execution_count": 25,
   "metadata": {},
   "outputs": [
    {
     "name": "stderr",
     "output_type": "stream",
     "text": [
      "100%|██████████| 1923/1923 [00:00<00:00, 37075.42it/s]"
     ]
    },
    {
     "name": "stdout",
     "output_type": "stream",
     "text": [
      "some error\n"
     ]
    },
    {
     "name": "stderr",
     "output_type": "stream",
     "text": [
      "\n"
     ]
    }
   ],
   "source": [
    "IN_DATA_PATH = 'reviews-data/negative/'\n",
    "OUT_DATA_PATH = 'lem-data/negative/'\n",
    "\n",
    "checking_file_kist = os.listdir(OUT_DATA_PATH)\n",
    "\n",
    "files_list = os.listdir(IN_DATA_PATH)\n",
    "for file in tqdm(files_list):\n",
    "    if file not in checking_file_kist:\n",
    "        try:\n",
    "            text_preparation(\n",
    "                in_data_path=IN_DATA_PATH,\n",
    "                in_file_name=file,\n",
    "                out_data_path=OUT_DATA_PATH,\n",
    "                out_file_name=file,\n",
    "            )\n",
    "        except:\n",
    "            print('some error')"
   ]
  },
  {
   "cell_type": "code",
   "execution_count": null,
   "metadata": {},
   "outputs": [],
   "source": []
  },
  {
   "cell_type": "code",
   "execution_count": 26,
   "metadata": {},
   "outputs": [
    {
     "name": "stderr",
     "output_type": "stream",
     "text": [
      "100%|██████████| 1113/1113 [00:00<00:00, 31153.72it/s]"
     ]
    },
    {
     "name": "stdout",
     "output_type": "stream",
     "text": [
      "some error\n"
     ]
    },
    {
     "name": "stderr",
     "output_type": "stream",
     "text": [
      "\n"
     ]
    }
   ],
   "source": [
    "IN_DATA_PATH = 'reviews-data/positive/'\n",
    "OUT_DATA_PATH = 'lem-data/positive/'\n",
    "\n",
    "checking_file_kist = os.listdir(OUT_DATA_PATH)\n",
    "\n",
    "files_list = os.listdir(IN_DATA_PATH)\n",
    "for file in tqdm(files_list):\n",
    "    if file not in checking_file_kist:\n",
    "        try:\n",
    "            text_preparation(\n",
    "                in_data_path=IN_DATA_PATH,\n",
    "                in_file_name=file,\n",
    "                out_data_path=OUT_DATA_PATH,\n",
    "                out_file_name=file,\n",
    "            )\n",
    "        except:\n",
    "            print('some error')"
   ]
  },
  {
   "cell_type": "markdown",
   "metadata": {},
   "source": [
    "#### Simple - test"
   ]
  },
  {
   "cell_type": "code",
   "execution_count": 11,
   "metadata": {},
   "outputs": [],
   "source": [
    "import pandas as pd"
   ]
  },
  {
   "cell_type": "code",
   "execution_count": 12,
   "metadata": {},
   "outputs": [],
   "source": [
    "df = pd.read_csv(\"not-clean-data.csv\")"
   ]
  },
  {
   "cell_type": "code",
   "execution_count": 14,
   "metadata": {},
   "outputs": [],
   "source": [
    "df.text = df.text.apply(simple_text_preparation)"
   ]
  },
  {
   "cell_type": "code",
   "execution_count": 15,
   "metadata": {},
   "outputs": [
    {
     "data": {
      "text/html": [
       "<div>\n",
       "<style scoped>\n",
       "    .dataframe tbody tr th:only-of-type {\n",
       "        vertical-align: middle;\n",
       "    }\n",
       "\n",
       "    .dataframe tbody tr th {\n",
       "        vertical-align: top;\n",
       "    }\n",
       "\n",
       "    .dataframe thead th {\n",
       "        text-align: right;\n",
       "    }\n",
       "</style>\n",
       "<table border=\"1\" class=\"dataframe\">\n",
       "  <thead>\n",
       "    <tr style=\"text-align: right;\">\n",
       "      <th></th>\n",
       "      <th>Unnamed: 0</th>\n",
       "      <th>text</th>\n",
       "      <th>target</th>\n",
       "    </tr>\n",
       "  </thead>\n",
       "  <tbody>\n",
       "    <tr>\n",
       "      <th>0</th>\n",
       "      <td>0</td>\n",
       "      <td>forty-one thousand, one hundred and fifteen за...</td>\n",
       "      <td>positive</td>\n",
       "    </tr>\n",
       "    <tr>\n",
       "      <th>1</th>\n",
       "      <td>1</td>\n",
       "      <td>замовила globex gu803 чохол globex eight thirt...</td>\n",
       "      <td>negative</td>\n",
       "    </tr>\n",
       "    <tr>\n",
       "      <th>2</th>\n",
       "      <td>2</td>\n",
       "      <td>замовили нову посудомийну машину 1102доставили...</td>\n",
       "      <td>negative</td>\n",
       "    </tr>\n",
       "    <tr>\n",
       "      <th>3</th>\n",
       "      <td>3</td>\n",
       "      <td>замовив намет в неділю ввечері мені вона потрі...</td>\n",
       "      <td>negative</td>\n",
       "    </tr>\n",
       "    <tr>\n",
       "      <th>4</th>\n",
       "      <td>4</td>\n",
       "      <td>замовив навушники на розетці через оплату част...</td>\n",
       "      <td>negative</td>\n",
       "    </tr>\n",
       "  </tbody>\n",
       "</table>\n",
       "</div>"
      ],
      "text/plain": [
       "   Unnamed: 0                                               text    target\n",
       "0           0  forty-one thousand, one hundred and fifteen за...  positive\n",
       "1           1  замовила globex gu803 чохол globex eight thirt...  negative\n",
       "2           2  замовили нову посудомийну машину 1102доставили...  negative\n",
       "3           3  замовив намет в неділю ввечері мені вона потрі...  negative\n",
       "4           4  замовив навушники на розетці через оплату част...  negative"
      ]
     },
     "execution_count": 15,
     "metadata": {},
     "output_type": "execute_result"
    }
   ],
   "source": [
    "df.head()"
   ]
  },
  {
   "cell_type": "code",
   "execution_count": 17,
   "metadata": {},
   "outputs": [],
   "source": [
    "df = df.drop('Unnamed: 0', 1)"
   ]
  },
  {
   "cell_type": "code",
   "execution_count": 18,
   "metadata": {},
   "outputs": [],
   "source": [
    "df.to_csv('data-simply-cleaned-v2.csv', index=False)"
   ]
  },
  {
   "cell_type": "code",
   "execution_count": null,
   "metadata": {},
   "outputs": [],
   "source": []
  },
  {
   "cell_type": "code",
   "execution_count": null,
   "metadata": {},
   "outputs": [],
   "source": []
  },
  {
   "cell_type": "code",
   "execution_count": null,
   "metadata": {},
   "outputs": [],
   "source": []
  }
 ],
 "metadata": {
  "kernelspec": {
   "display_name": "Python (myenv)",
   "language": "python",
   "name": "myenv"
  },
  "language_info": {
   "codemirror_mode": {
    "name": "ipython",
    "version": 3
   },
   "file_extension": ".py",
   "mimetype": "text/x-python",
   "name": "python",
   "nbconvert_exporter": "python",
   "pygments_lexer": "ipython3",
   "version": "3.7.5"
  }
 },
 "nbformat": 4,
 "nbformat_minor": 2
}
